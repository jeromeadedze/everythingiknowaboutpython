{
 "cells": [
  {
   "cell_type": "markdown",
   "id": "143c2132",
   "metadata": {},
   "source": [
    "\n",
    "## What is Python?\n",
    "---\n",
    "Python is a computer programming language often used to build websites and software, automate tasks, and conduct data analysis. \n",
    "\n",
    "Python is a general-purpose language, meaning it can be used to create a variety of different programs and isn’t specialized for any specific problems.\n",
    "\n",
    "### What you can do with Python\n",
    "---\n",
    "Python is great for building the back-end of websites, data analysis, accessing API data, machine learning, and automating repetitive tasks."
   ]
  },
  {
   "cell_type": "markdown",
   "id": "8c35ade9",
   "metadata": {},
   "source": [
    "## What To Know About Python\n",
    "\n",
    "---\n",
    "\n",
    "## 1. Python is an Object oriented programming language\n",
    "\n",
    "### Concepts of Object Oriented Programming\n",
    "\n",
    "- Object-Oriented Programming is a programming paradigm ***(methodology)*** that organizes code into objects.\n",
    "\n",
    "- Objects are instances ***(products)*** of classes. \n",
    "\n",
    "> Programming paradigms are different ways or styles/methodology in which a given program or programming language can be organized.\n",
    "It is basically the classification, style or way of programming.\n",
    "\n",
    "- It allows you to create reusable code by modeling real-world entities as objects. (meaning you can design your code to mimic real-world objects, their characteristics, and their interactions.)\n",
    "\n",
    "- Examples of real world objects that OOP can mimic are Cars, Bank Accounts, Employees, Animals, Shopping Cart,...\n",
    "\n",
    "\n",
    "### Understanding a Class\n",
    "\n",
    "### Class: A class is a blueprint/design plan/template from which individual objects are created. \n",
    "\n",
    "For example: blueprint of a car(shows what the car is made up of: body,wheels,engine)\n",
    "\n",
    "<img src = \"../img/Screenshot1.png\"\n",
    "     height= \"400px\"\n",
    "width= \"720px\">\n",
    "\n",
    "NB: The blueprint itself is not a car, it's like a definition\n",
    "or a guide to how the car looks like.\n",
    "\n",
    "### Objects: An object is the  actual representation/product of a class.\n",
    "\n",
    "***Objects have properties, also known as attributes***, which describe their characteristics. For example, a car object may have ***properties like color, model, and speed.***\n",
    "\n",
    "***Objects also have methods, which are their functions***. Using our car example, methods would include fuctions like starting the engine or accelerating.\n",
    "\n",
    "<img src = \"../img/Screenshot2.png\"\n",
    "     height= \"400px\"\n",
    "width= \"720px\">\n",
    "\n",
    "### Let's take a look at this analogy\n",
    "\n",
    "Think of a Python class as a blueprint for constructing buildings, and objects as the actual buildings constructed based on those blueprints.\n",
    "\n",
    "1. Blueprint (Class): A blueprint in the context of Python classes represents the architectural plans and specifications for a building. It outlines the structure, layout, and features of the building.\n",
    "\n",
    "2. Buildings (Objects): When you follow the blueprint and construct a building, you're creating an ***instance of that blueprint***. Each building can have its own unique design, size, and purpose, while still adhering to the guidelines of the blueprint.\n",
    "\n",
    "Just as a blueprint guides the construction of multiple buildings with similar characteristics, ***a Python class provides the structure and definition for creating different objects with shared properties and behaviors.***\n",
    "\n",
    "When you create objects from a class, you're essentially using the blueprint to build specific buildings. Each object (building) created from the class (blueprint) can have its own distinct attributes, but they all follow the specifications outlined in the class.\n",
    "\n",
    "This analogy highlights how a Python class serves as a blueprint for constructing objects, and each object (building) constructed from the class (blueprint) can have its own individual features, while still inheriting the common structure and properties defined by the class."
   ]
  },
  {
   "cell_type": "markdown",
   "id": "a0d2875d",
   "metadata": {},
   "source": [
    "## 2. Python is known as an Interpreted Language\n",
    "\n",
    "When you run code in an interpreted language, another program called the interpreter reads your code and tells the computer what to do. \n",
    "\n",
    "This is different from other languages like Java or C++, which are compiled languages. With a compiled language, a compiler translates your code into binary, the language your computer understands. The computer itself then reads that binary and runs it. \n",
    "\n",
    "***An Interpreter*** takes written code and converts it into a language the computer understands. \n",
    "Without an interpreter, your Python code is just words on a screen."
   ]
  },
  {
   "cell_type": "markdown",
   "id": "4dc6ee4d",
   "metadata": {},
   "source": [
    "## Links\n",
    "---\n",
    "### OOP\n",
    "https://realpython.com/lessons/what-object-oriented-programming-oop/\n",
    "\n",
    "### Objects\n",
    "https://study.com/learn/lesson/objects-python-overview-examples.html"
   ]
  },
  {
   "cell_type": "markdown",
   "id": "b65c6093",
   "metadata": {},
   "source": [
    "## Misc:\n",
    "\n",
    "### Glossary\n",
    "\n",
    "--- \n",
    "\n",
    "1. ***Console***\n",
    "In order to run Python programs, we use something called the console. ***The console allows you to run programs and see the result of whatever you run.***\n",
    "The console is where you will see ***error messages, prompts for user input, and output from print statements***.\n",
    "\n",
    "2. Data is information such as facts and numbers used to analyze something or make decisions. ***Computer data*** is information in a form that can be processed by a computer.\n",
    "3. A ***Code*** is a sequence of instructions from which programs are developed\n",
    "4. A ***method*** is an action that you can take on an object ***or actions that can be taken on specific objects*** </br>\n",
    "***NB*** :Methods are used right after an object (such as a string or a list)\n",
    "\n",
    "#### Look at this analogy: \n",
    "If you think of an object as being similar to a noun, then a method is similar to a verb. \n",
    "Also,If a real-world window was an object in python, its methods might be .open() or .close()."
   ]
  },
  {
   "cell_type": "code",
   "execution_count": null,
   "id": "013b4c7b",
   "metadata": {},
   "outputs": [],
   "source": []
  }
 ],
 "metadata": {
  "kernelspec": {
   "display_name": "Python 3 (ipykernel)",
   "language": "python",
   "name": "python3"
  },
  "language_info": {
   "codemirror_mode": {
    "name": "ipython",
    "version": 3
   },
   "file_extension": ".py",
   "mimetype": "text/x-python",
   "name": "python",
   "nbconvert_exporter": "python",
   "pygments_lexer": "ipython3",
   "version": "3.9.13"
  }
 },
 "nbformat": 4,
 "nbformat_minor": 5
}
