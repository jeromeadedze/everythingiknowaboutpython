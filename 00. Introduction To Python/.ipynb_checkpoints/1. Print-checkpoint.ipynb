{
 "cells": [
  {
   "cell_type": "markdown",
   "id": "4b175bdf",
   "metadata": {},
   "source": [
    "## Hello World!\n",
    "You are about to experience a rite of passage for all new programmers: writing your first Hello World program! To do this, we will learn about the ```print``` function, the first of many of our new tools. \n",
    "\n",
    "The `print` function, put simply, writes text to your console. The computer will display whatever you put between the parentheses of the print function, such as a word, a number, or a sentence in the console.\n",
    "\n",
    "Let’s go see how it works!"
   ]
  },
  {
   "cell_type": "code",
   "execution_count": 2,
   "id": "9e65afba",
   "metadata": {},
   "outputs": [
    {
     "name": "stdout",
     "output_type": "stream",
     "text": [
      "Hello World!\n"
     ]
    }
   ],
   "source": [
    "print(\"Hello World!\")"
   ]
  },
  {
   "cell_type": "markdown",
   "id": "9b70447a",
   "metadata": {},
   "source": [
    "### What can you print? \n",
    "\n",
    "`print` works for many different types of text, ***including words, numbers, and symbols***. \n",
    "- If you want to print a number, just put the number in as an argument. \n",
    "- If you want to put a word or a sentence, you need to surround it in quotation marks to tell the computer that it is looking at written words instead of Python code. print doesn’t actually write out the quotation marks, but you have to include them as a programmer so that Python understands what you mean.\n",
    "\n",
    "### Printing Multiple Line Of Code\n",
    "By default, when you run multiple lines of code in Python, only the output of the last line will be displayed. If you want to see the output of each line, you need to use the print function for each line individually.\n",
    "\n",
    "For example, consider the following code snippet:"
   ]
  },
  {
   "cell_type": "code",
   "execution_count": 3,
   "id": "e76a6497",
   "metadata": {},
   "outputs": [
    {
     "data": {
      "text/plain": [
       "12"
      ]
     },
     "execution_count": 3,
     "metadata": {},
     "output_type": "execute_result"
    }
   ],
   "source": [
    "# Notice how only the last line of code is executed, \n",
    "# If you want an output for every line you must include print\n",
    "(2+4)\n",
    "(5+7)"
   ]
  },
  {
   "cell_type": "code",
   "execution_count": 4,
   "id": "d3e723d5",
   "metadata": {},
   "outputs": [
    {
     "name": "stdout",
     "output_type": "stream",
     "text": [
      "6\n",
      "12\n"
     ]
    }
   ],
   "source": [
    "# to fix this we use print on every line to get the out put\n",
    "print(2+4)\n",
    "print(5+7)"
   ]
  },
  {
   "cell_type": "markdown",
   "id": "e12e5d77",
   "metadata": {},
   "source": [
    "Now, when you run this updated code, you will see the output of both calculations. The print function is used to display the result of each line, making it clear and explicit that you want to print the output."
   ]
  },
  {
   "cell_type": "markdown",
   "id": "bf6dc81f",
   "metadata": {},
   "source": [
    "<img src = \"../img/CIP1.png\"\n",
    "     height= \"400px\"\n",
    "width= \"720px\">"
   ]
  },
  {
   "cell_type": "code",
   "execution_count": null,
   "id": "8e585ccf",
   "metadata": {},
   "outputs": [],
   "source": []
  }
 ],
 "metadata": {
  "kernelspec": {
   "display_name": "Python 3 (ipykernel)",
   "language": "python",
   "name": "python3"
  },
  "language_info": {
   "codemirror_mode": {
    "name": "ipython",
    "version": 3
   },
   "file_extension": ".py",
   "mimetype": "text/x-python",
   "name": "python",
   "nbconvert_exporter": "python",
   "pygments_lexer": "ipython3",
   "version": "3.9.13"
  }
 },
 "nbformat": 4,
 "nbformat_minor": 5
}
