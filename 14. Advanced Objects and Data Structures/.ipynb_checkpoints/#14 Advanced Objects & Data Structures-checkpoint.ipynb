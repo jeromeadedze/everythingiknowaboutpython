{
 "cells": [
  {
   "cell_type": "markdown",
   "id": "051a05fb",
   "metadata": {},
   "source": [
    "# Advanced Objects and Data Structures\n",
    "\n",
    "## Advanced Numbers\n",
    "\n",
    "### Hexadecimal\n",
    "\n",
    "### Converting ordinary numbers to hexadecimal numbers `hex()`\n",
    "\n",
    "We use the `hex(ordinary_number)`\n",
    "\n",
    "\n",
    "### Converting ordinary numbers to binary numbers `bin()`\n",
    "\n",
    "We use the `bin(ordinary_number)`\n",
    "\n",
    "### Funtion for powers\n"
   ]
  },
  {
   "cell_type": "code",
   "execution_count": 1,
   "id": "080e7206",
   "metadata": {},
   "outputs": [
    {
     "data": {
      "text/plain": [
       "16"
      ]
     },
     "execution_count": 1,
     "metadata": {},
     "output_type": "execute_result"
    }
   ],
   "source": [
    "2 ** 4"
   ]
  },
  {
   "cell_type": "code",
   "execution_count": 2,
   "id": "739aed49",
   "metadata": {},
   "outputs": [
    {
     "data": {
      "text/plain": [
       "16"
      ]
     },
     "execution_count": 2,
     "metadata": {},
     "output_type": "execute_result"
    }
   ],
   "source": [
    "# Another way is using the pow() function\n",
    "\n",
    "pow(2,4)"
   ]
  },
  {
   "cell_type": "markdown",
   "id": "af406d2a",
   "metadata": {},
   "source": [
    "### Function for absolute value `abs( )`\n",
    "\n"
   ]
  },
  {
   "cell_type": "code",
   "execution_count": 3,
   "id": "287ed912",
   "metadata": {},
   "outputs": [
    {
     "data": {
      "text/plain": [
       "1000"
      ]
     },
     "execution_count": 3,
     "metadata": {},
     "output_type": "execute_result"
    }
   ],
   "source": [
    "abs(-1000)"
   ]
  },
  {
   "cell_type": "markdown",
   "id": "ba500ec2",
   "metadata": {},
   "source": [
    "### Function for rounding a number \n",
    "### `round(number,no_of decimal_places)`"
   ]
  },
  {
   "cell_type": "code",
   "execution_count": 4,
   "id": "61bb26f5",
   "metadata": {},
   "outputs": [
    {
     "data": {
      "text/plain": [
       "4"
      ]
     },
     "execution_count": 4,
     "metadata": {},
     "output_type": "execute_result"
    }
   ],
   "source": [
    "round(3.8)"
   ]
  },
  {
   "cell_type": "code",
   "execution_count": 6,
   "id": "024a8903",
   "metadata": {},
   "outputs": [
    {
     "data": {
      "text/plain": [
       "3.14"
      ]
     },
     "execution_count": 6,
     "metadata": {},
     "output_type": "execute_result"
    }
   ],
   "source": [
    "# adding a decimal place\n",
    "round(3.141592,2)"
   ]
  },
  {
   "cell_type": "markdown",
   "id": "9680d8b1",
   "metadata": {},
   "source": [
    "## Advanced Strings"
   ]
  },
  {
   "cell_type": "code",
   "execution_count": 8,
   "id": "e494f14a",
   "metadata": {},
   "outputs": [
    {
     "data": {
      "text/plain": [
       "'Hello world'"
      ]
     },
     "execution_count": 8,
     "metadata": {},
     "output_type": "execute_result"
    }
   ],
   "source": [
    "s = \"hello World\"\n",
    "\n",
    "# Using capitalize() - capitalizes the first word in a string\n",
    "s.capitalize()"
   ]
  },
  {
   "cell_type": "code",
   "execution_count": 10,
   "id": "05357c6c",
   "metadata": {},
   "outputs": [
    {
     "data": {
      "text/plain": [
       "'HELLO WORLD'"
      ]
     },
     "execution_count": 10,
     "metadata": {},
     "output_type": "execute_result"
    }
   ],
   "source": [
    "# Using .upper() capitalized all letters in a string\n",
    "\n",
    "s.upper()"
   ]
  },
  {
   "cell_type": "markdown",
   "id": "a33cead8",
   "metadata": {},
   "source": [
    "### `isalnum()` , `isalpha()`, `islower()`, `isupper()`"
   ]
  },
  {
   "cell_type": "code",
   "execution_count": 13,
   "id": "a02ca0c9",
   "metadata": {},
   "outputs": [
    {
     "data": {
      "text/plain": [
       "True"
      ]
     },
     "execution_count": 13,
     "metadata": {},
     "output_type": "execute_result"
    }
   ],
   "source": [
    "# isalnum() checks whether a string contains alphanumeric characters\n",
    "\n",
    "b = \"hello1\"\n",
    "b.isalnum()"
   ]
  },
  {
   "cell_type": "code",
   "execution_count": 27,
   "id": "00a1099f",
   "metadata": {},
   "outputs": [
    {
     "data": {
      "text/plain": [
       "False"
      ]
     },
     "execution_count": 27,
     "metadata": {},
     "output_type": "execute_result"
    }
   ],
   "source": [
    "# isalpha() checks whether a string contains only alphabets\n",
    "\n",
    "b = \"hello1345\"\n",
    "b.isalpha()"
   ]
  },
  {
   "cell_type": "code",
   "execution_count": 28,
   "id": "c21e7622",
   "metadata": {},
   "outputs": [],
   "source": [
    "# islower() checks whether all string characters are lower case \n",
    "\n",
    "c = \"hello\""
   ]
  },
  {
   "cell_type": "code",
   "execution_count": 29,
   "id": "c76d5bfc",
   "metadata": {},
   "outputs": [
    {
     "data": {
      "text/plain": [
       "True"
      ]
     },
     "execution_count": 29,
     "metadata": {},
     "output_type": "execute_result"
    }
   ],
   "source": [
    "c.islower()"
   ]
  },
  {
   "cell_type": "code",
   "execution_count": 30,
   "id": "15c6cd04",
   "metadata": {},
   "outputs": [
    {
     "data": {
      "text/plain": [
       "False"
      ]
     },
     "execution_count": 30,
     "metadata": {},
     "output_type": "execute_result"
    }
   ],
   "source": [
    "# isupper() checks whether all string characters are upper case \n",
    "\n",
    "c.isupper()"
   ]
  },
  {
   "cell_type": "markdown",
   "id": "842eba54",
   "metadata": {},
   "source": [
    "### `endswith('character')`"
   ]
  },
  {
   "cell_type": "code",
   "execution_count": 31,
   "id": "fa74def2",
   "metadata": {},
   "outputs": [
    {
     "data": {
      "text/plain": [
       "True"
      ]
     },
     "execution_count": 31,
     "metadata": {},
     "output_type": "execute_result"
    }
   ],
   "source": [
    "# endswith() checks whether the last character ends with a \n",
    "# specified character\n",
    "\n",
    "d = \"Jerome\"\n",
    "\n",
    "d.endswith(\"e\")"
   ]
  },
  {
   "cell_type": "code",
   "execution_count": 32,
   "id": "f5e386a0",
   "metadata": {},
   "outputs": [
    {
     "data": {
      "text/plain": [
       "True"
      ]
     },
     "execution_count": 32,
     "metadata": {},
     "output_type": "execute_result"
    }
   ],
   "source": [
    "# The code below does the same thing\n",
    "\n",
    "d[-1] == \"e\""
   ]
  },
  {
   "cell_type": "markdown",
   "id": "0a29b938",
   "metadata": {},
   "source": [
    "### `split('some_character')` - splits string at a certain element and returns a list of the result,  (it splits at every occurrence of the character\")"
   ]
  },
  {
   "cell_type": "code",
   "execution_count": 33,
   "id": "11ec143b",
   "metadata": {},
   "outputs": [
    {
     "data": {
      "text/plain": [
       "['Jer', 'me']"
      ]
     },
     "execution_count": 33,
     "metadata": {},
     "output_type": "execute_result"
    }
   ],
   "source": [
    "d.split(\"o\")"
   ]
  },
  {
   "cell_type": "code",
   "execution_count": 34,
   "id": "558aaa85",
   "metadata": {},
   "outputs": [
    {
     "data": {
      "text/plain": [
       "['h', '', 'hh', 'h', 'h', 'h', 'h']"
      ]
     },
     "execution_count": 34,
     "metadata": {},
     "output_type": "execute_result"
    }
   ],
   "source": [
    "# NB: It splits at every occurrence of the character\n",
    "e = \"hiihhihihihih\"\n",
    "e.split(\"i\")"
   ]
  },
  {
   "cell_type": "code",
   "execution_count": 36,
   "id": "26a45805",
   "metadata": {},
   "outputs": [
    {
     "data": {
      "text/plain": [
       "['My', 'name', 'is', 'Jerome']"
      ]
     },
     "execution_count": 36,
     "metadata": {},
     "output_type": "execute_result"
    }
   ],
   "source": [
    "# Can be used to split words in a sentence\n",
    "e = \"My name is Jerome\"\n",
    "\n",
    "# A space is also a character\n",
    "e.split(\" \")"
   ]
  },
  {
   "cell_type": "markdown",
   "id": "afd5689c",
   "metadata": {},
   "source": [
    "## Advanced Sets\n",
    "\n",
    "### `clear()` - clears items in a set\n",
    "### `copy()` - copies an existing set\n",
    "### `difference()` - checks the difference in items between two sets\n",
    "### `discard()` - removes items in a set\n"
   ]
  },
  {
   "cell_type": "code",
   "execution_count": null,
   "id": "fae8ff63",
   "metadata": {},
   "outputs": [],
   "source": []
  }
 ],
 "metadata": {
  "kernelspec": {
   "display_name": "Python 3 (ipykernel)",
   "language": "python",
   "name": "python3"
  },
  "language_info": {
   "codemirror_mode": {
    "name": "ipython",
    "version": 3
   },
   "file_extension": ".py",
   "mimetype": "text/x-python",
   "name": "python",
   "nbconvert_exporter": "python",
   "pygments_lexer": "ipython3",
   "version": "3.9.13"
  }
 },
 "nbformat": 4,
 "nbformat_minor": 5
}
