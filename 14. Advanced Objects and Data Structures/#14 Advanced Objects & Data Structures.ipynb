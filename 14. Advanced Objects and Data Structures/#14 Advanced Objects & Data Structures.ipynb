{
 "cells": [
  {
   "cell_type": "markdown",
   "id": "f1918963",
   "metadata": {},
   "source": [
    "# Advanced Objects and Data Structures\n",
    "\n",
    "## Advanced Numbers\n",
    "\n",
    "### Hexadecimal\n",
    "\n",
    "### Converting ordinary numbers to hexadecimal numbers `hex()`\n",
    "\n",
    "We use the `hex(ordinary_number)`\n",
    "\n",
    "\n",
    "### Converting ordinary numbers to binary numbers `bin()`\n",
    "\n",
    "We use the `bin(ordinary_number)`\n",
    "\n",
    "### Funtion for powers\n"
   ]
  },
  {
   "cell_type": "code",
   "execution_count": 1,
   "id": "d9821ec9",
   "metadata": {},
   "outputs": [
    {
     "data": {
      "text/plain": [
       "16"
      ]
     },
     "execution_count": 1,
     "metadata": {},
     "output_type": "execute_result"
    }
   ],
   "source": [
    "2 ** 4"
   ]
  },
  {
   "cell_type": "code",
   "execution_count": 2,
   "id": "c53a8736",
   "metadata": {},
   "outputs": [
    {
     "data": {
      "text/plain": [
       "16"
      ]
     },
     "execution_count": 2,
     "metadata": {},
     "output_type": "execute_result"
    }
   ],
   "source": [
    "# Another way is using the pow() function\n",
    "\n",
    "pow(2,4)"
   ]
  },
  {
   "cell_type": "markdown",
   "id": "f3e54eb4",
   "metadata": {},
   "source": [
    "### Function for absolute value `abs( )`\n",
    "\n"
   ]
  },
  {
   "cell_type": "code",
   "execution_count": 3,
   "id": "3b413b62",
   "metadata": {},
   "outputs": [
    {
     "data": {
      "text/plain": [
       "1000"
      ]
     },
     "execution_count": 3,
     "metadata": {},
     "output_type": "execute_result"
    }
   ],
   "source": [
    "abs(-1000)"
   ]
  },
  {
   "cell_type": "markdown",
   "id": "b6d16cfe",
   "metadata": {},
   "source": [
    "### Function for rounding a number \n",
    "### `round(number,no_of decimal_places)`"
   ]
  },
  {
   "cell_type": "code",
   "execution_count": 4,
   "id": "fc208a09",
   "metadata": {},
   "outputs": [
    {
     "data": {
      "text/plain": [
       "4"
      ]
     },
     "execution_count": 4,
     "metadata": {},
     "output_type": "execute_result"
    }
   ],
   "source": [
    "round(3.8)"
   ]
  },
  {
   "cell_type": "code",
   "execution_count": 6,
   "id": "3a6226c8",
   "metadata": {},
   "outputs": [
    {
     "data": {
      "text/plain": [
       "3.14"
      ]
     },
     "execution_count": 6,
     "metadata": {},
     "output_type": "execute_result"
    }
   ],
   "source": [
    "# adding a decimal place\n",
    "round(3.141592,2)"
   ]
  },
  {
   "cell_type": "markdown",
   "id": "8e2fba89",
   "metadata": {},
   "source": [
    "## Advanced Strings"
   ]
  },
  {
   "cell_type": "code",
   "execution_count": 8,
   "id": "532eed7a",
   "metadata": {},
   "outputs": [
    {
     "data": {
      "text/plain": [
       "'Hello world'"
      ]
     },
     "execution_count": 8,
     "metadata": {},
     "output_type": "execute_result"
    }
   ],
   "source": [
    "s = \"hello World\"\n",
    "\n",
    "# Using capitalize() - capitalizes the first word in a string\n",
    "s.capitalize()"
   ]
  },
  {
   "cell_type": "code",
   "execution_count": 10,
   "id": "de13a030",
   "metadata": {},
   "outputs": [
    {
     "data": {
      "text/plain": [
       "'HELLO WORLD'"
      ]
     },
     "execution_count": 10,
     "metadata": {},
     "output_type": "execute_result"
    }
   ],
   "source": [
    "# Using .upper() capitalized all letters in a string\n",
    "\n",
    "s.upper()"
   ]
  },
  {
   "cell_type": "markdown",
   "id": "724c8b81",
   "metadata": {},
   "source": [
    "### `isalnum()` , `isalpha()`, `islower()`, `isupper()`"
   ]
  },
  {
   "cell_type": "code",
   "execution_count": 13,
   "id": "4fa1dabc",
   "metadata": {},
   "outputs": [
    {
     "data": {
      "text/plain": [
       "True"
      ]
     },
     "execution_count": 13,
     "metadata": {},
     "output_type": "execute_result"
    }
   ],
   "source": [
    "# isalnum() checks whether a string contains alphanumeric characters\n",
    "\n",
    "b = \"hello1\"\n",
    "b.isalnum()"
   ]
  },
  {
   "cell_type": "code",
   "execution_count": 27,
   "id": "7ff8a188",
   "metadata": {},
   "outputs": [
    {
     "data": {
      "text/plain": [
       "False"
      ]
     },
     "execution_count": 27,
     "metadata": {},
     "output_type": "execute_result"
    }
   ],
   "source": [
    "# isalpha() checks whether a string contains only alphabets\n",
    "\n",
    "b = \"hello1345\"\n",
    "b.isalpha()"
   ]
  },
  {
   "cell_type": "code",
   "execution_count": 28,
   "id": "de610d77",
   "metadata": {},
   "outputs": [],
   "source": [
    "# islower() checks whether all string characters are lower case \n",
    "\n",
    "c = \"hello\""
   ]
  },
  {
   "cell_type": "code",
   "execution_count": 29,
   "id": "048ba268",
   "metadata": {},
   "outputs": [
    {
     "data": {
      "text/plain": [
       "True"
      ]
     },
     "execution_count": 29,
     "metadata": {},
     "output_type": "execute_result"
    }
   ],
   "source": [
    "c.islower()"
   ]
  },
  {
   "cell_type": "code",
   "execution_count": 30,
   "id": "b35475eb",
   "metadata": {},
   "outputs": [
    {
     "data": {
      "text/plain": [
       "False"
      ]
     },
     "execution_count": 30,
     "metadata": {},
     "output_type": "execute_result"
    }
   ],
   "source": [
    "# isupper() checks whether all string characters are upper case \n",
    "\n",
    "c.isupper()"
   ]
  },
  {
   "cell_type": "markdown",
   "id": "bab91c3f",
   "metadata": {},
   "source": [
    "### `endswith('character')`"
   ]
  },
  {
   "cell_type": "code",
   "execution_count": 31,
   "id": "83324265",
   "metadata": {},
   "outputs": [
    {
     "data": {
      "text/plain": [
       "True"
      ]
     },
     "execution_count": 31,
     "metadata": {},
     "output_type": "execute_result"
    }
   ],
   "source": [
    "# endswith() checks whether the last character ends with a \n",
    "# specified character\n",
    "\n",
    "d = \"Jerome\"\n",
    "\n",
    "d.endswith(\"e\")"
   ]
  },
  {
   "cell_type": "code",
   "execution_count": 32,
   "id": "1d6a91c6",
   "metadata": {},
   "outputs": [
    {
     "data": {
      "text/plain": [
       "True"
      ]
     },
     "execution_count": 32,
     "metadata": {},
     "output_type": "execute_result"
    }
   ],
   "source": [
    "# The code below does the same thing\n",
    "\n",
    "d[-1] == \"e\""
   ]
  },
  {
   "cell_type": "markdown",
   "id": "d7f531e0",
   "metadata": {},
   "source": [
    "### `split('some_character')` - splits string at a certain element and returns a list of the result,  (it splits at every occurrence of the character\")"
   ]
  },
  {
   "cell_type": "code",
   "execution_count": 33,
   "id": "6d2ffaf4",
   "metadata": {},
   "outputs": [
    {
     "data": {
      "text/plain": [
       "['Jer', 'me']"
      ]
     },
     "execution_count": 33,
     "metadata": {},
     "output_type": "execute_result"
    }
   ],
   "source": [
    "d.split(\"o\")"
   ]
  },
  {
   "cell_type": "code",
   "execution_count": 34,
   "id": "cad0f340",
   "metadata": {},
   "outputs": [
    {
     "data": {
      "text/plain": [
       "['h', '', 'hh', 'h', 'h', 'h', 'h']"
      ]
     },
     "execution_count": 34,
     "metadata": {},
     "output_type": "execute_result"
    }
   ],
   "source": [
    "# NB: It splits at every occurrence of the character\n",
    "e = \"hiihhihihihih\"\n",
    "e.split(\"i\")"
   ]
  },
  {
   "cell_type": "code",
   "execution_count": 36,
   "id": "0e20e0bb",
   "metadata": {},
   "outputs": [
    {
     "data": {
      "text/plain": [
       "['My', 'name', 'is', 'Jerome']"
      ]
     },
     "execution_count": 36,
     "metadata": {},
     "output_type": "execute_result"
    }
   ],
   "source": [
    "# Can be used to split words in a sentence\n",
    "e = \"My name is Jerome\"\n",
    "\n",
    "# A space is also a character\n",
    "e.split(\" \")"
   ]
  },
  {
   "cell_type": "markdown",
   "id": "7d8943f0",
   "metadata": {},
   "source": [
    "## Advanced Sets\n",
    "\n",
    "### `clear()` - clears items in a set\n",
    "### `copy()` - copies an existing set\n",
    "### `difference()` - checks the difference in items between two sets\n",
    "### `discard()` - removes items in a set\n"
   ]
  },
  {
   "cell_type": "code",
   "execution_count": null,
   "id": "e6a72ce0",
   "metadata": {},
   "outputs": [],
   "source": []
  }
 ],
 "metadata": {
  "kernelspec": {
   "display_name": "Python 3 (ipykernel)",
   "language": "python",
   "name": "python3"
  },
  "language_info": {
   "codemirror_mode": {
    "name": "ipython",
    "version": 3
   },
   "file_extension": ".py",
   "mimetype": "text/x-python",
   "name": "python",
   "nbconvert_exporter": "python",
   "pygments_lexer": "ipython3",
   "version": "3.9.13"
  }
 },
 "nbformat": 4,
 "nbformat_minor": 5
}
