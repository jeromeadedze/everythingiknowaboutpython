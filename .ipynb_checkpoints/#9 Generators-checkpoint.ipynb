{
 "cells": [
  {
   "cell_type": "markdown",
   "id": "273f657e",
   "metadata": {},
   "source": [
    "## Generators\n",
    "\n",
    "A generator is a just function that returns an iterable object which we can iterate over ***(one value at a time)***. Moreover, a generator function has one main difference from a regular function. It has a yield statement instead of a return statement in a regular function.\n",
    "\n",
    "To put it simply, a Generator function is a special kind of function that returns multiple items. The point here is that the items are returned one by one rather than all at once.\n",
    "\n",
    "The main difference between a regular function and a Generator function lies in the use of ***return and yield statements*** respectively in Python."
   ]
  },
  {
   "cell_type": "markdown",
   "id": "3c86bce0",
   "metadata": {},
   "source": [
    "## Creating Generators\n",
    "\n",
    "A function becomes a generator function if it contains at least one yield statement (it may contain several yield and even return). To make it clear, yield and return return some values from a function. So, you just have to build function with at least one yield\n",
    "\n",
    "The main difference is that return statement terminates a function entirely while yieldstatement pauses a function saving all its states and later continues from there on successive calls."
   ]
  },
  {
   "cell_type": "markdown",
   "id": "8f99f582",
   "metadata": {},
   "source": [
    "## Differences Between Generator Function and Regular Function\n",
    "\n",
    "Let’s take a look at all differences between a generator function and a regular function:\n",
    "\n",
    "1. A generator function includes one or more yield statements.\n",
    "2. It returns an iterator object but does not execute immediately.\n",
    "3. Methods such as__iter__() and __next__() are implemented automatically. It means that we can iterate through the items using next().\n",
    "4. Once the function yields, it is paused and the control is handed over to the caller.\n",
    "5. Local variables and their states are memorized between successive calls.\n",
    "6. When A generator function finishes, StopIteration is raised automatically on further calls.\n",
    "\n",
    "The main difference is that yield saves the state of the function. The next time the function is called, execution continues from where it left off, with the same variable values it had before yielding, whereas the return statement terminates the function completely. Another difference is that generator functions don’t even run a function, it only creates and returns a generator object. Lastly, the code in generator functions only execute when next() is called on the generator object.\n",
    "\n"
   ]
  },
  {
   "cell_type": "code",
   "execution_count": 6,
   "id": "4ec1862e",
   "metadata": {},
   "outputs": [
    {
     "name": "stdout",
     "output_type": "stream",
     "text": [
      "1 -- This is first\n",
      "2 -- This is second\n",
      "3 -- This is third and the last\n"
     ]
    },
    {
     "ename": "StopIteration",
     "evalue": "",
     "output_type": "error",
     "traceback": [
      "\u001b[0;31m---------------------------------------------------------------------------\u001b[0m",
      "\u001b[0;31mStopIteration\u001b[0m                             Traceback (most recent call last)",
      "\u001b[0;32m/var/folders/vj/vn07m31j1n7fs08rkytvgvj80000gn/T/ipykernel_46684/1611646475.py\u001b[0m in \u001b[0;36m<module>\u001b[0;34m\u001b[0m\n\u001b[1;32m     18\u001b[0m \u001b[0mnext\u001b[0m\u001b[0;34m(\u001b[0m\u001b[0mgen\u001b[0m\u001b[0;34m)\u001b[0m\u001b[0;34m\u001b[0m\u001b[0;34m\u001b[0m\u001b[0m\n\u001b[1;32m     19\u001b[0m \u001b[0mnext\u001b[0m\u001b[0;34m(\u001b[0m\u001b[0mgen\u001b[0m\u001b[0;34m)\u001b[0m\u001b[0;34m\u001b[0m\u001b[0;34m\u001b[0m\u001b[0m\n\u001b[0;32m---> 20\u001b[0;31m \u001b[0mnext\u001b[0m\u001b[0;34m(\u001b[0m\u001b[0mgen\u001b[0m\u001b[0;34m)\u001b[0m\u001b[0;34m\u001b[0m\u001b[0;34m\u001b[0m\u001b[0m\n\u001b[0m",
      "\u001b[0;31mStopIteration\u001b[0m: "
     ]
    }
   ],
   "source": [
    "# The following example illustrates all of these points:\n",
    "def simple_generator():\n",
    "    num = 1\n",
    "    print(f\"{num} -- This is first\")\n",
    "    yield num\n",
    "\n",
    "    num += 1\n",
    "    print(f\"{num} -- This is second\")\n",
    "    yield num\n",
    "\n",
    "    num += 1\n",
    "    print(f\"{num} -- This is third and the last\")\n",
    "    yield num\n",
    "\n",
    "\n",
    "gen = simple_generator()\n",
    "next(gen)\n",
    "next(gen)\n",
    "next(gen)\n",
    "next(gen)"
   ]
  },
  {
   "cell_type": "markdown",
   "id": "2a64a639",
   "metadata": {},
   "source": [
    "1. An interesting thing to notice is that the value of the variable num is memorized between every call.\n",
    "\n",
    "2. Unlike regular functions, the local variables are not destroyed when the function yields. Furthermore, a generator object can only be iterated one time.\n",
    "\n",
    "3. To start the process again, you have to create another a generator object using something like gen = simple_generator().\n",
    "\n",
    "4. The last point to notice is that you can use generators with for loops directly.\n",
    "\n",
    "5. This is because a for loop takes an iterator and iterates over it using a next() function. It automatically ends when StopIteration is raised."
   ]
  },
  {
   "cell_type": "markdown",
   "id": "8683f632",
   "metadata": {},
   "source": [
    "Link for in depth understanding of generators \n",
    "https://betterprogramming.pub/4-reasons-why-should-be-using-python-generators-660458b0085d\n",
    "\n",
    "What is a,b = b, a+b?\n",
    "\n",
    "Been trying different things after looking at the Fibonacci example and I can't understand how\n",
    "\n",
    "a,b = b, a+b\n",
    "\n",
    "iterates differently than\n",
    "\n",
    "a = b\n",
    "\n",
    "b = a+b\n",
    "\n",
    "I tested both and they are in fact different, but I can't seem to understand why after trying different things and doing some research. The one at the top correctly iterates the Fibonacci sequence, but I guess I don't understand how it breaks down? Any hints or explanation would be well appreciated.\n",
    "\n",
    "replies\n",
    "\n",
    "\n",
    "\n",
    "That's because of the order that things are being done.\n",
    "\n",
    "Let's suppose that a is 3 and b is 5, if we use this syntax: a, b = b, a+b the interpreter will reassign these variables to a, b = 5, 3+5 , so, at the next iteration, it will be a, b = 8, 8+5 , and so on, respecting the Fibonacci sequence.\n",
    "\n",
    "It's possible because you're assigning two values at once, thus, the value of a will not assume the value of b prematurely, unlike in\n",
    "\n",
    "a = b\n",
    "b = a+b\n",
    "Supposing that they have the same values as above. it would be something like:\n",
    "\n",
    "a = 5\n",
    "b = 5 + 5\n",
    "So, at the next iteration\n",
    "\n",
    "a = 10\n",
    "b = 10+10\n",
    "And that's why the first case works.\n",
    "\n",
    "\n",
    "\n",
    "Jose — Instructor\n",
    "\n",
    "Because if you assign a=b first, then b=a+b is actually becoming b = b+b"
   ]
  }
 ],
 "metadata": {
  "kernelspec": {
   "display_name": "Python 3 (ipykernel)",
   "language": "python",
   "name": "python3"
  },
  "language_info": {
   "codemirror_mode": {
    "name": "ipython",
    "version": 3
   },
   "file_extension": ".py",
   "mimetype": "text/x-python",
   "name": "python",
   "nbconvert_exporter": "python",
   "pygments_lexer": "ipython3",
   "version": "3.9.13"
  }
 },
 "nbformat": 4,
 "nbformat_minor": 5
}
