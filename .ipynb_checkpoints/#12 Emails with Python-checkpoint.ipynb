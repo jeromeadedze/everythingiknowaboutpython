{
 "cells": [
  {
   "cell_type": "markdown",
   "id": "81aa8e42",
   "metadata": {},
   "source": [
    "# Emails With Python\n",
    "\n",
    "NB:\n",
    "- The process is reliant on your admin permissions on your computer, your internet and your email.It might be blocked for security reasons when you try using your work computer or work email.\n",
    "\n"
   ]
  },
  {
   "cell_type": "markdown",
   "id": "4a495676",
   "metadata": {},
   "source": [
    "## Sending Emails\n",
    "\n",
    "To send emails with Python we need to maunually \n",
    "- connect to an email server\n",
    "- confirm the connection\n",
    "- set a protocol\n",
    "- sign in \n",
    "- and send the email message\n",
    "\n",
    "The built-in `smtplib` library performs these steps with simple function calls.\n",
    "\n",
    "Each email provider has their own server domain\n",
    "<img src = \"img/emailserverdomain.png\"\n",
    "     height=\"400px\"\n",
    "     width=\"720px\">\n",
    "\n",
    "\n",
    "\n"
   ]
  },
  {
   "cell_type": "code",
   "execution_count": 1,
   "id": "526821d1",
   "metadata": {},
   "outputs": [],
   "source": [
    "# Import smtplib library\n",
    "import smtplib"
   ]
  },
  {
   "cell_type": "code",
   "execution_count": null,
   "id": "17a412be",
   "metadata": {},
   "outputs": [],
   "source": []
  }
 ],
 "metadata": {
  "kernelspec": {
   "display_name": "Python 3 (ipykernel)",
   "language": "python",
   "name": "python3"
  },
  "language_info": {
   "codemirror_mode": {
    "name": "ipython",
    "version": 3
   },
   "file_extension": ".py",
   "mimetype": "text/x-python",
   "name": "python",
   "nbconvert_exporter": "python",
   "pygments_lexer": "ipython3",
   "version": "3.9.13"
  }
 },
 "nbformat": 4,
 "nbformat_minor": 5
}
