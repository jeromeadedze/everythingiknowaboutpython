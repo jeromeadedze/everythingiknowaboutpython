{
 "cells": [
  {
   "cell_type": "markdown",
   "id": "e7333638",
   "metadata": {},
   "source": [
    "# Statements\n",
    "\n",
    "Any instruction written in the source code and executed by the Python interpreter is called a statement. \n",
    "\n",
    "A statement is a group of expressions that you design to carry out a task or an action.\n",
    "\n",
    "***In simple words, a statement is a section of code that represents a command or action.***\n",
    "\n",
    "There are mainly four types of statements in Python, \n",
    "- Print statements, \n",
    "- Assignment statements, \n",
    "- Conditional statements, \n",
    "- Looping statements.\n",
    "\n",
    "***The print and assignment statements*** are commonly used. \n",
    "\n",
    "The result of a print statement is a value. \n",
    "\n",
    "***Assignment statements don’t produce a result*** it just assigns a value to the operand on its left side.\n",
    "\n",
    "\n",
    "A ***conditional statement*** is a logical expression where operators compare, evaluate, or check if the input meets the conditions and returns ‘True’. If yes, the interpreter executes a specific set of instructions. On the other hand, ***looping statements*** repeatedly execute a set of instructions as long as the defined conditions are met or satisfied."
   ]
  },
  {
   "cell_type": "code",
   "execution_count": 2,
   "id": "0b3e9956",
   "metadata": {},
   "outputs": [
    {
     "name": "stdout",
     "output_type": "stream",
     "text": [
      "Hello\n"
     ]
    }
   ],
   "source": [
    "# Print Statement\n",
    "print('Hello')\n",
    "\n",
    "# Assignment Statement\n",
    "# Assignment Statements doesn't output the result\n",
    "x = 20"
   ]
  },
  {
   "cell_type": "markdown",
   "id": "1c088da6",
   "metadata": {},
   "source": [
    "## if-elif-else Conditions\n",
    "## if Statement\n",
    "\n",
    "The ***if statement*** makes a decision based on whether a condition is true or not.\n",
    "\n",
    "- If the condition is true, it prints out the indented expression(instruction). \n",
    "\n",
    "- If the condition is false, it skips printing the indented expression(instruction). \n",
    "\n",
    "\n",
    "Syntax: \n",
    ">`if some_condition`:\n",
    "        >>`some_expression(instruction)`\n",
    "\n",
    "***anything within the indent is executed or not based on the truth of the condition.***\n",
    "\n",
    "## if-else condition\n",
    "The ***if-else condition*** adds an additional step in the decision-making process compared to the simple if statement. The beginning of an if-else statement operates similar to a simple if statement; however, if the condition is false, instead of printing nothing, the indented expression under else will be printed.\n",
    "\n",
    "Syntax: \n",
    ">`if some_condition`:\n",
    "        >>`some_expression(instruction)`\n",
    "\n",
    "> `else some_condition`:\n",
    "        >>`some_expression(instruction)`\n",
    "\n",
    "## if-elif-else condition\n",
    "you can place as many ***elif conditions*** as necessary between the if condition and the else condition. </br>\n",
    "\n",
    "the condition which returns a true result will execute its expression.\n",
    "\n",
    "if the if conditon is false it moves the elif condition, incase the elif condition is false it moves to the else condition.\n",
    "\n",
    "Syntax: \n",
    ">`if some_condition`:\n",
    "        >>`some_expression(instruction)`\n",
    "\n",
    "> `elif some_condition`:\n",
    "        >>`some_expression(instruction)`\n",
    "\n",
    "> `else some_condition`:\n",
    "        >>`some_expression(instruction)`\n"
   ]
  },
  {
   "cell_type": "markdown",
   "id": "1f893827",
   "metadata": {},
   "source": [
    "### Clarify A Term: \n",
    "***Iterators*** are methods that return members/subitems of collections like lists, tuples, etc. \n",
    "\n",
    "An iterator is like a vending machine that can deliver individually separate and distinct items each time you ask for one. \n",
    "\n",
    "Using an iterator method, we can loop through an object and return its elements.\n",
    "\n",
    "Note this: </br>\n",
    "***Iterable*** is an object that allows you to go over its sub-items.\n",
    "\n",
    "***For example*** a list of numbers is iterable because you can go over the items in the list, which are numbers.\n",
    "\n",
    "Also a string is iterable, you can go over the letters in the string.\n",
    "\n",
    "A single number is not iterable, there's no sub-items that it contains to go over.\n",
    "\n",
    "Objects like lists, tuples, sets, dictionaries, strings, etc. are called iterables.\n"
   ]
  },
  {
   "cell_type": "markdown",
   "id": "426ea71a",
   "metadata": {},
   "source": [
    "### Check Out A Thread I Found On Twitter About An Iterator\n",
    "\n",
    "<img src = \"img/Screenshot 8.png\"\n",
    "     height= \"400px\"\n",
    "width= \"720px\">\n",
    "\n",
    "<img src = \"img/Screenshot 09.png\"\n",
    "     height= \"400px\"\n",
    "width= \"720px\">\n",
    "\n",
    "<img src = \"img/Screenshot 10.png\"\n",
    "     height= \"400px\"\n",
    "width= \"720px\">\n",
    "\n",
    "<img src = \"img/Screenshot 11.png\"\n",
    "     height= \"400px\"\n",
    "width= \"720px\">\n",
    "\n",
    "<img src = \"img/Screenshot 12.png\"\n",
    "     height= \"400px\"\n",
    "width= \"720px\">\n",
    "\n",
    "<img src = \"img/Screenshot 13.png\"\n",
    "     height= \"400px\"\n",
    "width= \"720px\">\n",
    "\n",
    "<img src = \"img/Screenshot 14.png\"\n",
    "     height= \"400px\"\n",
    "width= \"720px\">"
   ]
  },
  {
   "cell_type": "markdown",
   "id": "a9f0decd",
   "metadata": {},
   "source": [
    "## for Loops\n",
    "\n",
    "the ***for loop*** is used to run a block of code for a certain number of times. It is used to iterate over any sequences such as list, tuple, string, etc. (acts as an iterator) </br>\n",
    "Syntax: </br>\n",
    "***for*** item ***in*** object </br>\n",
    "   ***indent*** *    statement to do staff\n",
    "\n",
    "The name **item** is just a variable name, the variable name used depends on you.\n",
    "\n",
    "* ***for loop can be used with the if-else statement*** </br>\n",
    "1. it can be used to go through a list of numbers and check which numbers are even or odd. \n",
    "2. it can sum up a list.\n",
    "3. it can be used on tuples. (helps with tuple unpacking): when a list is within a sequence.\n",
    "4. it can be used on dictionary to perform unpacking.(separate keys and values)\n"
   ]
  },
  {
   "cell_type": "code",
   "execution_count": 2,
   "id": "ba4eac97",
   "metadata": {},
   "outputs": [
    {
     "name": "stdout",
     "output_type": "stream",
     "text": [
      "1 is odd\n",
      "2 is even\n",
      "3 is odd\n",
      "4 is even\n",
      "5 is odd\n",
      "6 is even\n",
      "7 is odd\n",
      "8 is even\n",
      "9 is odd\n",
      "10 is even\n"
     ]
    }
   ],
   "source": [
    "#1\n",
    "num_list = [1,2,3,4,5,6,7,8,9,10]\n",
    "for num in num_list:\n",
    "    if num%2 == 0:\n",
    "        print(f\"{num} is even\")\n",
    "    else:\n",
    "        print(f\"{num} is odd\")"
   ]
  },
  {
   "cell_type": "code",
   "execution_count": 5,
   "id": "524b1471",
   "metadata": {},
   "outputs": [
    {
     "name": "stdout",
     "output_type": "stream",
     "text": [
      "55\n"
     ]
    }
   ],
   "source": [
    "#2\n",
    "list_sum = 0\n",
    "num_list = [1,2,3,4,5,6,7,8,9,10]\n",
    "for num in num_list:\n",
    "    list_sum += num\n",
    "print(list_sum)"
   ]
  },
  {
   "cell_type": "markdown",
   "id": "8150856c",
   "metadata": {},
   "source": [
    "#2 above simply means that initially the variable **list_sum** had a sum of zero. </br>\n",
    "Later a list of numbers were created. </br>\n",
    "Then the for loop was used to go through each item(number) in the list ***one by one*** and for every item(number) it was added to the value of the list_sum.\n",
    "\n",
    "So it goes to 1, and adds its value to 0. The new value for **list_sum** becomes 1.</br>\n",
    "It then goes to 2, and adds it value to 1. The new value for **list_sum** becomes 3. </br>\n",
    "Does this to the last item.\n"
   ]
  },
  {
   "cell_type": "code",
   "execution_count": 1,
   "id": "e1aea732",
   "metadata": {},
   "outputs": [
    {
     "name": "stdout",
     "output_type": "stream",
     "text": [
      "('Selorm', 17)\n",
      "('Jerome', 18)\n",
      "('Kwame', 19)\n"
     ]
    }
   ],
   "source": [
    "#3 tuple unpacking\n",
    "list = [(\"Selorm\",17),(\"Jerome\",18),(\"Kwame\",19)]\n",
    "for list_item in list:\n",
    "    print(list_item)"
   ]
  },
  {
   "cell_type": "code",
   "execution_count": 2,
   "id": "00c8eb45",
   "metadata": {},
   "outputs": [
    {
     "name": "stdout",
     "output_type": "stream",
     "text": [
      "Selorm\n",
      "17\n",
      "Jerome\n",
      "18\n",
      "Kwame\n",
      "19\n"
     ]
    }
   ],
   "source": [
    "# we can unpack the tuple inside the list to access the individual items inside the tuple\n",
    "for (item1,item2) in list:\n",
    "    print(item1)\n",
    "    print(item2)"
   ]
  },
  {
   "cell_type": "code",
   "execution_count": 5,
   "id": "001019d3",
   "metadata": {},
   "outputs": [
    {
     "name": "stdout",
     "output_type": "stream",
     "text": [
      "Selorm\n",
      "2004\n",
      "Jerome\n",
      "2005\n",
      "Kwame\n",
      "2006\n"
     ]
    }
   ],
   "source": [
    "#4 \n",
    "dict = {\"Selorm\":2004,\"Jerome\":2005,\"Kwame\":2006}\n",
    "dict.items() #creating a items of dictionary into a list (since .items() method supports iteration)\n",
    "for (key,value) in dict.items():\n",
    "    print(key)\n",
    "    print(value)\n",
    "    \n"
   ]
  },
  {
   "cell_type": "markdown",
   "id": "fa72a124",
   "metadata": {},
   "source": [
    "## while loops: \n",
    "A ***while loop*** is a control flow statement which allows code to be executed repeatedly, depending on whether a condition is satisfied or not. </br>\n",
    "A while statement will repeatedly execute a single statement or group of statements as long as the condition is true.\n",
    "\n",
    "while test: </br>\n",
    "indent*    code statements </br>\n",
    "else: </br>\n",
    "indent*    final code statements\n",
    "\n"
   ]
  },
  {
   "cell_type": "code",
   "execution_count": 35,
   "id": "74cedaa4",
   "metadata": {},
   "outputs": [
    {
     "name": "stdout",
     "output_type": "stream",
     "text": [
      "x is currently:  0\n",
      " x is still less than 10, adding 1 to x\n",
      "x is currently:  1\n",
      " x is still less than 10, adding 1 to x\n",
      "x is currently:  2\n",
      " x is still less than 10, adding 1 to x\n",
      "x is currently:  3\n",
      " x is still less than 10, adding 1 to x\n",
      "x is currently:  4\n",
      " x is still less than 10, adding 1 to x\n",
      "x is currently:  5\n",
      " x is still less than 10, adding 1 to x\n",
      "x is currently:  6\n",
      " x is still less than 10, adding 1 to x\n",
      "x is currently:  7\n",
      " x is still less than 10, adding 1 to x\n",
      "x is currently:  8\n",
      " x is still less than 10, adding 1 to x\n",
      "x is currently:  9\n",
      " x is still less than 10, adding 1 to x\n"
     ]
    }
   ],
   "source": [
    "# Eg. Notice how the print statement \"x is currently:\" stops at 9. \n",
    "# This is because the while loop had a condition \"x < 10\"\n",
    "# meaning as long as X < 10, it performs the following instructions within the loop\n",
    "x = 0\n",
    "\n",
    "while x < 10:\n",
    "    print('x is currently: ',x)\n",
    "    print(' x is still less than 10, adding 1 to x')\n",
    "    x+=1\n",
    "    "
   ]
  },
  {
   "cell_type": "markdown",
   "id": "02e9837d",
   "metadata": {},
   "source": [
    "## break, continue, pass\n",
    "### break: A break statement in Python alters the flow of a loop by terminating it once a specified condition is met\n",
    "\n",
    "When used inside a loop (for or while), break is used to immediately exit the loop's body and continue executing the rest of the code after the loop. It is often used to terminate a loop when a certain condition is met.\n",
    "\n",
    "For example, you are searching a specific email inside a file. You started reading a file line by line using a loop. When you found an email, you can stop the loop using the break statement.\n",
    "\n",
    "<img src = \"img/Screenshot15.png\"\n",
    "     height= \"400px\"\n",
    "width= \"720px\">"
   ]
  },
  {
   "cell_type": "code",
   "execution_count": 6,
   "id": "57b4e798",
   "metadata": {},
   "outputs": [
    {
     "name": "stdout",
     "output_type": "stream",
     "text": [
      "Number is 0\n",
      "Number is 1\n",
      "Number is 2\n",
      "Number is 3\n",
      "Number is 4\n",
      "Out of loop\n"
     ]
    }
   ],
   "source": [
    "#1 using break\n",
    "number = [0,1,2,3,4,5,6,7,8,9,10]\n",
    "\n",
    "for num in number:\n",
    "    if num == 5:\n",
    "        break    # break here\n",
    "\n",
    "    print('Number is ' + str(num))\n",
    "\n",
    "print('Out of loop')\n"
   ]
  },
  {
   "cell_type": "markdown",
   "id": "d47c42fe",
   "metadata": {},
   "source": [
    "### continue: The continue statement skip the current iteration and move to the next iteration. \n",
    "\n",
    "In Python, when the continue statement is encountered inside the loop, it skips all the statements below it and immediately jumps to the next iteration.</br>\n",
    "(this depends on the condition added)\n",
    "\n",
    "If an item makes a condition true skip that item and go back to the loop to continue your iteration. </br>\n",
    " **Analyse the code below:**"
   ]
  },
  {
   "cell_type": "code",
   "execution_count": 8,
   "id": "04cc2879",
   "metadata": {},
   "outputs": [
    {
     "name": "stdout",
     "output_type": "stream",
     "text": [
      "Iteration: 0\n",
      "Iteration: 1\n",
      "Iteration: 2\n",
      "Iteration: 3\n",
      "Iteration: 4\n",
      "Skipping the instruction to print Iteration: 5 since num==5,      Moving to 6 to continue iteration\n",
      "Iteration: 6\n",
      "Iteration: 7\n",
      "Iteration: 8\n",
      "Iteration: 9\n"
     ]
    }
   ],
   "source": [
    "# Using the for loop and if, when the if condition was met ie num==5\n",
    "# Any intruction below the continue statement is skipped(But notice the instructed above took place)\n",
    "# And it moves to continue to the next iteration 6.\n",
    "for num in range(0,10):\n",
    "    if num == 5:\n",
    "        print(f\"Skipping the instruction to print Iteration: {num} since num==5,      Moving to 6 to continue iteration\")\n",
    "        continue\n",
    "    print(f'Iteration: {num}')\n",
    "    \n",
    "    "
   ]
  },
  {
   "cell_type": "markdown",
   "id": "8e19b772",
   "metadata": {},
   "source": [
    "### Pass:\n",
    "The pass statement tells the program to disregard a condition and continue to run the program as usual.\n",
    "\n",
    "Basically instructs python to do nothing.\n",
    "\n",
    "The pass statement is typically used while creating a method that we don’t want to use right now. It’s often used as a placeholder for future code."
   ]
  },
  {
   "cell_type": "markdown",
   "id": "8d92028d",
   "metadata": {},
   "source": [
    "### Useful Operators in Python\n",
    "\n",
    "1. The ***range function*** allows you to quickly generate a list of integers.</br>\n",
    "There are 3 parameters you can pass, a start, a stop, and a step size. </br>\n",
    "***range is a generator function***(look into generators later) </br>\n",
    "synthax : range(start,stop,step-size)\n",
    "\n",
    "2. ***enumerate***:  takes in iterable objects and returns the index number along with it corresponding element. Useful with for loops\n",
    "***enumerate was created so you don't need to worry about creating and updating this index_count or loop_count variable***\n",
    "\n",
    "3. ***zip***: can zip/join together lists and pair them up based on index positioning. (can be used for tuple unpacking)\n",
    "\n",
    "4. ***in***: checks whether an element is within an iterable object. Returns True or False.\n",
    "\n",
    "5. ***min***: Reports min value within a list.\n",
    "6. ***max***: Reports max value within a list.\n",
    "\n",
    "7. ***random***: Helps with importing functions from python's built-in library. </br>\n",
    "* Syntax: **from** random **import** name of function </br>\n",
    "eg. of a function from the library is **shuffle** and **randint**\n",
    "8. ***input***: Enables python request for a user input. </br>\n",
    "We usually assign a variable to save the result from the input function.</br>\n",
    "NB: ***It accepts anything as a string***,so if you want the result to be a specific data type we attach a function that will convert it right away initially. </br>\n",
    "like ***int( ).***"
   ]
  },
  {
   "cell_type": "markdown",
   "id": "d68b5140",
   "metadata": {},
   "source": [
    "## List Comprehension:  List comprehension is an easy to read, compact, and elegant way of creating a list from any existing iterable object. \n",
    "\n",
    "Basically, it's a simpler way to create a new list from the values in an existing list or objects.</br>\n",
    "It is generally a single line of code enclosed in square brackets. </br>\n",
    "\n",
    "Syntax:</br>\n",
    "<img src = \"img/Screenshot16.png\"\n",
    "     height= \"400px\"\n",
    "width= \"720px\"> </br>\n",
    "\n",
    "\n"
   ]
  },
  {
   "cell_type": "code",
   "execution_count": 3,
   "id": "71827945",
   "metadata": {},
   "outputs": [
    {
     "name": "stdout",
     "output_type": "stream",
     "text": [
      "[1, 2, 3, 4, 5, 6, 7, 8, 9, 10]\n",
      "[2, 4, 6, 8, 10]\n"
     ]
    }
   ],
   "source": [
    "# USING SIMPLE LIST COMPREHENSION\n",
    "lst = [1,2,3,4,5,6,7,8,9,10]\n",
    "a = [x for x in lst]\n",
    "b = [x for x in lst if x%2 == 0]\n",
    "print(a)\n",
    "print(b)"
   ]
  },
  {
   "cell_type": "code",
   "execution_count": 46,
   "id": "26aad121",
   "metadata": {},
   "outputs": [
    {
     "name": "stdout",
     "output_type": "stream",
     "text": [
      "[1, 2, 3, 4, 5, 6, 7, 8, 9, 10]\n"
     ]
    }
   ],
   "source": [
    "# WITHOUT USING LIST COMPREHENSION\n",
    "lst = [1,2,3,4,5,6,7,8,9,10]\n",
    "a = []\n",
    "for x in lst:\n",
    "    a.append(x)\n",
    "print(a)"
   ]
  },
  {
   "cell_type": "markdown",
   "id": "afa9a08b",
   "metadata": {},
   "source": [
    "### Going Over Some Concepts\n",
    "\n",
    "1. The while loop in python runs until the \"while\" condition is satisfied.\n",
    "2. The \"while true\" loop in python runs without any conditions until the break statement executes inside the loop.\n",
    "3. To run a statement if a python while loop fails, the programmer can implement a python \"while\" with else loop.\n",
    "\n",
    "The ***while loop in python*** is a way to run a code block ***until the condition returns true repeatedly.*** Unlike ***the \"for\" loop in python***, the while loop ***does not initialize or increment the variable value automatically.*** As a programmer, you have to write this explicitly, such as \"i = i + 2\". It is necessary to be extra cautious while writing the python \"while\" loop as these missing statements can lead to an infinite loop in python. For example, if you forgot to increment the value of the variable \"i\" , the condition \"i < x\" inside \"while\" will always return \"True\". It is therefore advisable to construct this loop carefully and give it a read after writing.\n",
    "\n",
    "<img src = \"img/Screenshot17.png\"\n",
    "     height= \"400px\"\n",
    "width= \"720px\"> </br>"
   ]
  },
  {
   "cell_type": "markdown",
   "id": "9d3260a5",
   "metadata": {},
   "source": [
    "#### Using while True , executes the instructions in the loop infinitely.\n"
   ]
  },
  {
   "cell_type": "code",
   "execution_count": 5,
   "id": "a8bea092",
   "metadata": {},
   "outputs": [
    {
     "name": "stdout",
     "output_type": "stream",
     "text": [
      "Number is 0!\n",
      "Number is 1!\n",
      "Number is 2!\n",
      "Number is 3!\n",
      "Number is 4!\n",
      "Number is 5!\n",
      "Number is 6!\n",
      "Number is 7!\n",
      "Number is 8!\n",
      "Number is 9!\n"
     ]
    }
   ],
   "source": [
    "number = 0 # accompanied by variable to determine when loop stops\n",
    "while number < 10:\n",
    "    print(f\"Number is {number}!\")\n",
    "    number = number + 1 # number increment always added\n"
   ]
  },
  {
   "cell_type": "markdown",
   "id": "5797a2b8",
   "metadata": {},
   "source": [
    "while loops are typically accompanied by a variable whose value changes throughout the duration of the loop. And it ultimately determines when the loop will end.\n",
    "\n",
    "If you do not add this line, you will create an infinite loop.\n",
    "\n",
    "number will not be incremented and updated. It will always be set and remain at 0 and therefore the condition ***number < 10 will be True forever.*** This means that the loop will continue to loop forever."
   ]
  }
 ],
 "metadata": {
  "kernelspec": {
   "display_name": "Python 3 (ipykernel)",
   "language": "python",
   "name": "python3"
  },
  "language_info": {
   "codemirror_mode": {
    "name": "ipython",
    "version": 3
   },
   "file_extension": ".py",
   "mimetype": "text/x-python",
   "name": "python",
   "nbconvert_exporter": "python",
   "pygments_lexer": "ipython3",
   "version": "3.9.13"
  }
 },
 "nbformat": 4,
 "nbformat_minor": 5
}
