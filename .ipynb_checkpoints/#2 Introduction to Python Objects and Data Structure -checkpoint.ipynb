{
 "cells": [
  {
   "cell_type": "markdown",
   "id": "ed358b4f",
   "metadata": {},
   "source": [
    "# Objects And Data Structure 2"
   ]
  },
  {
   "cell_type": "markdown",
   "id": "8982a2d8",
   "metadata": {},
   "source": [
    "## Data Types\n",
    "## 2. Lists\n",
    "\n",
    "A list is an ordered sequence that can hold variety of object types (integers,strings,....) </br>\n",
    "\n",
    "***Remember:*** A ***sequence*** is a positionally ordered collection of items. And you can refer to any item in the sequence by using its index number.\n",
    "\n",
    "Unlike strings, lists are mutable. </br>\n",
    "\n",
    "Lists are \n",
    "- made by enclosing items with a `[]` \n",
    "- each item is separated with a `,` \n",
    "\n",
    "### Just like strings we can:\n",
    "1. use the ***len( )*** function to know the number of items in a list.\n",
    "2.  use Indexing and Slicing \n",
    "3. use `+` to concatenate lists\n",
    "    - meaning we can add an extra item to a list\n",
    "    - add a list to a list </br>\n",
    "(but it doesn't alter orginal list unless we reassign the list to make a permanent change)\n",
    "\n",
    "\n"
   ]
  },
  {
   "cell_type": "code",
   "execution_count": 1,
   "id": "f4a6f6e4",
   "metadata": {},
   "outputs": [
    {
     "data": {
      "text/plain": [
       "3"
      ]
     },
     "execution_count": 1,
     "metadata": {},
     "output_type": "execute_result"
    }
   ],
   "source": [
    "# 1 Using len()\n",
    "sample_list = [\"Jerome\", \"Selorm\", \"Adedze\"]\n",
    "len(sample_list)"
   ]
  },
  {
   "cell_type": "code",
   "execution_count": 2,
   "id": "fadaf9d5",
   "metadata": {},
   "outputs": [
    {
     "data": {
      "text/plain": [
       "['Selorm', 'Adedze']"
      ]
     },
     "execution_count": 2,
     "metadata": {},
     "output_type": "execute_result"
    }
   ],
   "source": [
    "# 2 Indexing and slicing lists\n",
    "sample_list[1:]"
   ]
  },
  {
   "cell_type": "code",
   "execution_count": 3,
   "id": "049aa10d",
   "metadata": {},
   "outputs": [
    {
     "data": {
      "text/plain": [
       "['Jerome', 'Selorm', 'Adedze', 'Kwame']"
      ]
     },
     "execution_count": 3,
     "metadata": {},
     "output_type": "execute_result"
    }
   ],
   "source": [
    "# 3 Concatenating Strings\n",
    "sample_list + [\"Kwame\"]"
   ]
  },
  {
   "cell_type": "code",
   "execution_count": 4,
   "id": "b30de502",
   "metadata": {},
   "outputs": [
    {
     "data": {
      "text/plain": [
       "['Jerome', 'Selorm', 'Adedze']"
      ]
     },
     "execution_count": 4,
     "metadata": {},
     "output_type": "execute_result"
    }
   ],
   "source": [
    "# If we call out sample_list we can only see the orginal list \n",
    "# without the concatenated item.\n",
    "sample_list"
   ]
  },
  {
   "cell_type": "code",
   "execution_count": 5,
   "id": "ca6490d7",
   "metadata": {},
   "outputs": [
    {
     "data": {
      "text/plain": [
       "['Jerome', 'Selorm', 'Adedze', 'Kwame']"
      ]
     },
     "execution_count": 5,
     "metadata": {},
     "output_type": "execute_result"
    }
   ],
   "source": [
    "# To permanently add a list item we have to reassign it\n",
    "newsample_list = sample_list + [\"Kwame\"]\n",
    "newsample_list"
   ]
  },
  {
   "cell_type": "markdown",
   "id": "20b5235d",
   "metadata": {},
   "source": [
    "### List Methods\n",
    "1. `.append( )` : adds a new item at the end of a list\n",
    "2. `.pop( )` : removes an item from a list, we can use indexing to specify which item to remove\n",
    "3. `.sort( )`\n",
    "4. `.reverse( )` : reverse order of items in a list\n",
    "\n"
   ]
  },
  {
   "cell_type": "code",
   "execution_count": 1,
   "id": "1e097658",
   "metadata": {},
   "outputs": [
    {
     "data": {
      "text/plain": [
       "['item1', 'item2', 'added item']"
      ]
     },
     "execution_count": 1,
     "metadata": {},
     "output_type": "execute_result"
    }
   ],
   "source": [
    "# 1 Adding new item to list\n",
    "sample_list = [\"item1\",\"item2\"]\n",
    "sample_list.append(\"added item\")\n",
    "sample_list"
   ]
  },
  {
   "cell_type": "code",
   "execution_count": 2,
   "id": "30605e87",
   "metadata": {},
   "outputs": [
    {
     "data": {
      "text/plain": [
       "['item1', 'item2', 'added item']"
      ]
     },
     "execution_count": 2,
     "metadata": {},
     "output_type": "execute_result"
    }
   ],
   "source": [
    "# NB: the item added is permanent \n",
    "sample_list"
   ]
  },
  {
   "cell_type": "code",
   "execution_count": 4,
   "id": "3f5168d9",
   "metadata": {},
   "outputs": [
    {
     "data": {
      "text/plain": [
       "'item2'"
      ]
     },
     "execution_count": 4,
     "metadata": {},
     "output_type": "execute_result"
    }
   ],
   "source": [
    "# 2 Removing item from a list\n",
    "\n",
    "sample_list.pop() \n",
    "\n",
    "#NB we can specify which item to remove using indexing inside the ()"
   ]
  },
  {
   "cell_type": "markdown",
   "id": "ec6d9b95",
   "metadata": {},
   "source": [
    "### Terminology\n",
    " \n",
    "***In-place operation*** is an operation that changes directly the content of a container without making a copy\n",
    "\n",
    "***in-place methods:*** the methods that can alter the contents of the list without making a copy ,</br>\n",
    "The original content gets modified rather than the method returning a new content\n",
    "\n",
    "examples of in-place methods .sort( ), .append( ), .reverse( ) </br>\n",
    "\n",
    "NB:\n",
    "1. Some methods in Python create a new copy of the data, while others modify the original data in place without creating a new copy.\n",
    "2. In Python, \"inplace\" refers to a type of operation that modifies an object directly, without creating a new object.\n",
    "\n"
   ]
  },
  {
   "cell_type": "code",
   "execution_count": 2,
   "id": "b650b250",
   "metadata": {
    "scrolled": false
   },
   "outputs": [
    {
     "name": "stdout",
     "output_type": "stream",
     "text": [
      "Sort in place\n",
      "ls is now sorted [1, 2, 3]\n"
     ]
    }
   ],
   "source": [
    "# Observe the code below\n",
    "# Sort in place (inside the list itself)\n",
    "print(\"Sort in place\")\n",
    "scattered_lst = [3, 2, 1]\n",
    "scattered_lst.sort()\n",
    "print(f\"ls is now sorted {scattered_lst}\")\n"
   ]
  },
  {
   "cell_type": "markdown",
   "id": "e8fbf811",
   "metadata": {},
   "source": [
    "#### From the above code :\n",
    "Notice how we didn't need to create a new variable for the scattered list that was sorted </br>\n",
    "because the sorting already took place inside the original list itself. </br>\n",
    "\n",
    "#2 If a new variable was created to hold the sorted version of the scatttered list, python will see it as ***None***. \n",
    "\n",
    "This is because Python is trying to take the orginal list which was scatterd, copy it and sort it but since the .sort( ) method has already altered the actual scattered list by sorting it, there's practically no scattered list to copy and sort. </br>\n",
    "So it sees the new variable as a NoneType / returns ***None*** when the variable is called. </br>\n",
    "\n",
    "This where we say the .sort( ) method occurs ***in-place*** </br>\n",
    "***Check the code below to understand #2 scenario:***"
   ]
  },
  {
   "cell_type": "code",
   "execution_count": 6,
   "id": "4322cabd",
   "metadata": {},
   "outputs": [
    {
     "name": "stdout",
     "output_type": "stream",
     "text": [
      "[6, 4, 2, 3, 5, 1]\n",
      "None\n",
      "[1, 2, 3, 4, 5, 6]\n",
      "[1, 2, 3, 4, 5, 6]\n"
     ]
    }
   ],
   "source": [
    "scattered_lst = [6,4,2,3,5,1]\n",
    "print(scattered_lst)\n",
    "sorted_lst = scattered_lst.sort() # the sort somehow goes to the orginal scattered_lst above to sort it so it sees the scattered_lst from the sorted_lst variable as already sorted , therefore it returns None.  \n",
    "\n",
    "print(sorted_lst)\n",
    "print(scattered_lst)\n",
    "type(sorted_lst)\n",
    "\n",
    "\n",
    "sorted_lst2 = scattered_lst\n",
    "print(sorted_lst2)"
   ]
  },
  {
   "cell_type": "markdown",
   "id": "c4ba6acc",
   "metadata": {},
   "source": [
    "#### Better Explanation of In-Place concept"
   ]
  },
  {
   "cell_type": "code",
   "execution_count": 9,
   "id": "6a72dc2b",
   "metadata": {
    "scrolled": false
   },
   "outputs": [
    {
     "name": "stdout",
     "output_type": "stream",
     "text": [
      "Sort in place\n",
      "ls is now sorted [1, 2, 3]\n",
      "\n",
      "The old list is still in the original order  ls = [3, 2, 1]\n",
      "The new list is a copy of ls sorted new_ls = [1, 2, 3]\n"
     ]
    }
   ],
   "source": [
    "# Sort in-place (sort list inside the original list itself)\n",
    "print(\"Sort in place\")\n",
    "ls = [3, 2, 1]\n",
    "ls.sort()\n",
    "print(f\"ls is now sorted {ls}\")\n",
    "\n",
    "# Sort the list **NOT IN PLACE** (create a new list that\n",
    "# is a copy of the first one but sorted)\n",
    "ls = [3, 2, 1]\n",
    "new_ls = sorted(ls)\n",
    "print()\n",
    "print(f\"The old list is still in the original order  {ls = }\")\n",
    "print(f\"The new list is a copy of ls sorted {new_ls = }\")"
   ]
  },
  {
   "cell_type": "markdown",
   "id": "06b2077b",
   "metadata": {},
   "source": [
    "### Terminology\n",
    "1. The ***None*** keyword is used to define a null variable or an object </br>\n",
    "2. ***Function*** : A function is a block of code which only runs when it is called. </br>\n",
    "(block of code that can be repeated/used again when called) </b>\n",
    "\n",
    "It's like buying an accessory for a machine, you do not need to buy the same accessory again when you need it. </b>\n",
    "You just pick it up from your tool box\n",
    "\n",
    "2. the word ***Return*** in python :  gives a result/end product\n",
    "(It means stop here and give back whatever you have at this point)\n",
    "\n",
    "Return generally does two things: </br>\n",
    "***Stop the statement and execution of the function.***</br>\n",
    "***Prepare the result of the function call***\n",
    "\n"
   ]
  },
  {
   "cell_type": "markdown",
   "id": "13297496",
   "metadata": {},
   "source": [
    "#### Nesting Lists\n",
    "Python has a featured called Nesting where we can have data structures within data structures.\n",
    "\n",
    "So we can have a list within a list."
   ]
  },
  {
   "cell_type": "code",
   "execution_count": 1,
   "id": "4dcf4769",
   "metadata": {},
   "outputs": [
    {
     "data": {
      "text/plain": [
       "[[1, 2, 3], [4, 5, 6], [7, 8, 9]]"
      ]
     },
     "execution_count": 1,
     "metadata": {},
     "output_type": "execute_result"
    }
   ],
   "source": [
    "# Let's make three lists\n",
    "lst_1=[1,2,3]\n",
    "lst_2=[4,5,6]\n",
    "lst_3=[7,8,9]\n",
    "\n",
    "# Make a list of lists to form a matrix\n",
    "matrix = [lst_1,lst_2,lst_3]\n",
    "matrix"
   ]
  },
  {
   "cell_type": "markdown",
   "id": "1f4921ba",
   "metadata": {},
   "source": [
    "NB: A matrix is a two-dimensional data structure where numbers are arranged into rows and columns."
   ]
  },
  {
   "cell_type": "markdown",
   "id": "1b828650",
   "metadata": {},
   "source": [
    "## Dictionaries\n",
    "A Python dictionary is a collection of key:value pairs. </br>\n",
    "Each key-value pair maps the key to its linked value. </br>\n",
    "\n",
    "You can ***think about them as words and their meaning in an ordinary dictionary.*** </br>\n",
    "Values are said to be mapped to keys. </br>\n",
    "For example, in a physical dictionary, the definition science that searches for patterns in complex data using computer methods is mapped to the key Data Science. </br>\n",
    "Dictionaries are ***mutable.*** </br>\n",
    "\n",
    "Dictionaries are very flexible. </br>\n",
    "They can hold strings, integers, list, and even dictionaries."
   ]
  },
  {
   "cell_type": "markdown",
   "id": "82f4e556",
   "metadata": {},
   "source": [
    "### Mapping:  collection of objects that is stored by a key\n",
    "***Notice*** how with strings each object is represented by an index/relative position, with Dictionaries it uses the concept of mapping where objects are represented by a key."
   ]
  },
  {
   "cell_type": "code",
   "execution_count": 1,
   "id": "d0a82cfa",
   "metadata": {},
   "outputs": [],
   "source": [
    "# Synthax of a dictionary\n",
    "sample_dict = {\"key1\" : \"value1\",\"key2\" : \"value2\"}\n",
    "# the keys are usually strings"
   ]
  },
  {
   "cell_type": "markdown",
   "id": "f55475bc",
   "metadata": {},
   "source": [
    "### With dictionaries in python we can :\n",
    "1. Get items by calling out it's key\n",
    "2. Get specific items with indexing\n",
    "3. Perform arithmetic on integer items and reassign them\n",
    "4. Use methods such .upper() on items\n",
    "5. Perform ***Nesting*** with Dictionaries (***It's like a folder within a folder***) </br>\n",
    "d = {'mainkey':{'subkey1':{'subkey2':'value'}}} </br>\n",
    "6. Create empty dictionaries and later add keys with values through assignment </br>\n",
    "Eg of No.6 is below:"
   ]
  },
  {
   "cell_type": "code",
   "execution_count": 2,
   "id": "7fda432b",
   "metadata": {},
   "outputs": [],
   "source": [
    "# Empty Dictionary\n",
    "emp_dict = {}"
   ]
  },
  {
   "cell_type": "code",
   "execution_count": 3,
   "id": "48fb55d3",
   "metadata": {},
   "outputs": [],
   "source": [
    "# With assignment we can create a key[\"\"] and equate its value\n",
    "emp_dict['new_key1'] = 'Value1'"
   ]
  },
  {
   "cell_type": "code",
   "execution_count": 4,
   "id": "6aeac41a",
   "metadata": {},
   "outputs": [],
   "source": [
    "emp_dict[\"new_key2\"] = \"Value2\"\n"
   ]
  },
  {
   "cell_type": "code",
   "execution_count": 5,
   "id": "946ef9c9",
   "metadata": {},
   "outputs": [
    {
     "data": {
      "text/plain": [
       "{'new_key1': 'Value1', 'new_key2': 'Value2'}"
      ]
     },
     "execution_count": 5,
     "metadata": {},
     "output_type": "execute_result"
    }
   ],
   "source": [
    "emp_dict"
   ]
  },
  {
   "cell_type": "markdown",
   "id": "99f8e744",
   "metadata": {},
   "source": [
    "With the concept of the ***code above*** we can add extra keys to existing dictionaries or even overwrite values in keys of an already existing Dictionaries"
   ]
  },
  {
   "cell_type": "markdown",
   "id": "e3bdbeae",
   "metadata": {},
   "source": [
    "### Dictionary Methods\n",
    "1. .keys( ) : returns a list of keys in a dictionary\n",
    "2. .values() : returns a list of values of keys in a dictionary\n",
    "3. .items( ) : returns a tuple of all items along with it's key"
   ]
  },
  {
   "cell_type": "code",
   "execution_count": 9,
   "id": "c32ea69d",
   "metadata": {},
   "outputs": [
    {
     "name": "stdout",
     "output_type": "stream",
     "text": [
      "dict_keys(['new_key1', 'new_key2'])\n",
      "dict_values(['Value1', 'Value2'])\n",
      "dict_items([('new_key1', 'Value1'), ('new_key2', 'Value2')])\n"
     ]
    }
   ],
   "source": [
    "print(emp_dict.keys())\n",
    "print(emp_dict.values())\n",
    "print(emp_dict.items())"
   ]
  },
  {
   "cell_type": "markdown",
   "id": "6a020eea",
   "metadata": {},
   "source": [
    "***NB:***\n",
    "\n",
    "1.Python dictionaries are not designed to be in order\n",
    "\n",
    "In a dictionary, a key is associated with particular object (called value). So from its design perspective, it is assumed that when a value is associated with its key, programmer is intending to access those values using unique keys assigned to them and in that case, order doesn’t matter.\n",
    "\n",
    "2. Dictionaries cannot have two items with the same key ( a duplicated key will overwrite the previous )"
   ]
  },
  {
   "cell_type": "markdown",
   "id": "67ecfc5e",
   "metadata": {},
   "source": [
    "## Tuples\n",
    "Tuples are basically lists that are immutable </br>\n",
    "Tuples are constructed using parenthesis '(  )' </br>\n",
    "1. ***They have the same syntax as lists***\n",
    "2. Indexing and slicing can be used\n",
    "3. Can contain different object types\n",
    "4. You can check No. of items (using len( ) )\n",
    "\n",
    "### Methods in Tuples\n",
    "1. .index( ) : used to check the index value of an object in a tuple\n",
    "2. .count( ) : used to check No. of times an object appears in a tuple </br>\n",
    "eg. samp_tuple.count(\"item to be counted\")"
   ]
  },
  {
   "cell_type": "code",
   "execution_count": 6,
   "id": "f9d4a6b6",
   "metadata": {},
   "outputs": [
    {
     "data": {
      "text/plain": [
       "1"
      ]
     },
     "execution_count": 6,
     "metadata": {},
     "output_type": "execute_result"
    }
   ],
   "source": [
    "# 1\n",
    "tup = (1,2,3,4)\n",
    "tup.index(2)"
   ]
  },
  {
   "cell_type": "code",
   "execution_count": 7,
   "id": "effd3463",
   "metadata": {},
   "outputs": [
    {
     "data": {
      "text/plain": [
       "4"
      ]
     },
     "execution_count": 7,
     "metadata": {},
     "output_type": "execute_result"
    }
   ],
   "source": [
    "# 2\n",
    "tup = (1,2,2,2,2,4,4,4)\n",
    "tup.count(2)"
   ]
  },
  {
   "cell_type": "markdown",
   "id": "aab67ab4",
   "metadata": {},
   "source": [
    "### Terminology\n",
    "<s>\n",
    "\n",
    "    1. Iteration: Repetitive execution of the same block of code over and over / general term for taking each item of something, one after another.\n",
    "\n",
    "    \n",
    "2. ***Iterable*** is an object which can be looped over or iterated over with the help of a for loop. \n",
    "\n",
    "In short and simpler terms, iterable is anything that you can loop over / repeat again and again.\n",
    "\n",
    "</s>\n",
    "\n",
    "1. ***Iterable*** : An iterable is any Python object capable of returning its members one at a time. </br>\n",
    "A group of things that python can go over one at a time.\n",
    "***Means you can go go over its sub-items.***\n",
    "\n",
    "***For example*** a list of numbers is iterable because you can go over the items in the list, which are numbers.\n",
    "\n",
    "Also a string is iterable, you can go over the letters in the string.\n",
    "\n",
    "A single number is not iterable, there's no sub-items that it contains to go over.\n",
    "\n",
    "Objects like lists, tuples, sets, dictionaries, strings, etc. are called iterables.\n"
   ]
  },
  {
   "cell_type": "markdown",
   "id": "45a0ca25",
   "metadata": {},
   "source": [
    "## Sets and Booleans\n",
    "### Sets: \n",
    "A Set is an unordered collection of well-defined objects as per mathematical definition. Set is a Build in Data Type in python to store different unique, iterable data types in the unordered form. Set can have elements of many data types such as int, string, tuple, etc.\n",
    "\n",
    "***NB : when we say unique objects it means there can only be one repesentation of the same object.*** </br>\n",
    "#### Unique features of sets:\n",
    "1. Construced using the ***.set( ) fuction.***\n",
    "2. Items are added to a set using the ***.add( ) method.***\n",
    "3. In comparison with dictionaries, A set is like a dictionay without key:value pairs. \n",
    "4. Items in Sets cannot be duplicated. </br>\n",
    "(If an item which is already existing in a set is added again to the same set, that item will be overwritten and will appear in the set as a single item)\n",
    "\n",
    "Scenarios are below:\n"
   ]
  },
  {
   "cell_type": "code",
   "execution_count": 4,
   "id": "1ed957cb",
   "metadata": {},
   "outputs": [],
   "source": [
    "#1 Contructing a set \n",
    "new_set = set()"
   ]
  },
  {
   "cell_type": "code",
   "execution_count": 5,
   "id": "32258ef3",
   "metadata": {},
   "outputs": [],
   "source": [
    "#2 Adding items to a set\n",
    "new_set.add(\"item1\") # adding a string\n",
    "new_set.add(487) # adding an integer"
   ]
  },
  {
   "cell_type": "code",
   "execution_count": 6,
   "id": "76b3f6bb",
   "metadata": {
    "scrolled": true
   },
   "outputs": [
    {
     "data": {
      "text/plain": [
       "{487, 'item1'}"
      ]
     },
     "execution_count": 6,
     "metadata": {},
     "output_type": "execute_result"
    }
   ],
   "source": [
    "#3 notice how items are in a curly bracket(kinda like a dictionary without key:value pairs)\n",
    "new_set "
   ]
  },
  {
   "cell_type": "code",
   "execution_count": 7,
   "id": "8ae1bffd",
   "metadata": {
    "scrolled": true
   },
   "outputs": [
    {
     "data": {
      "text/plain": [
       "{487, 'item1'}"
      ]
     },
     "execution_count": 7,
     "metadata": {},
     "output_type": "execute_result"
    }
   ],
   "source": [
    "#4 adding an item which already exist in a set will not repeat it\n",
    "new_set.add(487)\n",
    "# notice how there's only one 487 and not two even after adding a second 487\n",
    "new_set"
   ]
  },
  {
   "cell_type": "markdown",
   "id": "a67beb5e",
   "metadata": {},
   "source": [
    "### Using the Set function on Iterable objects\n",
    "\n",
    "The set function takes an ***iterable object(lists, tuples, sets, dictionaries, strings, etc)*** as its argument, and adds each unique element of that iterable object to the set.\n",
    "\n",
    "Observe the code below:\n",
    "\n"
   ]
  },
  {
   "cell_type": "code",
   "execution_count": 9,
   "id": "7c573569",
   "metadata": {},
   "outputs": [
    {
     "data": {
      "text/plain": [
       "{'J', 'e', 'm', 'o', 'r'}"
      ]
     },
     "execution_count": 9,
     "metadata": {},
     "output_type": "execute_result"
    }
   ],
   "source": [
    "# each character will be separated into a collection of objects in a set\n",
    "set(\"Jerome\")"
   ]
  },
  {
   "cell_type": "markdown",
   "id": "bab81915",
   "metadata": {},
   "source": [
    "#### If you wanted the whole string into the set, then you need to enclose it inside another iterable, like a list or tuple.\n",
    "\n"
   ]
  },
  {
   "cell_type": "code",
   "execution_count": 12,
   "id": "8b0d0486",
   "metadata": {},
   "outputs": [
    {
     "name": "stdout",
     "output_type": "stream",
     "text": [
      "{'Jerome'}\n",
      "{'Selorm', 'Jerome'}\n"
     ]
    }
   ],
   "source": [
    "# Example\n",
    "print(set([\"Jerome\"]))\n",
    "print(set([\"Jerome\",\"Selorm\"])) \n",
    "# here the argument is a list so it goes over the list and makes each item in the into a set collection"
   ]
  },
  {
   "cell_type": "markdown",
   "id": "f2949f54",
   "metadata": {},
   "source": [
    "### Booleans:\n",
    "***Boolean*** : a result that can only have one of two possible values: true or false </br>\n",
    "It's used to represent the truth value of an expression. "
   ]
  },
  {
   "cell_type": "markdown",
   "id": "ad8ed893",
   "metadata": {},
   "source": [
    "### Clarify A Term\n",
    "1.  A ***Placeholder*** is simply a variable that we will assign data to at a later date. ( kinda like placing reservstions for a spot ) </br>\n",
    "***few eg. are { } and %s in string formatting, and None.*** </br>\n",
    "2. ***None*** is used to define a null value, or no value at all."
   ]
  },
  {
   "cell_type": "markdown",
   "id": "79d3d1cd",
   "metadata": {},
   "source": [
    "We can use ***None*** on an object we don't want to assign yet, so that Python does not return an error  </br>\n",
    "Observe the two lines of code below:"
   ]
  },
  {
   "cell_type": "code",
   "execution_count": 16,
   "id": "c3be1c87",
   "metadata": {},
   "outputs": [
    {
     "ename": "NameError",
     "evalue": "name 'b' is not defined",
     "output_type": "error",
     "traceback": [
      "\u001b[0;31m---------------------------------------------------------------------------\u001b[0m",
      "\u001b[0;31mNameError\u001b[0m                                 Traceback (most recent call last)",
      "\u001b[0;32m/var/folders/vj/vn07m31j1n7fs08rkytvgvj80000gn/T/ipykernel_17044/1685013873.py\u001b[0m in \u001b[0;36m<module>\u001b[0;34m\u001b[0m\n\u001b[0;32m----> 1\u001b[0;31m \u001b[0mb\u001b[0m\u001b[0;34m\u001b[0m\u001b[0;34m\u001b[0m\u001b[0m\n\u001b[0m",
      "\u001b[0;31mNameError\u001b[0m: name 'b' is not defined"
     ]
    }
   ],
   "source": [
    "b"
   ]
  },
  {
   "cell_type": "code",
   "execution_count": 1,
   "id": "57331227",
   "metadata": {},
   "outputs": [],
   "source": [
    "b = None"
   ]
  },
  {
   "cell_type": "markdown",
   "id": "98d6fdfa",
   "metadata": {},
   "source": [
    "## Files\n",
    "A ***file object*** allows us to use, access and manipulate all the user accessible files </br>\n",
    "\n",
    "***Python file object*** provides methods to access and manipulate files. Using file objects, we can read or write any files.\n",
    "\n",
    "Whenever we open a file to perform any operations on it, ***Python returns a file object.*** </br>\n",
    "To create a file object in Python use the built-in functions, such as open()"
   ]
  },
  {
   "cell_type": "code",
   "execution_count": 21,
   "id": "17541757",
   "metadata": {},
   "outputs": [
    {
     "data": {
      "text/plain": [
       "'/Users/adedze/Documents/My Python Documents/Python Jupyter Notes /Teaching Python'"
      ]
     },
     "execution_count": 21,
     "metadata": {},
     "output_type": "execute_result"
    }
   ],
   "source": [
    "### Checking notebook location\n",
    "pwd"
   ]
  },
  {
   "cell_type": "markdown",
   "id": "d9daa077",
   "metadata": {},
   "source": [
    "### Opening a file in Python\n",
    "syntax:\n",
    "mysamplefile = open(\"location of file\")\n",
    "\n",
    "***NB: For Windows you need to use double \\ so python doesn't treat the second \\ as an escape character, a file path is in the form:*** </br>\n",
    "***myfile = open(\"C:\\\\Users\\\\YourUserName\\\\Home\\\\Folder\\\\myfile.txt\")***\n",
    "\n",
    "***For MacOS and Linux you use slashes in the opposite direction:***\n",
    "\n",
    "***myfile = open(\"/Users/YouUserName/Folder/myfile.txt\")***\n"
   ]
  },
  {
   "cell_type": "code",
   "execution_count": 29,
   "id": "e6187dc1",
   "metadata": {},
   "outputs": [],
   "source": [
    "# After using the open fuction the file opens in python\n",
    "\n",
    "samp_file = open(\"/Users/adedze/Documents/My Python Documents/Python Jupyter Notes /Teaching Python/samplefile.rtf\")\n",
    "\n",
    "# Nothing appears because we need to used the read fuction to see its contents"
   ]
  },
  {
   "cell_type": "code",
   "execution_count": 30,
   "id": "4bf706e4",
   "metadata": {},
   "outputs": [
    {
     "data": {
      "text/plain": [
       "' Hello this is the file you opened\\n This is a new line\\n This is another line'"
      ]
     },
     "execution_count": 30,
     "metadata": {},
     "output_type": "execute_result"
    }
   ],
   "source": [
    "# Reading a file\n",
    "samp_file.read()\n"
   ]
  },
  {
   "cell_type": "markdown",
   "id": "d77f017e",
   "metadata": {},
   "source": [
    "#### Referencing the above code:\n",
    "Notice how python returns a single string of the the content in the file </br>\n",
    "You can also see the \\n which represent that a new line.\n",
    "\n",
    "If you want to return a list of each line from the file to distinguish them you can use the ***.readlines( )*** method"
   ]
  },
  {
   "cell_type": "code",
   "execution_count": 32,
   "id": "91571da5",
   "metadata": {},
   "outputs": [
    {
     "data": {
      "text/plain": [
       "[' Hello this is the file you opened\\n',\n",
       " ' This is a new line\\n',\n",
       " ' This is another line']"
      ]
     },
     "execution_count": 32,
     "metadata": {},
     "output_type": "execute_result"
    }
   ],
   "source": [
    "# Using .readlines() method\n",
    "samp_file.seek(0)\n",
    "samp_file.readlines()"
   ]
  },
  {
   "cell_type": "markdown",
   "id": "f4b55000",
   "metadata": {},
   "source": [
    "***Now if we attempt to read again we get \" \"*** </br>\n",
    "\n",
    "Python has an imaginary cursor that moves along the content of the file when reading </br>\n",
    "At the end of the content of the file there's nothing to read so it gives an output of \" \""
   ]
  },
  {
   "cell_type": "code",
   "execution_count": 33,
   "id": "2b102571",
   "metadata": {},
   "outputs": [
    {
     "data": {
      "text/plain": [
       "''"
      ]
     },
     "execution_count": 33,
     "metadata": {},
     "output_type": "execute_result"
    }
   ],
   "source": [
    "# Reading again to explain the situation above\n",
    "samp_file.read()"
   ]
  },
  {
   "cell_type": "code",
   "execution_count": 34,
   "id": "6a5e1e81",
   "metadata": {},
   "outputs": [
    {
     "data": {
      "text/plain": [
       "0"
      ]
     },
     "execution_count": 34,
     "metadata": {},
     "output_type": "execute_result"
    }
   ],
   "source": [
    "# To read again use the function .seek(0) to move the imaginary cursor to the beginning\n",
    "samp_file.seek(0)"
   ]
  },
  {
   "cell_type": "code",
   "execution_count": 35,
   "id": "402a3c73",
   "metadata": {},
   "outputs": [
    {
     "data": {
      "text/plain": [
       "' Hello this is the file you opened\\n This is a new line\\n This is another line'"
      ]
     },
     "execution_count": 35,
     "metadata": {},
     "output_type": "execute_result"
    }
   ],
   "source": [
    "samp_file.read()"
   ]
  },
  {
   "cell_type": "markdown",
   "id": "3c77c950",
   "metadata": {},
   "source": [
    "#### After you're done with the file, its a good ethic to close it"
   ]
  },
  {
   "cell_type": "code",
   "execution_count": 36,
   "id": "306c1bec",
   "metadata": {},
   "outputs": [],
   "source": [
    "# To close file use the .close( ) function\n",
    "samp_file.close()"
   ]
  },
  {
   "cell_type": "markdown",
   "id": "98076d7a",
   "metadata": {},
   "source": [
    "### Open and Close Files with the \"with\" statement\n",
    "The ***with*** statement works with the open() function to open a file and it closes the file for you without you telling it to.</br>\n",
    "\n",
    "This is because the ***with*** statement calls ***2 built-in methods*** behind the scene – __enter()__ and __exit()__.\n",
    "\n",
    "The __exit()__ method closes the file when the operation you specify is done.\n",
    "\n",
    "It helps make the code cleaner and much more readable. </br>\n",
    "\n",
    "Synthax: </br>\n",
    "***with open(\"file location\") as reference_name:*** </br>\n",
    "    ***indentation occurs***</br>\n",
    "    the indent means and code within the indentation will use the reference_name as a variable for the argument inside the open function\n"
   ]
  },
  {
   "cell_type": "code",
   "execution_count": 38,
   "id": "52a76543",
   "metadata": {},
   "outputs": [],
   "source": [
    "# Opening a file with the \"with\" statement\n",
    "with open(\"/Users/adedze/Documents/My Python Documents/Python Jupyter Notes /Teaching Python/samplefile.rtf\") as f_to_open:\n",
    "    content = f_to_open.read()"
   ]
  },
  {
   "cell_type": "code",
   "execution_count": 39,
   "id": "34072e28",
   "metadata": {},
   "outputs": [
    {
     "data": {
      "text/plain": [
       "' Hello this is the file you opened\\n This is a new line\\n This is another line'"
      ]
     },
     "execution_count": 39,
     "metadata": {},
     "output_type": "execute_result"
    }
   ],
   "source": [
    "content"
   ]
  },
  {
   "cell_type": "markdown",
   "id": "80e715e1",
   "metadata": {},
   "source": [
    "### Writing to a File\n",
    "To write to a file you need to add \"w\"/\"w+\" next to the file location in the open( ) function. The \"w\"/\"w+\" is separated from the file location by a comma. </br>\n",
    "NB: \n",
    "1. Using \"w\"/\"w+\" deletes the original content of the file </br>\n",
    "2. Using \"w+\" allows you to write to the file and read it whiles \"w\" just allows you to write to it.\n",
    "3. If you attempt to read a file using \"w\" python will return an error. </br>\n",
    "4. Using \"w\",\"w+\" will create a new file if the file doesn't exist </br>\n",
    "\n",
    "Process for writing a file is below:\n"
   ]
  },
  {
   "cell_type": "markdown",
   "id": "7ab1b6a6",
   "metadata": {},
   "source": [
    "<b>\n",
    "    \n",
    "#1 open the file </br>\n",
    "samp_file = open( \"file location here\", \"w+\" ) </br>\n",
    "\n",
    "#2 write content to the file </br>\n",
    "samp_file.write(\"I am changing the orginal content\") </br>\n",
    "\n",
    "#3 read content </br>\n",
    "samp_file.seek(0) </br>\n",
    "samp_file.read( ) </br>\n",
    "</b>\n",
    "\n",
    "samp_file.close( ) ***to close file when done reading***\n",
    "\n",
    "## Or use the \"with\" statement which is better\n",
    "\n",
    "#1 ***with*** open(\"file location\",\"w+\") ***as*** ref_name: </br>\n",
    "    ref_name.write(\"Type anything here to write\")"
   ]
  },
  {
   "cell_type": "markdown",
   "id": "27bcb9fb",
   "metadata": {},
   "source": [
    "### Adding content to a file (Appending to a file)\n",
    "To add content to a file we add \"a\"/\"a+\" to the file location separated by a comma. \n",
    "\n",
    "**\"a+\"** lets us append and read the file.\n",
    "\n",
    "***if the file doesn't exist a new one will be created***\n",
    "\n",
    "Synthax & process:\n",
    "\n",
    "\n",
    "#1 open the file </br>\n",
    "samp_file = open( \"file location here\", \"a+\" )\n",
    "\n",
    "#2 write content to the file</br>\n",
    "samp_file.write(\"I am adding extra to the orginal content\")\n",
    "\n",
    "#3 read content</br>\n",
    "samp_file.seek(0)</br>\n",
    "samp_file.read( )\n",
    "\n",
    "samp_file.close( ) ***to close file when done reading***"
   ]
  },
  {
   "cell_type": "code",
   "execution_count": 51,
   "id": "e2a2da6f",
   "metadata": {},
   "outputs": [],
   "source": [
    "with open(\"/Users/adedze/Desktop/test.txt\",\"w+\") as f:\n",
    "          f.write(\"This is a created file\")\n",
    "\n"
   ]
  },
  {
   "cell_type": "code",
   "execution_count": 55,
   "id": "19e72a49",
   "metadata": {},
   "outputs": [
    {
     "name": "stdout",
     "output_type": "stream",
     "text": [
      "This is a created file\n"
     ]
    }
   ],
   "source": [
    "with open(\"/Users/adedze/Desktop/test.txt\",\"r\") as f:\n",
    "          print(f.read())"
   ]
  },
  {
   "cell_type": "markdown",
   "id": "4ab657fc",
   "metadata": {},
   "source": [
    "## Comaparison Operators\n",
    "1. == : checks equality\n",
    "2. != : means not equal to\n",
    "3. *>* : greater than\n",
    "4. < : less than\n",
    "5. *>=* : greater than or equal to\n",
    "6. <= : less than or equal to"
   ]
  },
  {
   "cell_type": "markdown",
   "id": "03b38f33",
   "metadata": {},
   "source": [
    "## Logical Operators : they carry out logical operations and return Boolean values based on the result. \n",
    "We use logical operators to obtain results simultaneously in the case of various conditions. </br>\n",
    "These operators are:\n",
    "1. ***and*** : The And operator is used to verify whether both conditions associated with it are True Simultaneously. </br>\n",
    "In simple terms it checks whether whatever conditions on its left and right side are true. </br>\n",
    "If both conditions are true it returns True, if one is False returns False. </br>\n",
    "Syntax : condition1 ***and*** condition2\n",
    "2. ***or*** : It just needs one condition to be true. </br>\n",
    "If one condition is False it will return True as long as the other condition is True\n",
    "3. ***not*** : It inverts results of booleans(returns the opposite of a Boolean)"
   ]
  },
  {
   "cell_type": "markdown",
   "id": "387bc2dc",
   "metadata": {},
   "source": [
    "### Glossary \n",
    "\n",
    "An ***item*** is an element or value that is inside of a data structure( such as list, set, tuples, and dictionary)"
   ]
  },
  {
   "cell_type": "markdown",
   "id": "6e2eddb2",
   "metadata": {},
   "source": [
    "## Miscellaneous\n",
    "\n",
    "### Terminology\n",
    "1. ***Argument*** :  information that is passed into a function. </br>\n",
    "It is a value sent to the function when it is called. </br>\n",
    "It is data on which function performs some action and returns the result.\n",
    "\n",
    "2. ***Parameter :*** It is the variable listed inside the parentheses in the function during its process of defining. \n",
    "\n",
    "In function definition, the arguments that your function consumes are referred to as parameters. </br>\n",
    "\n",
    "When you call the function with specific values for these parameters, they're called arguments or actual parameters. This is because the arguments in the function call are the values used for the function's parameters. </br>\n",
    "***Come Back To This Later*** *\n",
    "\n",
    "<img src = \"../img/Screenshot7.png\"\n",
    "     height= \"400px\"\n",
    "width= \"720px\">"
   ]
  },
  {
   "cell_type": "code",
   "execution_count": null,
   "id": "98223475",
   "metadata": {},
   "outputs": [],
   "source": []
  }
 ],
 "metadata": {
  "kernelspec": {
   "display_name": "Python 3 (ipykernel)",
   "language": "python",
   "name": "python3"
  },
  "language_info": {
   "codemirror_mode": {
    "name": "ipython",
    "version": 3
   },
   "file_extension": ".py",
   "mimetype": "text/x-python",
   "name": "python",
   "nbconvert_exporter": "python",
   "pygments_lexer": "ipython3",
   "version": "3.9.13"
  }
 },
 "nbformat": 4,
 "nbformat_minor": 5
}
