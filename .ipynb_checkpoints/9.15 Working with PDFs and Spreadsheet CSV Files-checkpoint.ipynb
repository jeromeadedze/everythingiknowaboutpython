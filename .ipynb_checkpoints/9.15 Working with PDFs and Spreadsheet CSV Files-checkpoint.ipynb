{
 "cells": [
  {
   "cell_type": "markdown",
   "id": "8a01b5f6",
   "metadata": {},
   "source": [
    "## Working with CSV Files\n",
    "\n",
    "CSV stands for ***comma separated variables*** which is a common output for spreadsheet programs. These files are used in organizations for transmitting and storing data. They can be created in Notepad, Excel, etc...\n",
    "\n",
    "### Example (text file with data separated by commas)\n",
    "<img src = \"img/csvexample.png\"\n",
    "     height= \"400px\"\n",
    "width= \"720px\">\n",
    "\n",
    "### Example (same text file when extension changed to .csv)\n",
    "<img src = \"img/csvexample1.png\"\n",
    "     height= \"400px\"\n",
    "width= \"720px\">\n",
    "\n",
    "NB: \n",
    "- All CSV files are just plain texts(meaning they can be opened and read using any text editor or word processor), \n",
    "- they contain alphanumeric characters, \n",
    "- they of lines of text, with each line representing a row of data in the table. Within each line, the values are separated by commas (hence the name \"comma-separated\").\n",
    "- While CSV files can be opened and edited in programs like Excel, they are not the same format. CSV files do not have the advanced formatting capabilities of Excel files, such as font styles, colors, formulas, or data types. This means that in a CSV file, all values are treated as strings ***(meaning there is no inherent distinction between numbers, dates, or other data types within a CSV file)***. As a result, when opening a CSV file in a program like Excel, all values are initially treated as plain text.\n",
    "\n",
    "---\n",
    "\n",
    "Python has a built in csv module that will allows us to grab columns rows,and values from a .csv file as well as write to it.\n",
    "\n",
    "There are other libraries to consider for working with csv files\n",
    "1. Pandas\n",
    "    - It is a full data analysis library\n",
    "    - Runs visualizations and analysis\n",
    "2. Openpyxl\n",
    "    - designed specifically for Excel files\n",
    "3. Google Sheets Python API\n",
    "\n",
    "### Lets explore python's built-in library\n"
   ]
  },
  {
   "cell_type": "code",
   "execution_count": 1,
   "id": "bdaccbed",
   "metadata": {},
   "outputs": [],
   "source": [
    "# IMPORT CSV\n",
    "import csv"
   ]
  },
  {
   "cell_type": "code",
   "execution_count": null,
   "id": "e27855c5",
   "metadata": {},
   "outputs": [],
   "source": [
    "# OPEN THE FILE\n",
    "\n",
    "data = "
   ]
  },
  {
   "cell_type": "code",
   "execution_count": 2,
   "id": "0cedb20c",
   "metadata": {},
   "outputs": [],
   "source": [
    "# CALL csv.reader on the file"
   ]
  },
  {
   "cell_type": "code",
   "execution_count": null,
   "id": "cf97aad5",
   "metadata": {},
   "outputs": [],
   "source": [
    "# REFORMAT it into a python object"
   ]
  },
  {
   "cell_type": "code",
   "execution_count": null,
   "id": "9ba7314f",
   "metadata": {},
   "outputs": [],
   "source": []
  },
  {
   "cell_type": "code",
   "execution_count": null,
   "id": "732d0c5f",
   "metadata": {},
   "outputs": [],
   "source": []
  },
  {
   "cell_type": "code",
   "execution_count": null,
   "id": "a7702847",
   "metadata": {},
   "outputs": [],
   "source": []
  },
  {
   "cell_type": "markdown",
   "id": "c2fb4ba8",
   "metadata": {},
   "source": [
    "### Links:\n",
    "### CSV\n",
    "https://www.educba.com/csv-files-into-excel/"
   ]
  }
 ],
 "metadata": {
  "kernelspec": {
   "display_name": "Python 3 (ipykernel)",
   "language": "python",
   "name": "python3"
  },
  "language_info": {
   "codemirror_mode": {
    "name": "ipython",
    "version": 3
   },
   "file_extension": ".py",
   "mimetype": "text/x-python",
   "name": "python",
   "nbconvert_exporter": "python",
   "pygments_lexer": "ipython3",
   "version": "3.9.13"
  }
 },
 "nbformat": 4,
 "nbformat_minor": 5
}
