{
 "cells": [
  {
   "cell_type": "markdown",
   "id": "4f9cb565",
   "metadata": {},
   "source": [
    "## Objects In Python\n",
    "\n",
    "What do you see when you look around you? You see a lot of objects, don’t you?\n",
    "\n",
    "If you see a laptop in front of you, what is it? Well, it is a real-world object.\n",
    "\n",
    "Similarly, if there’s a car on the road? What is that? A car again is a real-world object.\n",
    "\n",
    "Now, if you see a dog on the street, what do you think it is? You guessed It right, it’s an object again.\n",
    "\n",
    "If you have to represent these real-world entities in the programming world, you would need an object-oriented programming language. This is where Python comes in.\n",
    "\n",
    "---"
   ]
  },
  {
   "cell_type": "markdown",
   "id": "477710d0",
   "metadata": {},
   "source": [
    "## Object Oriented Programming\n",
    "\n",
    "Object Oriented Programming is a way of computer programming using the idea of “objects” to represents data and methods. It is also, an approach used for creating neat and reusable code instead of a redundant one. the program is divided into self-contained objects or several mini-programs. Every Individual object represents a different part of the application having its own logic and data to communicate within themselves.\n",
    "\n",
    "\n",
    "In the real world, we encounter objects that have certain characteristics (attributes) and can perform certain actions (behaviors). For example, a car can have attributes like color, model, and speed, and it can perform behaviors like accelerating, braking, and turning.\n",
    "\n",
    "In OOP, objects are created from classes, which serve as blueprints for creating objects. A class defines the attributes (data) and behaviors (methods) that objects of that class can possess. This approach allows developers to structure their code in a way that mirrors the real world, making it easier to understand and work with.\n",
    "\n",
    "\n",
    "Key things to note: \n",
    "\n",
    "- Object-oriented programming (OOP) is based on the concept of real-world objects. The fundamental idea behind OOP is to model software entities after real-world objects\n",
    "- With object-oriented programming (OOP), you have the flexibility to represent real-world objects like car, animal, person, ATM etc. in your code.\n",
    "- In object-oriented programming ***data structures, or objects*** are defined, each with its own properties or attributes. Each object can also contain its own ***procedures or methods.***\n",
    "- OOP allows programmers to create their own ***objects*** that have ***methods and attriibutes.***\n",
    "- OOP allows us to create code that is repeatable and organized. \n",
    "\n",
    "\n",
    "\n",
    "Software is designed by using objects that interact with one another. This offers various benefits, like:\n",
    "\n",
    "1. being faster and easier to execute;\n",
    "2. providing a clear structure for a program;\n",
    "3. making code easier to modify, debug and maintain; and\n",
    "4. making it easier to reuse code.\n",
    "\n",
    "---\n",
    "\n",
    "***In Python, everything is an object. We can use type() to check the type of object something is:***\n"
   ]
  },
  {
   "cell_type": "code",
   "execution_count": 25,
   "id": "d65f04ff",
   "metadata": {},
   "outputs": [
    {
     "name": "stdout",
     "output_type": "stream",
     "text": [
      "<class 'int'>\n",
      "<class 'list'>\n",
      "<class 'tuple'>\n",
      "<class 'dict'>\n"
     ]
    }
   ],
   "source": [
    "print(type(1))\n",
    "print(type([]))\n",
    "print(type(()))\n",
    "print(type({}))"
   ]
  },
  {
   "cell_type": "markdown",
   "id": "fca0c201",
   "metadata": {},
   "source": [
    "So now we know all these things are objects, so how can we create our own Object types? That is where the ***class keyword*** comes in."
   ]
  },
  {
   "cell_type": "markdown",
   "id": "14a3d016",
   "metadata": {},
   "source": [
    "## Classes & Objects Explained In Python OOP\n",
    "\n",
    "## Class:\n",
    "\n",
    "You can consider a class to be a template/blueprint for real-world entities. Let’s take this example to understand the concept of classes better:\n",
    "\n",
    "If we take a ***class*** called as `Phone`. You can consider this to be a template for the ***real-world entity phone***.\n",
    "\n",
    "This class would have two things associated with it:\n",
    "- (Attributes)Properties and \n",
    "- (Methods)Behaviour\n",
    "\n",
    "The class `Phone` would have certain ***properties(attributes) associated with it*** such as:\n",
    "1. Color,\n",
    "2. Cost & \n",
    "3. Battery Life\n",
    "\n",
    "Similarly, the class ‘Phone’ would have certain ***behavior(methods) associated with it*** such as:\n",
    "1. You can make a call\n",
    "2. You can watch videos & \n",
    "3. You can play listen to music\n",
    "\n",
    "When you combine these ***properties*** and ***behaviors*** together, what you get is a class!\n",
    "\n",
    "## Now, let’s learn about objects!\n",
    "\n",
    "Simply put, you can consider objects to be ***specific instances*** of a class. (meaning a product of a class)\n",
    "\n",
    "An ***instance*** is a specific object created from a particular class.\n",
    "\n",
    "So, if `Phone` is our ***class***, then `Apple`, `Motorola` and `Samsung` would be the specific instances(products) of the ***class***, or in other words, these would be the objects of the class ‘Phone’.\n",
    "\n",
    "Remember:\n",
    "\n",
    "***Everything in Python is an object, every integer, string, list, and function.*** \n",
    "\n",
    "***These objects contain data, which we also refer to as attributes or properties, and methods.  Objects can interact with each other.***"
   ]
  },
  {
   "cell_type": "markdown",
   "id": "0e17c7ad",
   "metadata": {},
   "source": [
    "## Creating Our First Class In Python:\n",
    "\n",
    "Remember a Class is a blueprint that defines the nature of a future object.\n",
    "\n",
    "So a class is like an object constructor for creating objects.</br>\n",
    "From a Class, the user can contruct an instance(object). </br>\n",
    "\n",
    "An ***instance*** is a specific object(product) created from a particular class.\n",
    "\n",
    "***NB: In the Python programming language, an instance of a class is also called an object***"
   ]
  },
  {
   "cell_type": "code",
   "execution_count": 1,
   "id": "9b3f5c7b",
   "metadata": {},
   "outputs": [],
   "source": [
    "# Creating our first sample class in Python (first object type)\n",
    "\n",
    "class Phone:\n",
    "    def make_call(self):\n",
    "        print(\"Making a phone call\")\n",
    "    def play_game(self):\n",
    "        print(\"Playing Game\")"
   ]
  },
  {
   "cell_type": "markdown",
   "id": "b49ddb36",
   "metadata": {},
   "source": [
    "#### Code Explanation:\n",
    "\n",
    "Here, we have ***created a new class called ‘Phone’.*** \n",
    "\n",
    "To create a new class we use the keyword `class` and follow it up with the `class-name`. ***By convention, the class-name should start with a capital letter.***\n",
    "\n",
    "Inside the class, we are creating two user-defined functions:\n",
    "\n",
    "`make_call()` and `play_game()`\n",
    "\n",
    "`make_call( )` method is just printing out ***“Making a phone call”*** and `play_game( )` method is just printing out ***‘Playing Game’***.\n",
    "\n",
    "Now that we have created the class, we’d have to go ahead and create an object of the class:"
   ]
  },
  {
   "cell_type": "code",
   "execution_count": 2,
   "id": "d09f8921",
   "metadata": {},
   "outputs": [
    {
     "name": "stdout",
     "output_type": "stream",
     "text": [
      "Making a phone call\n",
      "Playing Game\n"
     ]
    }
   ],
   "source": [
    "# Creating an object of the class\n",
    "\n",
    "p1 = Phone()\n",
    "\n",
    "p1.make_call()\n",
    "\n",
    "p1.play_game()"
   ]
  },
  {
   "cell_type": "markdown",
   "id": "04e418f0",
   "metadata": {},
   "source": [
    "#### Code Explanation:\n",
    "\n",
    "We are creating a new object called as `p1` by assigning the variable p1 to the `class Phone()`  \n",
    "\n",
    "- `p1=Phone( )`. \n",
    "\n",
    "After creating the object `p1`, we can invoke/call the methods which are present in the class. To do this we use the `.` after the object `p1` followed by the method's name.\n",
    "\n",
    "- `p1.make_call( )`\n",
    "- `p1.play_game( )`"
   ]
  },
  {
   "cell_type": "code",
   "execution_count": 2,
   "id": "cbc41b32",
   "metadata": {},
   "outputs": [],
   "source": [
    "# Lets add parameters to the methods of our class created\n",
    "\n",
    "class Phone:\n",
    "    def set_color(self,color):\n",
    "        self.color = color\n",
    "\n",
    "    def set_cost(self,cost):\n",
    "        self.cost = cost\n",
    "\n",
    "    def show_color(self):\n",
    "        return self.color\n",
    "\n",
    "    def show_cost(self):\n",
    "        return self.cost\n",
    "\n",
    "    def make_call(self):\n",
    "        print(\"Making phone call\")\n",
    "\n",
    "    def play_game(self):\n",
    "        print(\"Playing Game\")\n",
    "\n"
   ]
  },
  {
   "cell_type": "markdown",
   "id": "6e5087a4",
   "metadata": {},
   "source": [
    "#### Let's try to understand the code above:\n",
    "\n",
    "Inside the Phone class, we are creating 6 methods:\n",
    "\n",
    "1. set_color()\n",
    "2. set_cost()\n",
    "3. show_color()\n",
    "4. show_cost()\n",
    "5. make_call()\n",
    "6. play_game()\n",
    "\n",
    "***set_color()***: This method takes in two parameters: self and color. With the code self.color=color, we are able to set a color to the attribute ‘color’.\n",
    "\n",
    "***set_cost()***: This method also takes in two parameters: self and cost. With the code: self.cost=cost, we are able to set a cost value to the attribute ‘cost’.\n",
    "\n",
    "***show_color()***: With this method, we are just returning the color of the phone.\n",
    "\n",
    "***show_cost()***: With this method, we are returning the cost of the phone.\n",
    "\n",
    "***make_call()***: With this method, we are simply printing out: “Making a phone call”.\n",
    "\n",
    "***play_game()***: With this method, we are printing out: “Playing Game”\n",
    "\n",
    "#### Let's try to understand the following related to the code above:\n",
    "\n",
    "- The `self` keyword which is used as a parameter in the methods ***represents/references an instance ('a would be created object') of the class***.\n",
    "\n",
    "- When a method is called on an object of a class, the self parameter allows the method to access and manipulate the ***attributes and data*** specific to that particular instance(object).\n",
    "\n",
    "- Instance variables are variables that are defined within the scope of an instance (object) of a class. They hold data that is unique to each object and can vary from object to object. \n",
    "    - Instance variables basically represent the attributes(properties) of an object. \n",
    "- They are typically assigned values using the self keyword within methods or the class constructor __init__ method (we'll talk about constructors in depth soon)."
   ]
  },
  {
   "cell_type": "code",
   "execution_count": 15,
   "id": "f41c997f",
   "metadata": {},
   "outputs": [
    {
     "name": "stdout",
     "output_type": "stream",
     "text": [
      "blue\n",
      "blue\n",
      "100\n"
     ]
    }
   ],
   "source": [
    "# Now let's create an object from the class created and invoke its\n",
    "# methods\n",
    "\n",
    "# Creating the object iphone\n",
    "\n",
    "iphone = Phone()\n",
    "\n",
    "\n",
    "# setting the color of the object (iphone)\n",
    "iphone.set_color(\"blue\")\n",
    "\n",
    "# setting the cost of the object(iphone)\n",
    "iphone.set_cost(100)\n",
    "\n",
    "print(iphone.color)\n",
    "\n",
    "print(iphone.show_color())\n",
    "print(iphone.show_cost())"
   ]
  },
  {
   "cell_type": "markdown",
   "id": "fd10bfc1",
   "metadata": {},
   "source": [
    "#### Code Explanation:\n",
    "\n",
    "1. We start by creating an ***object(iphone)*** from the `class Phone`\n",
    "\n",
    "2. Once, we have the object, it’s time to go ahead and invoke the methods of the object.\n",
    "\n",
    "\n",
    "3. The method `set_color()` takes in an argument(which is the color of the phone) and assigns it to the attribute `color` as stated in the class definition.\n",
    "    - So when we pass in the value `\"blue\"` inside the method `set_color`, python assigns that value to `self.color` as an attribute(property).\n",
    "    - After this we can use `object_name.color` to return the value of the attribute (which is the color)\n",
    "\n",
    "> Take a look at `self.color` and `iphone.color`\n",
    "\n",
    "> `self` basically acts like a placeholder for the ***object_name*** (`iphone`), once the object is created its name replaces the `self` keyword.\n",
    "\n",
    "\n",
    "3. Similarly by using, ***p2.set_cost(100)***, we are passing in the value 100 to the attribute cost.\n",
    "\n",
    "\n",
    "4. Now, that we have assigned the color and cost to the attributes, it’s time to return the values.\n",
    "\n",
    "- By using, p2.show_color(), we go ahead and print out the color of the phone.\n",
    "\n",
    "- Similarly by using, p2.show_cost(), we go ahead and print out the cost of the phone.\n",
    "\n",
    "***NB: In Python, class attributes are variables defined directly within the class definition and are shared among all instances(objects) of the class.*** \n"
   ]
  },
  {
   "cell_type": "markdown",
   "id": "29fba327",
   "metadata": {},
   "source": [
    "## Constructor in Class: \n",
    "\n",
    "A constructor is a method that is called when an object is created. This method is defined in the class and can be used to initialize basic variables.\n",
    "\n",
    "If you create four objects, the class constructor is called four times. Every class has a constructor, but ***its not required to explicitly define it.***\n",
    "\n",
    "The main objective of the constructors is the assign values to the data members of a class when an object of the class is created.\n",
    "\n",
    "<img src = \"img/Constructor.png\"\n",
    "     height= \"400px\"\n",
    "width= \"720px\">\n",
    "\n",
    "Let’s understand the concept of constructor, through this example:"
   ]
  },
  {
   "cell_type": "code",
   "execution_count": 27,
   "id": "2c86c694",
   "metadata": {},
   "outputs": [
    {
     "name": "stdout",
     "output_type": "stream",
     "text": [
      "Name of employee is  Jerome\n",
      "Age of employee is  22\n",
      "Salary of employee is  50\n",
      "Gender of employee is  Male\n",
      "None\n",
      "Name of employee is  Mabel\n",
      "Age of employee is  20\n",
      "Salary of employee is  150\n",
      "Gender of employee is  Female\n",
      "None\n"
     ]
    }
   ],
   "source": [
    "class Employee:\n",
    "\n",
    "    def __init__(self, name, age, salary, gender):\n",
    "\n",
    "        self.name = name\n",
    "\n",
    "        self.age = age\n",
    "\n",
    "        self.salary =  salary\n",
    "\n",
    "        self.gender = gender\n",
    "\n",
    "    def employee_details(self):\n",
    "        \n",
    "        print(\"Name of employee is \",self.name)\n",
    "\n",
    "        print(\"Age of employee is \",self.age)\n",
    "\n",
    "        print(\"Salary of employee is \",self.salary)\n",
    "\n",
    "        print(\"Gender of employee is \",self.gender)\n",
    "\n",
    "employee_1 = Employee(name = \"Jerome\" , age = 22, salary =50, gender = \"Male\")\n",
    "employee_2 = Employee(name = \"Mabel\" , age = 20, salary =150, gender = \"Female\")\n",
    "\n",
    "print(employee_1.employee_details())\n",
    "print(employee_2.employee_details())\n"
   ]
  },
  {
   "cell_type": "markdown",
   "id": "107230b3",
   "metadata": {},
   "source": [
    "#### Code Explanation:\n",
    "\n",
    "Here, we are creating a new class called as Employee. Inside the ‘Employee’ class, we have two methods:\n",
    "\n",
    "1. `__init__()` \n",
    "2. `employee_details( )`\n",
    "\n",
    "`__init__( )` method is what is known  as the ***constructor*** in the class. With the help of this `__init__()` method, we are able to assign the values for name, age, salary and gender.\n",
    "\n",
    "By using,  `self.name = name`, we are assigning the value for name. Similarly, by using, `self.age = age`, we are assigning the value for age. Then by using,    `self.salary =  salar`y, we are assigning the value for salary. And finally, we are assigning the value for gender by using: `self.gender = gender`.\n",
    "\n",
    "Then, with the help of the `employee_details( )` method, we are just printing out the values for `name, age, salary and gender`."
   ]
  },
  {
   "cell_type": "markdown",
   "id": "a65b446e",
   "metadata": {},
   "source": [
    "### Types of Constructors in Python\n",
    "\n",
    "1. Parameterized Constructor\n",
    "2. Non-Parameterized Constructor\n",
    "3. Default Constructor\n",
    "\n",
    "\n",
    "<img src = \"img/typesofconstructor.webp\"\n",
    "     height= \"400px\"\n",
    "width= \"720px\">\n",
    "\n",
    "---\n",
    "\n",
    "1. ***Parameterized Constructor in Python:***\n",
    "\n",
    "When the constructor accepts arguments along with self, it is known as parameterized constructor.\n",
    "\n",
    "These arguments can be used inside the class to assign the values to the data members.\n",
    "\n",
    "***It useful when you want to create an object with custom values for its attributes.*** "
   ]
  },
  {
   "cell_type": "code",
   "execution_count": 18,
   "id": "62db8999",
   "metadata": {},
   "outputs": [
    {
     "name": "stdout",
     "output_type": "stream",
     "text": [
      "Jerome\n",
      "17\n"
     ]
    }
   ],
   "source": [
    "# Let's see an example:\n",
    "\n",
    "class Person:\n",
    "    def __init__(self, name, age):\n",
    "        self.name = name\n",
    "        self.age = age\n",
    "\n",
    "\n",
    "        \n",
    "person = Person(\"Jerome\", 17)\n",
    "print(person.name)\n",
    "print(person.age)"
   ]
  },
  {
   "cell_type": "markdown",
   "id": "fece99ac",
   "metadata": {},
   "source": [
    "In this example, the __init__ method is the parameterized constructor for the `Person class`. It takes two arguments, `name and age`, and it sets the values of the name and age attributes of the object to the values of these arguments."
   ]
  },
  {
   "cell_type": "markdown",
   "id": "b060f4ff",
   "metadata": {},
   "source": [
    "2. ***Non-Parameterized Constructor in Python***\n",
    "\n",
    "When the constructor doesn't accept any arguments from the object and has only one argument,(`self`), in the constructor, it is known as a non-parameterized constructor.\n",
    "\n",
    "- This can be used to set default values for the instance variables of an object when the object is first created.\n",
    "\n",
    "Let's see an example:"
   ]
  },
  {
   "cell_type": "code",
   "execution_count": 24,
   "id": "1f0004a4",
   "metadata": {},
   "outputs": [
    {
     "name": "stdout",
     "output_type": "stream",
     "text": [
      "<__main__.Human object at 0x7fefe1aeb880> is a human and has 2 legs, 2 arms and 206 bones\n"
     ]
    }
   ],
   "source": [
    "class Human:\n",
    "\n",
    "    # Non-parameterized constructor\n",
    "    # Helps set default values which aren't meant to be changed\n",
    "    def __init__(self):\n",
    "        self.legs = 2\n",
    "        self.arms = 2\n",
    "        self.skeletons = 206\n",
    "\n",
    "    def show(self):\n",
    "        print(f\"{self} is a human and has {self.legs} legs, {self.arms} arms and {self.skeletons} bones\")\n",
    "\n",
    "\n",
    "# creating an object of the class\n",
    "sam = Human()\n",
    "\n",
    "# calling the instance method using the object obj\n",
    "sam.show()\n",
    "\n"
   ]
  },
  {
   "cell_type": "markdown",
   "id": "33c6148d",
   "metadata": {},
   "source": [
    "3. ***Default Constructor in Python***\n",
    "\n",
    "When you do not write the constructor in the class created, Python itself creates a constructor during the compilation of the program.\n",
    "\n",
    "It generates an empty constructor that has no code in it. Let's see an example:\n",
    "\n",
    "Example"
   ]
  },
  {
   "cell_type": "code",
   "execution_count": 28,
   "id": "28d65356",
   "metadata": {},
   "outputs": [
    {
     "name": "stdout",
     "output_type": "stream",
     "text": [
      "Name: John Doe, Age: 0\n"
     ]
    }
   ],
   "source": [
    "class Person:\n",
    "    def __init__(self):\n",
    "        self.name = \"John Doe\"\n",
    "        self.age = 0\n",
    "\n",
    "    def display(self):\n",
    "        print(f\"Name: {self.name}, Age: {self.age}\")\n",
    "\n",
    "# Creating an object of the Person class using the default constructor\n",
    "person1 = Person()\n",
    "\n",
    "# Accessing and displaying the attribute values using the instance method\n",
    "person1.display()\n"
   ]
  },
  {
   "cell_type": "markdown",
   "id": "7ec32f86",
   "metadata": {},
   "source": [
    "## Inheritance and Polymorphism\n",
    "\n",
    "### Inheritance\n",
    "***Inheritance*** is a way to form new classes using classes that have already been defined.\n",
    "\n",
    "The newly formed classes are called ***derived classes***, the classes that we derive from are called ***base classes***. \n",
    "\n",
    "The derived classes (descendants) override or extend the functionality of base classes (ancestors).\n",
    "\n",
    "Lets look at this analogy:\n",
    "\n",
    "You would have certain features similar to your father and your father would have certain features similar to your grandfather. This is what is known as inheritance. Or in other words, you can also say that, you have inherited some physical traits from your father and your father has inherited some physical traits from your grandfather.\n",
    "\n",
    "***Important benefits of inheritance are :***\n",
    "\n",
    "1. It provides the reusability of a code and reduction of complexity of a program. We don’t have to write the same code again and again. Also, it allows us to add more features to a class without modifying it.\n",
    "\n",
    "2. It is transitive in nature, which means that if class B inherits from another class A, then all the subclasses of B would automatically inherit from class A.\n",
    "\n",
    "There are two types of classes in inheritance:\n",
    "\n",
    "1. ***Parent class*** is the class being inherited from, also called a ***base class***.\n",
    "2. ***Child class*** is the class that inherits from another class, also called ***derived class***.\n",
    "\n",
    "### Creating a Parent class:\n",
    "Any class can be a parent class, so the syntax is the same as creating any other class."
   ]
  },
  {
   "cell_type": "code",
   "execution_count": 30,
   "id": "79da99fd",
   "metadata": {},
   "outputs": [
    {
     "name": "stdout",
     "output_type": "stream",
     "text": [
      "Animal created\n",
      "Eating...\n",
      "I am an Animal\n"
     ]
    }
   ],
   "source": [
    "# Parent Class Animal\n",
    "class Animal:\n",
    "    def __init__(self):\n",
    "        print(\"Animal created\")\n",
    "\n",
    "    def whoAmI(self):\n",
    "        print(\"I am an Animal\")\n",
    "\n",
    "    def eat(self):\n",
    "        print(\"Eating...\")\n",
    "\n",
    "animal_1 = Animal()\n",
    "animal_1.eat()\n",
    "animal_1.whoAmI()"
   ]
  },
  {
   "cell_type": "markdown",
   "id": "c193d730",
   "metadata": {},
   "source": [
    "### Creating a Child class:\n",
    "\n",
    "To create a class that inherits the functionality from another class, you need to ***specify the parent class as a parameter when defining the child class.*** \n",
    "\n",
    "Syntax:\n",
    "\n",
    "`class ParentClass:`\n",
    ">    #Parent class methods and attributes\n",
    "\n",
    "\n",
    "`class ChildClass(ParentClass):`\n",
    ">    #Child class methods and attributes\n"
   ]
  },
  {
   "cell_type": "code",
   "execution_count": 31,
   "id": "e91f150e",
   "metadata": {},
   "outputs": [
    {
     "name": "stdout",
     "output_type": "stream",
     "text": [
      "Animal created\n",
      "Eating...\n",
      "I am an Animal\n"
     ]
    }
   ],
   "source": [
    "# Creating a ChildClass Dog \n",
    "class Dog(Animal):\n",
    "    # For now lets not add anything\n",
    "    # pass is used since we are yet to add any other properties\n",
    "    pass \n",
    "\n",
    "# we can use the methods from the parent class \"Animal\"\n",
    "dog = Dog()\n",
    "dog.eat()\n",
    "dog.whoAmI()"
   ]
  },
  {
   "cell_type": "markdown",
   "id": "3546795e",
   "metadata": {},
   "source": [
    "From above we can see that the ***child class(Dog) has inherited methods from from the parent class(Animal).***\n",
    "\n",
    "We can add the `__init__` constructor instead of the pass keyword, \n",
    "but when the constructor is added, the child class no longer inherits from parent classs.\n",
    "\n",
    "To ensure that the child class continues to inherit from the parent class we ***add another `__init__` contructor to reference the Parent class.***\n",
    "\n",
    "The example is below:"
   ]
  },
  {
   "cell_type": "code",
   "execution_count": 32,
   "id": "b734e027",
   "metadata": {},
   "outputs": [],
   "source": [
    "class Dog(Animal):\n",
    "    def __init__(self):\n",
    "        Animal.__init__(self)\n",
    "        print(\"Dog Created\")\n",
    "    \n",
    "    # we can overwrite and modify existing inherited methods\n",
    "    def whoAmI(self): \n",
    "        print(\"I am a Dog\")\n",
    "   \n",
    "    # we can add new methods after inheriting from a class   \n",
    "    def bark(self):\n",
    "        print(\"Woof!\")"
   ]
  },
  {
   "cell_type": "code",
   "execution_count": 33,
   "id": "a9564766",
   "metadata": {},
   "outputs": [
    {
     "name": "stdout",
     "output_type": "stream",
     "text": [
      "Animal created\n",
      "Dog Created\n",
      "I am a Dog\n",
      "Eating...\n",
      "Woof!\n"
     ]
    }
   ],
   "source": [
    "dog = Dog()\n",
    "\n",
    "dog.whoAmI()\n",
    "dog.eat()\n",
    "dog.bark()\n"
   ]
  },
  {
   "cell_type": "markdown",
   "id": "03eae96d",
   "metadata": {},
   "source": [
    "### Polymorphisim ( I'll come back to this later)\n",
    "***Polymorphisim*** refers the way in which different object classes can share the same method name and then those methods can be called from the same place even though a variety of different objects might be passed in."
   ]
  },
  {
   "cell_type": "markdown",
   "id": "14eeb610",
   "metadata": {},
   "source": [
    "## Special  (Magic/Dunder) Methods\n",
    "\n",
    "These methods allows us to use built in operations in python such as `len` and `print` function with our own user created objects.\n",
    "\n",
    "***What happens when you check the length or print of one of your own user defined objects?***\n",
    "\n",
    "If you try checking the length you would get an error, if you also try printing the object it will probary return the memory location of the object.\n",
    "\n",
    "When print is used on the object, python looks for the string representation of the object.\n",
    "By default user-defined objects just return the memory location.\n",
    "\n",
    "If you try converting the object into a string using `str( )` you will get a string version of the memory location. \n",
    "\n",
    "\n",
    "1. To correct this we use a special method related to the string call (`str ( )`) which is `__ str __` inside the objects ***class***.\n",
    "\n",
    "By implementing the `__str__()` method, you can define how the object should be represented as a string. It allows you to return a meaningful and human-readable string representation that describes the state or characteristics of the object.\n",
    "\n",
    "2. To add a length to the object we use the `__ len __` method and make it return an attribute that may return the length of the object."
   ]
  },
  {
   "cell_type": "code",
   "execution_count": 36,
   "id": "d56f4123",
   "metadata": {},
   "outputs": [],
   "source": [
    "class Book:\n",
    "    def __init__(self, title, author, pages):\n",
    "        print(\"A book is created\")\n",
    "        self.title = title\n",
    "        self.author = author\n",
    "        self.pages = pages\n",
    "\n",
    "    def __str__(self):\n",
    "        return f\"Title: {self.title}, author: {self.author}, pages: {self.pages}\"\n",
    "\n",
    "    def __len__(self):\n",
    "        return self.pages\n",
    "        \n",
    "    #def __del__(self):    \n",
    "        #print(\"A book is destroyed\")\n",
    "    # used when we want to indicated when the del method is used\n",
    "        \n",
    "        "
   ]
  },
  {
   "cell_type": "code",
   "execution_count": 37,
   "id": "e5c44207",
   "metadata": {},
   "outputs": [
    {
     "name": "stdout",
     "output_type": "stream",
     "text": [
      "A book is created\n",
      "Title: Python For Begineers, author: Jerome, pages: 200\n",
      "200\n"
     ]
    }
   ],
   "source": [
    "book = Book(\"Python For Begineers\", \"Jerome\", 200)\n",
    "\n",
    "# Now lets use print() and len() to see what happens\n",
    "print(book)\n",
    "print(len(book))"
   ]
  },
  {
   "cell_type": "markdown",
   "id": "89339264",
   "metadata": {},
   "source": [
    "## Notes from StackOverflow, Q&A,etc....\n",
    "\n",
    "1. ***What is the meanings of: Instances,Objects,Attributes***\n",
    "\n",
    "\n",
    "- ***Instances*** are related to classes. Whenever you assign a class to a variable, you create an instance of your class.\n",
    "\n",
    "    - ***Objects*** are instances of classes.\n",
    "\n",
    "    - An instance and an object are basically the same thing.\n",
    "\n",
    "- In the context of classes, ***attributes*** are variables that belong to the class or its instances (objects). They are used to store data(such as ***properties***) that is associated with the class or individual instances of the class.\n",
    "\n",
    "\n",
    "2. ***What's the differences between methods and attributes?***\n",
    "\n",
    "    - ***Methods*** are functions that were defined within a class scope,   \n",
    "    > while \n",
    "    \n",
    "    - ***Attributes*** describe the object.(its properties)\n",
    "        -  They are simply what an object is or has (name,age,height)\n",
    "    \n",
    "    \n",
    "\n",
    "For example:\n",
    "\n",
    "> `class Rectangle`:\n",
    ">> `def __init__(self, width, height):`\n",
    ">>> `self.width = width  # Attribute`\n",
    ">>> `self.height = height  # Attribute`\n",
    "    \n",
    ">> `def calculate_area(self): # Method`\n",
    ">>> `return self.width * self.height`  \n",
    "\n",
    "> ***Also one key differences between attributes and methods is the way you call them, \n",
    "Notice that attributes never have ( ), this is because it isn't something to execute , its something that is characteristic of the object you call (basically information about the object)***\n",
    "\n",
    "\n",
    "\n",
    "3. Self refers to the object that is using the method. It refers to the object that will be created from a class. Think of the self keyword as you replacing self with the name of the object that might be used.\n",
    "\n",
    "\n",
    "\n"
   ]
  },
  {
   "cell_type": "markdown",
   "id": "c62e3bb4",
   "metadata": {},
   "source": [
    "\n",
    "##  Class Attribute and Instance Attribute\n",
    "\n",
    "We have two types of attributes in Python namely- Class attribute and Instance attribute.\n",
    "\n",
    "## Class Attribute\n",
    "\n",
    "A class attribute is a Python Variable that belongs to a class rather than a particular object. This is shared between all other objects of the same class. (meaning it can be accessed by any instance of the class.)\n",
    "\n",
    "\n",
    "- The class attributes are defined outside the `__init__()` functions in Python.\n",
    "\n",
    "Let us take an example for more clarity about the class attributes in Python.\n"
   ]
  },
  {
   "cell_type": "code",
   "execution_count": 46,
   "id": "050ec7eb",
   "metadata": {},
   "outputs": [
    {
     "name": "stdout",
     "output_type": "stream",
     "text": [
      "dog1 is a mammal\n",
      "dog2 is a mammal\n"
     ]
    }
   ],
   "source": [
    "class Dog:\n",
    "\n",
    "    species = 'mammal'\n",
    "\n",
    "    def __init__(self, name, age):\n",
    "        self.name = name\n",
    "        self.age = age\n",
    "        \n",
    "dog1 = Dog(\"Bobby\", 5)\n",
    "dog2 = Dog(\"Bell\", 7)\n",
    "\n",
    "print(f\"dog1 is a {dog1.species}\")\n",
    "print(f\"dog2 is a {dog2.species}\")"
   ]
  },
  {
   "cell_type": "markdown",
   "id": "666342f2",
   "metadata": {},
   "source": [
    "## Instance Attribute\n",
    "\n",
    "An attribute that belongs to an instance of the object is called as an instance attribute. \n",
    "\n",
    "- It is defined inside the `__init__` constructor function of a class. \n",
    "\n",
    "In simpler terms, we can say that the instance attributes are variables of the object and they can be different from every object of that class as the attribute values are initialized using objects only.\n",
    "\n",
    "Let us take an example for more clarity about the instance attribute in Python."
   ]
  },
  {
   "cell_type": "code",
   "execution_count": 47,
   "id": "2aa50055",
   "metadata": {},
   "outputs": [
    {
     "name": "stdout",
     "output_type": "stream",
     "text": [
      "The name of dog1 is:  Bobby\n",
      "The name of dog2 is:  Bell\n"
     ]
    }
   ],
   "source": [
    "class Dog:\n",
    "\n",
    "    def __init__(self, name, age):\n",
    "        self.name = name\n",
    "        self.age = age\n",
    "\n",
    "\n",
    "dog1 = Dog(\"Bobby\", 5)\n",
    "dog2 = Dog(\"Bell\", 7)\n",
    "\n",
    "\n",
    "# printing instance attribute of the first object\n",
    "print(\"The name of dog1 is: \", dog1.name)\n",
    "\n",
    "# printing instance attribute of the second object\n",
    "print(\"The name of dog2 is: \", dog2.name)\n"
   ]
  },
  {
   "cell_type": "markdown",
   "id": "eae5d0e1",
   "metadata": {},
   "source": [
    "### Differences Between Class and Instance Attributes\n",
    "\n",
    "The difference is that class attributes are shared by all instances. When you change the value of a class attribute, it will affect all instances that share the same exact value. The attribute of an instance on the other hand is unique to that instance.\n",
    "\n",
    "### Applications of Attributes in Python\n",
    "\n",
    "Let us now look at some of the applications of attributes in Python.\n",
    "\n",
    "1. Class attributes are used to create constant value variables (the variables that do not change their values after their initialization).\n",
    "2. The class attributes can be used in the other methods of the class as well.\n",
    "3. The attributes generally take lesser memory space and less time to initialize than normal variables.\n",
    "4. The class attribute can also be used to list the objects across all the instances.\n",
    "5. The attributes can be used to provide a default value to the variables. This feature comes in handy when we built a large application using classes and objects and we want certain default values if the value of the variable is not provided. For example, if the user does not provide any name then we can set the default name of the user as Anonymous.\n",
    "\n"
   ]
  },
  {
   "cell_type": "markdown",
   "id": "309d780e",
   "metadata": {},
   "source": [
    "## Links\n",
    "\n",
    "### OOP\n",
    "https://www.listendata.com/2019/08/python-object-oriented-programming.html\n",
    "\n",
    "https://python-course.eu/oop/object-oriented-programming.php\n",
    "\n",
    "\n",
    "### Class and Instance Attributes\n",
    "https://realpython.com/lessons/class-and-instance-attributes/"
   ]
  },
  {
   "cell_type": "code",
   "execution_count": null,
   "id": "31a8e6ac",
   "metadata": {},
   "outputs": [],
   "source": []
  }
 ],
 "metadata": {
  "kernelspec": {
   "display_name": "Python 3 (ipykernel)",
   "language": "python",
   "name": "python3"
  },
  "language_info": {
   "codemirror_mode": {
    "name": "ipython",
    "version": 3
   },
   "file_extension": ".py",
   "mimetype": "text/x-python",
   "name": "python",
   "nbconvert_exporter": "python",
   "pygments_lexer": "ipython3",
   "version": "3.9.13"
  }
 },
 "nbformat": 4,
 "nbformat_minor": 5
}
