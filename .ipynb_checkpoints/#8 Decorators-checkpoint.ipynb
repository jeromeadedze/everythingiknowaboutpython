{
 "cells": [
  {
   "cell_type": "markdown",
   "id": "698460f4",
   "metadata": {},
   "source": [
    "# Python Decorators\n",
    "\n",
    "1. Python has a concept called ***decorators*** that allow you to add on extra functionality to already existing function.\n",
    "2. It uses the `@` operator which is placed on top of the original function.\n",
    "With this you can easily add on extra functionality with the decorator.\n",
    "\n",
    "Decorator in Python is an important feature used to add functionalities to an existing function, object, or code without modifying its structure permanently. It allows you to wrap a function to another function and extend its behavior. Decorators in Python are usually called before the definition of the to-be decorated function.\n",
    "\n",
    "\n",
    "- They help to make your code shorter and more \"Pythonic\".\n",
    "\n",
    "\n",
    "### Before we use decorators lets look at functions again\n",
    "\n",
    "1. In Python functions are ***first-class objects*** meaning they have the same properties and abilities as any other object in python. \n",
    "(They are bascically the same as any other object.)\n",
    "\n",
    "This means that functions can be:\n",
    "\n",
    "   - used as arguments to other functions\n",
    "   - returned from another function.\n",
    "   - stored in variables and data structures(stored as dictionary values)\n",
    "   - passed as a parameter in a definition\n",
    "    \n",
    "2. To help remember what first-class objects are, think of the acronym ***'EVAC'***. First-class objects can be used in ***Expressions, as Variables, and as Arguments, and can be returned by function Calls.***"
   ]
  },
  {
   "cell_type": "markdown",
   "id": "e9ea26e6",
   "metadata": {},
   "source": [
    "## Assigning a  variable to a function\n",
    "\n",
    "### 1. Let's define a function called `hello( )` with a specific implementation."
   ]
  },
  {
   "cell_type": "code",
   "execution_count": 1,
   "id": "5d8e35d1",
   "metadata": {},
   "outputs": [],
   "source": [
    "def hello(name='Jerome'):\n",
    "    # Greet Jerome\n",
    "    return 'Hello '+name"
   ]
  },
  {
   "cell_type": "code",
   "execution_count": 2,
   "id": "c3af7c0a",
   "metadata": {},
   "outputs": [
    {
     "data": {
      "text/plain": [
       "'Hello Jerome'"
      ]
     },
     "execution_count": 2,
     "metadata": {},
     "output_type": "execute_result"
    }
   ],
   "source": [
    "hello()"
   ]
  },
  {
   "cell_type": "markdown",
   "id": "38cfeec3",
   "metadata": {},
   "source": [
    "### 2. Now let's assign the `hello()` function to the variable `greet`  by executing `greet = hello`. \n",
    "\n",
    "### Here, it is being assigned a reference to the same function object that hello refers to. It's like giving greet the ability to access and execute the hello function.\n",
    "\n",
    "### `greet` basically takes the function object referenced by `hello()`  and creates a second name pointing to it, which is `bark`."
   ]
  },
  {
   "cell_type": "code",
   "execution_count": 4,
   "id": "9b734253",
   "metadata": {},
   "outputs": [],
   "source": [
    "greet = hello"
   ]
  },
  {
   "cell_type": "code",
   "execution_count": 8,
   "id": "b80aa4b0",
   "metadata": {},
   "outputs": [
    {
     "name": "stdout",
     "output_type": "stream",
     "text": [
      "<function hello at 0x7fe7a110e310>\n",
      "<function hello at 0x7fe7a110e310>\n"
     ]
    }
   ],
   "source": [
    "# Notice that they have the same memory location(reference)\n",
    "print(hello)\n",
    "print(greet)"
   ]
  },
  {
   "cell_type": "markdown",
   "id": "ac81ae61",
   "metadata": {},
   "source": [
    "### 3. When you call `greet()`, it executes the function `hello()` because `greet()` is referencing the function's object. Therefore, it prints `Hello Jerome` as defined in the implementation of the `hello()`function."
   ]
  },
  {
   "cell_type": "code",
   "execution_count": 9,
   "id": "42b91390",
   "metadata": {},
   "outputs": [
    {
     "data": {
      "text/plain": [
       "'Hello Jerome'"
      ]
     },
     "execution_count": 9,
     "metadata": {},
     "output_type": "execute_result"
    }
   ],
   "source": [
    "greet()"
   ]
  },
  {
   "cell_type": "markdown",
   "id": "e248f4a1",
   "metadata": {},
   "source": [
    "### 4. Now, if you delete the function `hello()` using the `del` keyword. \n",
    "\n",
    "### The reference to the `hello()` function object is removed from memory. \n",
    "\n",
    "### However, the variable `greet` still holds a reference to the function object. \n",
    "\n",
    "### So because another name (`greet`) still points to memory location of the `hello()` function you can still call the function through it."
   ]
  },
  {
   "cell_type": "code",
   "execution_count": 10,
   "id": "889de1da",
   "metadata": {},
   "outputs": [],
   "source": [
    "del hello"
   ]
  },
  {
   "cell_type": "code",
   "execution_count": 11,
   "id": "cfa2bbe6",
   "metadata": {},
   "outputs": [
    {
     "ename": "NameError",
     "evalue": "name 'hello' is not defined",
     "output_type": "error",
     "traceback": [
      "\u001b[0;31m---------------------------------------------------------------------------\u001b[0m",
      "\u001b[0;31mNameError\u001b[0m                                 Traceback (most recent call last)",
      "\u001b[0;32m/var/folders/vj/vn07m31j1n7fs08rkytvgvj80000gn/T/ipykernel_17850/2674044599.py\u001b[0m in \u001b[0;36m<module>\u001b[0;34m\u001b[0m\n\u001b[0;32m----> 1\u001b[0;31m \u001b[0mhello\u001b[0m\u001b[0;34m(\u001b[0m\u001b[0;34m)\u001b[0m\u001b[0;34m\u001b[0m\u001b[0;34m\u001b[0m\u001b[0m\n\u001b[0m",
      "\u001b[0;31mNameError\u001b[0m: name 'hello' is not defined"
     ]
    }
   ],
   "source": [
    "hello()"
   ]
  },
  {
   "cell_type": "markdown",
   "id": "5c6202fb",
   "metadata": {},
   "source": [
    "\n",
    "### 5. As a result, even though the `hello()` function is no longer defined, you can still call the function using `greet()` because greet still holds the reference(memory location) to the function object. \n"
   ]
  },
  {
   "cell_type": "code",
   "execution_count": 19,
   "id": "36643181",
   "metadata": {},
   "outputs": [
    {
     "data": {
      "text/plain": [
       "'Hello Jose'"
      ]
     },
     "execution_count": 19,
     "metadata": {},
     "output_type": "execute_result"
    }
   ],
   "source": [
    "greet()"
   ]
  },
  {
   "cell_type": "markdown",
   "id": "9006494b",
   "metadata": {},
   "source": [
    "In summary, `greet` continues to have the `hello()` function because ***it holds a reference to the function object***, independent of the name hello. ***Deleting the name hello does not affect the existing reference*** to the function object, allowing you to still call the function using `greet()`.\n",
    "\n",
    "---\n",
    "\n",
    "When we say that a ***variable holds a reference to an object, it means that the variable stores the memory address where the object is located in the computer's memory. In other words, the variable is pointing to or referring to the object.***\n",
    "\n",
    "In the case of functions in Python, a function is also an object. When you assign a function to a variable, such as `greet = hello`, the variable `greet` is assigned the memory address where the function object is stored. It becomes a reference to that function object.\n",
    "\n",
    "By holding a reference to the function object, you can use the variable (`greet`) to access and execute the function, as if you were directly using the function's name (`hello`). The variable basically acts as an  alternative way to refer to and utilize the function's object.\n",
    "\n",
    "Deleting the original name (`hello`) does not affect the reference held by the variable (`greet`). The variable still points to the same memory address where the function object resides. Therefore, you can continue to call the function using the variable (`greet()`), and it will execute the function because it is referencing the same function object.\n",
    "\n",
    "---\n",
    "\n",
    "An analogy to this explanation is that, imagine someone tells your a secret. If that person dies, you'll still have the person's secret right? "
   ]
  },
  {
   "cell_type": "markdown",
   "id": "ae1b2f87",
   "metadata": {},
   "source": [
    "## passing in functions as arguments"
   ]
  },
  {
   "cell_type": "code",
   "execution_count": 34,
   "id": "e2fc32bf",
   "metadata": {},
   "outputs": [
    {
     "name": "stdout",
     "output_type": "stream",
     "text": [
      "HI, I AM A PYTHON PROGRAM!\n"
     ]
    }
   ],
   "source": [
    "def yell(text):\n",
    "    return text.upper() + '!'\n",
    "\n",
    "def greet(func):\n",
    "    greeting = func('Hi, I am a Python program')\n",
    "    print(greeting)\n",
    "\n",
    "greet(yell)"
   ]
  },
  {
   "cell_type": "markdown",
   "id": "405252e8",
   "metadata": {},
   "source": [
    "## Creating a Decorator"
   ]
  },
  {
   "cell_type": "code",
   "execution_count": 57,
   "id": "7d764a7a",
   "metadata": {},
   "outputs": [],
   "source": [
    "def func_needs_decorator():\n",
    "    print(\"This function is in need of a Decorator\")"
   ]
  },
  {
   "cell_type": "code",
   "execution_count": 73,
   "id": "1963a192",
   "metadata": {},
   "outputs": [],
   "source": [
    "# Takes in a function\n",
    "def new_decorator(func):\n",
    "    \n",
    "    # wraps the function with additional code statements\n",
    "    def wrap_func():\n",
    "        print(\"The code here would be executed before 'func_needs_decorator'\")\n",
    "\n",
    "        func()\n",
    "\n",
    "        print(\"The code here will execute after 'func_needs_decorator'\")\n",
    "    \n",
    "    # returns the modified function\n",
    "    return wrap_func\n"
   ]
  },
  {
   "cell_type": "code",
   "execution_count": 74,
   "id": "6c23a596",
   "metadata": {},
   "outputs": [
    {
     "name": "stdout",
     "output_type": "stream",
     "text": [
      "This function is in need of a Decorator\n"
     ]
    }
   ],
   "source": [
    "func_needs_decorator()"
   ]
  },
  {
   "cell_type": "code",
   "execution_count": 75,
   "id": "310593d9",
   "metadata": {},
   "outputs": [
    {
     "data": {
      "text/plain": [
       "<function __main__.new_decorator.<locals>.wrap_func()>"
      ]
     },
     "execution_count": 75,
     "metadata": {},
     "output_type": "execute_result"
    }
   ],
   "source": [
    "# Pass in func_needs_decorator as an argument in new_decorator()\n",
    "new_decorator(func_needs_decorator)"
   ]
  },
  {
   "cell_type": "code",
   "execution_count": 76,
   "id": "c3610f07",
   "metadata": {},
   "outputs": [],
   "source": [
    "# Assign it a variable so that we can call it\n",
    "decorated_func = new_decorator(func_needs_decorator)"
   ]
  },
  {
   "cell_type": "code",
   "execution_count": 77,
   "id": "23330f83",
   "metadata": {},
   "outputs": [
    {
     "name": "stdout",
     "output_type": "stream",
     "text": [
      "The code here would be executed before 'func_needs_decorator'\n",
      "This function is in need of a Decorator\n",
      "The code here will execute after 'func_needs_decorator'\n"
     ]
    }
   ],
   "source": [
    "decorated_func()"
   ]
  },
  {
   "cell_type": "markdown",
   "id": "90f7b719",
   "metadata": {},
   "source": [
    "So what just happened here? \n",
    "\n",
    "A decorator simply wrapped the function with new code statements and modified its behavior. \n",
    "\n",
    "### Now let's understand how we can rewrite this code using the `@` symbol, which is what Python uses for Decorators:\n",
    "\n",
    "`@new_decorator` is a concise way of applying the decorator to the function. It is equivalent to writing `func_needs_decorator = new_decorator(func_needs_decorator)`."
   ]
  },
  {
   "cell_type": "code",
   "execution_count": 78,
   "id": "1f99a969",
   "metadata": {},
   "outputs": [],
   "source": [
    "@new_decorator\n",
    "def func_needs_decorator():\n",
    "    print(\"This function is in need of a Decorator\")"
   ]
  },
  {
   "cell_type": "code",
   "execution_count": 79,
   "id": "d5581367",
   "metadata": {},
   "outputs": [
    {
     "name": "stdout",
     "output_type": "stream",
     "text": [
      "The code here would be executed before 'func_needs_decorator'\n",
      "This function is in need of a Decorator\n",
      "The code here will execute after 'func_needs_decorator'\n"
     ]
    }
   ],
   "source": [
    "func_needs_decorator()"
   ]
  },
  {
   "cell_type": "code",
   "execution_count": null,
   "id": "d1656b30",
   "metadata": {},
   "outputs": [],
   "source": []
  }
 ],
 "metadata": {
  "kernelspec": {
   "display_name": "Python 3 (ipykernel)",
   "language": "python",
   "name": "python3"
  },
  "language_info": {
   "codemirror_mode": {
    "name": "ipython",
    "version": 3
   },
   "file_extension": ".py",
   "mimetype": "text/x-python",
   "name": "python",
   "nbconvert_exporter": "python",
   "pygments_lexer": "ipython3",
   "version": "3.9.13"
  }
 },
 "nbformat": 4,
 "nbformat_minor": 5
}
