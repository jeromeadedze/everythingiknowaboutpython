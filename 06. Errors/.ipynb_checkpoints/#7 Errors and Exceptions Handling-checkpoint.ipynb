{
 "cells": [
  {
   "cell_type": "markdown",
   "id": "051695f7",
   "metadata": {},
   "source": [
    "# Errors and Exceptions Handling\n",
    "\n",
    "Errors are bound to happen in your code. Especially when a third party attempts to use your code in a wrong way.\n",
    "\n",
    "We use error handling to to plan and predict for possible errors.\n",
    "\n",
    "We use these keywords:\n",
    "1. ***try*** : this represents the block of code to be attempted(which may or may not lead to an error)\n",
    "2. ***except*** : Block of code that gets executed in case there's an error in try block.\n",
    "3. ***finally*** : block of code whiich is always executed regardless of an error. \n",
    "\n",
    "### Example:\n"
   ]
  },
  {
   "cell_type": "code",
   "execution_count": 1,
   "id": "21dfbda2",
   "metadata": {},
   "outputs": [],
   "source": [
    "def add(n1,n2):\n",
    "    print(n1+n2)"
   ]
  },
  {
   "cell_type": "code",
   "execution_count": 2,
   "id": "c8753d38",
   "metadata": {},
   "outputs": [
    {
     "name": "stdout",
     "output_type": "stream",
     "text": [
      "30\n"
     ]
    }
   ],
   "source": [
    "add(10,20)"
   ]
  },
  {
   "cell_type": "code",
   "execution_count": 3,
   "id": "90c9969d",
   "metadata": {},
   "outputs": [],
   "source": [
    "number1 = 10"
   ]
  },
  {
   "cell_type": "code",
   "execution_count": 5,
   "id": "4e43866e",
   "metadata": {},
   "outputs": [
    {
     "name": "stdout",
     "output_type": "stream",
     "text": [
      "Please enter a number: 20\n"
     ]
    }
   ],
   "source": [
    "# Remember input function converts all values to strings\n",
    "number2 = input(\"Please enter a number: \")"
   ]
  },
  {
   "cell_type": "code",
   "execution_count": 7,
   "id": "3ba4ae5d",
   "metadata": {},
   "outputs": [
    {
     "ename": "TypeError",
     "evalue": "unsupported operand type(s) for +: 'int' and 'str'",
     "output_type": "error",
     "traceback": [
      "\u001b[0;31m---------------------------------------------------------------------------\u001b[0m",
      "\u001b[0;31mTypeError\u001b[0m                                 Traceback (most recent call last)",
      "\u001b[0;32m/var/folders/vj/vn07m31j1n7fs08rkytvgvj80000gn/T/ipykernel_32631/1147083537.py\u001b[0m in \u001b[0;36m<module>\u001b[0;34m\u001b[0m\n\u001b[1;32m      1\u001b[0m \u001b[0;31m# we will get a type error since we cant add an int and str\u001b[0m\u001b[0;34m\u001b[0m\u001b[0;34m\u001b[0m\u001b[0m\n\u001b[0;32m----> 2\u001b[0;31m \u001b[0madd\u001b[0m\u001b[0;34m(\u001b[0m\u001b[0mnumber1\u001b[0m\u001b[0;34m,\u001b[0m\u001b[0mnumber2\u001b[0m\u001b[0;34m)\u001b[0m\u001b[0;34m\u001b[0m\u001b[0;34m\u001b[0m\u001b[0m\n\u001b[0m\u001b[1;32m      3\u001b[0m \u001b[0;34m\u001b[0m\u001b[0m\n\u001b[1;32m      4\u001b[0m \u001b[0;31m# notice after the error nothing after it gets executed\u001b[0m\u001b[0;34m\u001b[0m\u001b[0;34m\u001b[0m\u001b[0m\n\u001b[1;32m      5\u001b[0m \u001b[0mprint\u001b[0m\u001b[0;34m(\u001b[0m\u001b[0;34m\"Something went wrong\"\u001b[0m\u001b[0;34m)\u001b[0m\u001b[0;34m\u001b[0m\u001b[0;34m\u001b[0m\u001b[0m\n",
      "\u001b[0;32m/var/folders/vj/vn07m31j1n7fs08rkytvgvj80000gn/T/ipykernel_32631/2401596715.py\u001b[0m in \u001b[0;36madd\u001b[0;34m(n1, n2)\u001b[0m\n\u001b[1;32m      1\u001b[0m \u001b[0;32mdef\u001b[0m \u001b[0madd\u001b[0m\u001b[0;34m(\u001b[0m\u001b[0mn1\u001b[0m\u001b[0;34m,\u001b[0m\u001b[0mn2\u001b[0m\u001b[0;34m)\u001b[0m\u001b[0;34m:\u001b[0m\u001b[0;34m\u001b[0m\u001b[0;34m\u001b[0m\u001b[0m\n\u001b[0;32m----> 2\u001b[0;31m     \u001b[0mprint\u001b[0m\u001b[0;34m(\u001b[0m\u001b[0mn1\u001b[0m\u001b[0;34m+\u001b[0m\u001b[0mn2\u001b[0m\u001b[0;34m)\u001b[0m\u001b[0;34m\u001b[0m\u001b[0;34m\u001b[0m\u001b[0m\n\u001b[0m",
      "\u001b[0;31mTypeError\u001b[0m: unsupported operand type(s) for +: 'int' and 'str'"
     ]
    }
   ],
   "source": [
    "# We will get a type error since we cant add an int and str\n",
    "add(number1,number2)\n",
    "\n",
    "# Notice after the error nothing after it gets executed\n",
    "print(\"Something went wrong\")"
   ]
  },
  {
   "cell_type": "markdown",
   "id": "c6f8cab6",
   "metadata": {},
   "source": [
    "### This is where the concept of `try` and `except` comes in... \n",
    "\n",
    "What it does is that even if an error happens we are going to try and execute it and even if there's an error we can continue with some more code"
   ]
  },
  {
   "cell_type": "code",
   "execution_count": 1,
   "id": "da4ad00f",
   "metadata": {},
   "outputs": [],
   "source": [
    "# Case 1\n",
    "# Case 1 wont produce an error\n",
    "try:\n",
    "    # Attempting a code that may have an error\n",
    "    resultv1 = 10 + 10\n",
    "except:\n",
    "    # what happens when there's an error\n",
    "    print(\"Hey it looks like you aren't adding correctly\")"
   ]
  },
  {
   "cell_type": "code",
   "execution_count": 3,
   "id": "0d544a1d",
   "metadata": {},
   "outputs": [
    {
     "data": {
      "text/plain": [
       "20"
      ]
     },
     "execution_count": 3,
     "metadata": {},
     "output_type": "execute_result"
    }
   ],
   "source": [
    "resultv1"
   ]
  },
  {
   "cell_type": "code",
   "execution_count": 4,
   "id": "ec1047ec",
   "metadata": {},
   "outputs": [
    {
     "name": "stdout",
     "output_type": "stream",
     "text": [
      "Hey it looks like you aren't adding correctly (There's an error)\n",
      "Something went wrong\n"
     ]
    }
   ],
   "source": [
    "# Case 2\n",
    "# Case 2 will produce an error\n",
    "try:\n",
    "    # Attempting a code that may have an error\n",
    "    resultv2 = 10 + \"10\"\n",
    "except:\n",
    "    # what happens when there's an error\n",
    "    print(\"Hey it looks like you aren't adding correctly (There's an error)\")\n",
    "\n",
    "\n",
    "# Notice after the error other codes still get executed\n",
    "print(\"Something went wrong\")\n"
   ]
  },
  {
   "cell_type": "markdown",
   "id": "22c6b435",
   "metadata": {},
   "source": [
    "### we can add an `else` statement after the `except` block of code"
   ]
  },
  {
   "cell_type": "code",
   "execution_count": 23,
   "id": "2f40a09e",
   "metadata": {},
   "outputs": [
    {
     "name": "stdout",
     "output_type": "stream",
     "text": [
      "Addition went well\n",
      "20\n"
     ]
    }
   ],
   "source": [
    "\n",
    "#  code doesn't produce an error\n",
    "try:\n",
    "    # Attempting a code that may have an error\n",
    "    resultv1 = 10 + 10\n",
    "except:\n",
    "    # what happens when there's an error\n",
    "    print(\"Hey it looks like you aren't adding correctly (There's an error)\")\n",
    "else:\n",
    "    print(\"Addition went well\")\n",
    "    print(result)"
   ]
  },
  {
   "cell_type": "markdown",
   "id": "9d1c904b",
   "metadata": {},
   "source": [
    "## `finally`\n",
    "The `finally` block of code will always be run regardless if there was an exception in the try code block. The syntax is:\n",
    "\n",
    "`try`:\n",
    "   >`Some_block_of_code`  \n",
    "\n",
    "`except`:\n",
    "   > `block_of_code executes if there's an error`\n",
    "\n",
    "\n",
    "`finally`:\n",
    "   > `The block_of_code here would always be executed regardless of an error or not`\n",
    "\n",
    "***NB: We can specify the predicted type of errors by adding the error name after the `except` keyword.***\n",
    "\n",
    "The syntax would be:\n",
    "\n",
    "- `except TypeError`, \n",
    "- `except OSError`"
   ]
  },
  {
   "cell_type": "markdown",
   "id": "45e1b427",
   "metadata": {},
   "source": [
    "## Pylint Overview\n",
    "\n",
    "As we begin to work on bigger projects or work with a large team. It then becomes important to have tests in place.\n",
    "This way as you make changes or update your code, you can run test files to make sure your previous code still runs as expected.\n",
    "\n",
    "1. ***pylint:*** library that looks at your code and reports back possible issues.\n",
    "\n",
    "Pylint is a code analysis tool used to identify errors in Python source code. \n",
    "\n",
    "2. ***unittest:*** built-in library that allows you to test your own programs and check that you are getting the desired output.\n",
    "\n",
    "## Using pylint to check codes for errors and styling\n",
    "\n",
    "### Pylint is accessed on the command line.\n",
    "\n",
    "1. On the command line make sure your on the same directory location as the python file.\n",
    "2.  Type in the filename of the python file \n",
    "\n",
    "The syntax here is :\n",
    "  \n",
    "`filename.py -r y`  ( `-r y` is added after the filename )\n",
    "\n",
    "#### After pressing enter you will see reports grading your code: \n",
    "\n",
    "We might see:\n",
    "1. Styling issues\n",
    "2. Errors\n",
    "\n",
    "<img src = \"../img/errors.png\"\n",
    "     height= \"400px\"\n",
    "width= \"720px\">\n",
    "\n",
    "#### At the end of the command line you should see this: \n",
    "#### `Your code has been rated at 0.00/10 (previous run: 0.00/10, +0.00)` \n",
    "\n",
    "<img src = \"../img/errors1.png\"\n",
    "     height= \"400px\"\n",
    "width= \"720px\">\n",
    "\n",
    "The score/rate which we see after running the program with the pylint module is the indicator of ***clarity of the program***.\n",
    "\n",
    "The score indicates that if anyone else would be reading the program, how difficult it would be for them to understand this example program. \n",
    "\n",
    "\n",
    "### Tips to improve your score/rate on pylint\n",
    "It is usually impossible to get a rate of 10.\n",
    "1. Usually a multi line comment at the top\n",
    "2. There are function definitions with multi line comments\n",
    "3. Usually variables aren't single letters\n"
   ]
  },
  {
   "cell_type": "markdown",
   "id": "bc6763b1",
   "metadata": {},
   "source": [
    "## Unit test\n",
    "\n",
    "Unit tests are segments of code written to test other pieces of code, typically a single function or method, that we refer to as a unit. They are a very important part of the software development process, as they help to ensure that code works as intended and catch bugs early on. \n",
    "\n",
    "\n",
    "## Using Unittest to write your own test program\n",
    "\n",
    "### There has to be a python script which will be tested\n",
    "\n",
    "Example below is a test script which has a single function that takes in some text and capitalizes the first character.\n",
    "\n",
    "<img src = \"../img/unittest1.png\"\n",
    "     height= \"400px\"\n",
    "width= \"720px\">\n",
    "\n",
    "\n",
    "\n",
    "\n",
    "### Create the unittest py script\n",
    "Usually when writing a test function it is usually best to go from simple tests to complex. Since each function will run in order.\n",
    "1. Create a python script on a text editor\n",
    "2. ***import unittest*** (a built-in function, add this on the first line)\n",
    "3. import the file you want to test (import ***filename***)\n",
    "\n",
    "\n",
    "<img src = \"../img/unittest.png\"\n",
    "     height= \"400px\"\n",
    "width= \"720px\">\n",
    "\n",
    "4. We can see a ***class TestCap*** has been created which inherits a ***TestCase class*** from the unittest library.(basically a method from unittest)\n",
    "5. Inside the class ***TestCap*** a test method ***test_one_word ( )*** is defined.\n",
    "\n",
    "Now this test method has a ***variable( text = 'python')*** which acts as a sample upon which the function ***cap_text( )*** from the cap file can be tested/used.\n",
    "\n",
    "Its end result is saved in the result variable and the method ***self.assertEqual*** is used to compare whether the function ***cap_text( )*** works.\n",
    "\n",
    "What it does it does it checks whether the ***cap_text*** method returns the capitalized version of the result, by comparing it with a give string which is \"Python\" ( notice how that given string has its first character capitalized )\n",
    "\n",
    "<img src = \"../img/unittest success.png\"\n",
    "     height= \"400px\"\n",
    "width= \"720px\">\n",
    "\n",
    "<img src = \"../img/unittest failed.png\"\n",
    "     height= \"400px\"\n",
    "width= \"720px\">"
   ]
  },
  {
   "cell_type": "markdown",
   "id": "666023e7",
   "metadata": {},
   "source": [
    "## Links\n",
    "\n",
    "### Pylint\n",
    "https://www.javatpoint.com/python-pylint-module\n",
    "\n",
    "### Unit test\n",
    "https://www.dataquest.io/blog/unit-tests-python/#:~:text=Unit%20tests%20are%20segments%20of,and%20catch%20bugs%20early%20on.\n",
    "\n",
    "https://machinelearningmastery.com/a-gentle-introduction-to-unit-testing-in-python/"
   ]
  },
  {
   "cell_type": "code",
   "execution_count": null,
   "id": "c910153f",
   "metadata": {},
   "outputs": [],
   "source": []
  }
 ],
 "metadata": {
  "kernelspec": {
   "display_name": "Python 3 (ipykernel)",
   "language": "python",
   "name": "python3"
  },
  "language_info": {
   "codemirror_mode": {
    "name": "ipython",
    "version": 3
   },
   "file_extension": ".py",
   "mimetype": "text/x-python",
   "name": "python",
   "nbconvert_exporter": "python",
   "pygments_lexer": "ipython3",
   "version": "3.9.13"
  }
 },
 "nbformat": 4,
 "nbformat_minor": 5
}
