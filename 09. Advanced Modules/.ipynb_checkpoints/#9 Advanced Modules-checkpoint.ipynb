{
 "cells": [
  {
   "cell_type": "markdown",
   "id": "f9700c32",
   "metadata": {},
   "source": [
    "# Advanced Modules\n",
    "\n",
    "Python has several built in modules that we are yet to explore\n",
    "\n",
    "In this document we will dive deeper into some useful built in modules and explore their use cases.\n",
    "\n",
    "Modules Covered are:\n",
    "1. Collections\n",
    "2. Os module and Datetime\n",
    "3. Math and Random\n",
    "4. Python Debugger\n",
    "5. Timeit\n",
    "6. Regular Expressions\n",
    "7. Unzipping and Zipping Modules"
   ]
  },
  {
   "cell_type": "markdown",
   "id": "6abd4b61",
   "metadata": {},
   "source": [
    "## 1. Collections Module\n",
    "\n",
    "The collections module is a built-in module that implements specialized container data types providing alternatives to Python’s general purpose built-in containers(dict, list, set, and tuple).\n",
    "\n",
    "### Counter\n",
    "Sometimes you need to count the objects in a given data source to know how often they occur. In other words, you need to determine their frequency. For example, you might want to know how often a specific item appears in a list or sequence of values. When your list is short, counting the items can be straightforward and quick. However, when you have a long list, counting things can be more challenging.\n",
    "\n",
    "---\n",
    "\n",
    "***Counter*** is an unordered collection where elements are stored as Dict keys and their count as dict value.\n",
    "\n",
    "Let's see how it can be used:"
   ]
  },
  {
   "cell_type": "code",
   "execution_count": 1,
   "id": "0f0970dd",
   "metadata": {},
   "outputs": [],
   "source": [
    "from collections import Counter"
   ]
  },
  {
   "cell_type": "code",
   "execution_count": 2,
   "id": "8144112a",
   "metadata": {},
   "outputs": [
    {
     "data": {
      "text/plain": [
       "Counter({1: 6, 2: 6, 3: 4, 12: 1, 32: 1, 21: 1, 223: 1})"
      ]
     },
     "execution_count": 2,
     "metadata": {},
     "output_type": "execute_result"
    }
   ],
   "source": [
    "# Counter with lists\n",
    "lst = [1,2,2,2,2,3,3,3,1,2,1,12,3,2,32,1,21,1,223,1]\n",
    "Counter(lst)"
   ]
  },
  {
   "cell_type": "code",
   "execution_count": 3,
   "id": "356ec909",
   "metadata": {},
   "outputs": [
    {
     "data": {
      "text/plain": [
       "Counter({'a': 2, 'b': 7, 's': 6, 'h': 3})"
      ]
     },
     "execution_count": 3,
     "metadata": {},
     "output_type": "execute_result"
    }
   ],
   "source": [
    "# Counter with strings\n",
    "Counter('aabsbsbsbhshhbbsbs')"
   ]
  },
  {
   "cell_type": "code",
   "execution_count": 5,
   "id": "0f4aee62",
   "metadata": {},
   "outputs": [
    {
     "data": {
      "text/plain": [
       "Counter({'How': 1,\n",
       "         'many': 1,\n",
       "         'times': 2,\n",
       "         'does': 1,\n",
       "         'each': 3,\n",
       "         'word': 3,\n",
       "         'show': 1,\n",
       "         'up': 1,\n",
       "         'in': 1,\n",
       "         'this': 1,\n",
       "         'sentence': 1})"
      ]
     },
     "execution_count": 5,
     "metadata": {},
     "output_type": "execute_result"
    }
   ],
   "source": [
    "# Counter with words in a sentence\n",
    "s = 'How many times does each word show up in this sentence word times each each word'\n",
    "\n",
    "words = s.split()\n",
    "\n",
    "words\n",
    "\n",
    "Counter(words)"
   ]
  },
  {
   "cell_type": "code",
   "execution_count": 6,
   "id": "8661a0b7",
   "metadata": {},
   "outputs": [
    {
     "data": {
      "text/plain": [
       "[('each', 3), ('word', 3)]"
      ]
     },
     "execution_count": 6,
     "metadata": {},
     "output_type": "execute_result"
    }
   ],
   "source": [
    "# Methods with Counter()\n",
    "c = Counter(words)\n",
    "\n",
    "# most_common method checks words with most counts\n",
    "c.most_common(2) # we specified the number of counts to return"
   ]
  },
  {
   "cell_type": "markdown",
   "id": "dc52802a",
   "metadata": {},
   "source": [
    "### defaultdict\n",
    "In a normal python dictionary, if you call a wrong key you usually get an error.\n",
    "\n",
    "With a ***defaultdict*** it assigns a default value if there's an instance where there's a key error.\n",
    "\n",
    "Let's look at this example:"
   ]
  },
  {
   "cell_type": "code",
   "execution_count": 1,
   "id": "2f8b5bb8",
   "metadata": {},
   "outputs": [],
   "source": [
    "from collections import defaultdict"
   ]
  },
  {
   "cell_type": "code",
   "execution_count": 12,
   "id": "f1dd6a14",
   "metadata": {},
   "outputs": [
    {
     "data": {
      "text/plain": [
       "'\\n\\nor we can print a message \\n\\nd = defaultdict(lambda: print(\"Key doesn\\'t exist\"))\\n\\n'"
      ]
     },
     "execution_count": 12,
     "metadata": {},
     "output_type": "execute_result"
    }
   ],
   "source": [
    "# If a key that doesn't exist in a dictionary is called\n",
    "# It assigns a value that is defined in the defaultdict \n",
    "\n",
    "d = defaultdict(lambda: 0)\n",
    "\n",
    "\"\"\"\n",
    "\n",
    "or we can print a message \n",
    "\n",
    "d = defaultdict(lambda: print(\"Key doesn't exist\"))\n",
    "\n",
    "\"\"\""
   ]
  },
  {
   "cell_type": "markdown",
   "id": "7702993f",
   "metadata": {},
   "source": [
    "#### Why is a lambda expression used here?\n",
    "1. \n",
    "That's so we didn't need to define a function.\n",
    "\n",
    "Remember that lambdas are something like an anonymous function, thus, this is the same as a function that returns 0.\n",
    "\n",
    "`lambda: 0` \n",
    "\n",
    "is basically the same as\n",
    "\n",
    ">`def myfunc():`\n",
    "\n",
    ">>`return 0`\n",
    "    \n",
    "2. \n",
    "The first argument to defaultdict needs to be a callable (or  None) -- it can be a lambda, a regular named function, or even a class. That callable  needs to return a value that will be paired with a key, if that key has not been previously defined.\n",
    "\n",
    "In a regular dictionary, if you try to access a key that doesn't exist, you will get an error. In a defaultdict, if you've provided the callable, it will assign the value returned by that callable to the key, and add that to the dictionary -- you won't get an error.\n",
    "\n",
    "A ***callable*** is is any object that can be called like a function."
   ]
  },
  {
   "cell_type": "code",
   "execution_count": 8,
   "id": "8c6a0117",
   "metadata": {},
   "outputs": [],
   "source": [
    "d[\"correct\"] = 100"
   ]
  },
  {
   "cell_type": "code",
   "execution_count": 9,
   "id": "9662a4ed",
   "metadata": {},
   "outputs": [
    {
     "data": {
      "text/plain": [
       "100"
      ]
     },
     "execution_count": 9,
     "metadata": {},
     "output_type": "execute_result"
    }
   ],
   "source": [
    "d[\"correct\"]"
   ]
  },
  {
   "cell_type": "code",
   "execution_count": 10,
   "id": "d60351b7",
   "metadata": {},
   "outputs": [
    {
     "data": {
      "text/plain": [
       "0"
      ]
     },
     "execution_count": 10,
     "metadata": {},
     "output_type": "execute_result"
    }
   ],
   "source": [
    "d[\"Wrong Key\"]"
   ]
  },
  {
   "cell_type": "code",
   "execution_count": 11,
   "id": "f2d4f0e1",
   "metadata": {},
   "outputs": [
    {
     "data": {
      "text/plain": [
       "defaultdict(<function __main__.<lambda>()>, {'correct': 100, 'Wrong Key': 0})"
      ]
     },
     "execution_count": 11,
     "metadata": {},
     "output_type": "execute_result"
    }
   ],
   "source": [
    "d"
   ]
  },
  {
   "cell_type": "markdown",
   "id": "bb161c7f",
   "metadata": {},
   "source": [
    "### namedtuple\n",
    "The standard tuple uses numerical indexes to access its members.\n",
    "For simple use cases, this is usually enough. \n",
    "\n",
    "On the other hand, remembering which index should be used for each value can lead to errors, especially if the tuple has a lot of fields and is constructed far from where it is used. \n",
    "\n",
    "***A namedtuple assigns names, as well as the numerical index, to each member.***\n",
    "\n",
    "Each kind of namedtuple is represented by its ***own class, created by using the namedtuple() factory function.*** The arguments are the ***name of the new class and a list of strings containing the names of the elements.***\n",
    "\n",
    "You can basically think of namedtuples as a very quick way of creating a new object/class type with some attribute fields. \n",
    "\n",
    "For example:\n",
    "\n"
   ]
  },
  {
   "cell_type": "code",
   "execution_count": 13,
   "id": "0488fd88",
   "metadata": {},
   "outputs": [],
   "source": [
    "from collections import namedtuple"
   ]
  },
  {
   "cell_type": "code",
   "execution_count": 14,
   "id": "709a0352",
   "metadata": {},
   "outputs": [],
   "source": [
    "\n",
    "Dog = namedtuple('Dog',['age','breed','name'])\n",
    "\n",
    "# Instances of the Dog object\n",
    "\n",
    "sam = Dog(age=2,breed='Lab',name='Sammy')\n",
    "\n",
    "frank = Dog(age=2,breed='Shepard',name=\"Frankie\")"
   ]
  },
  {
   "cell_type": "code",
   "execution_count": 15,
   "id": "ee89ac35",
   "metadata": {},
   "outputs": [
    {
     "data": {
      "text/plain": [
       "__main__.Dog"
      ]
     },
     "execution_count": 15,
     "metadata": {},
     "output_type": "execute_result"
    }
   ],
   "source": [
    "type(sam)"
   ]
  },
  {
   "cell_type": "code",
   "execution_count": 17,
   "id": "8de3a4bf",
   "metadata": {},
   "outputs": [
    {
     "data": {
      "text/plain": [
       "Dog(age=2, breed='Lab', name='Sammy')"
      ]
     },
     "execution_count": 17,
     "metadata": {},
     "output_type": "execute_result"
    }
   ],
   "source": [
    "# The output is basically a tuple with an attached class/type name\n",
    "sam"
   ]
  },
  {
   "cell_type": "code",
   "execution_count": 18,
   "id": "4039472d",
   "metadata": {},
   "outputs": [
    {
     "data": {
      "text/plain": [
       "2"
      ]
     },
     "execution_count": 18,
     "metadata": {},
     "output_type": "execute_result"
    }
   ],
   "source": [
    "# we can call the value using its named variable\n",
    "sam.age"
   ]
  },
  {
   "cell_type": "code",
   "execution_count": 19,
   "id": "bf40d46c",
   "metadata": {},
   "outputs": [
    {
     "data": {
      "text/plain": [
       "'Lab'"
      ]
     },
     "execution_count": 19,
     "metadata": {},
     "output_type": "execute_result"
    }
   ],
   "source": [
    "sam.breed"
   ]
  },
  {
   "cell_type": "code",
   "execution_count": 22,
   "id": "9c266b7d",
   "metadata": {},
   "outputs": [
    {
     "data": {
      "text/plain": [
       "2"
      ]
     },
     "execution_count": 22,
     "metadata": {},
     "output_type": "execute_result"
    }
   ],
   "source": [
    "# we can also call the value using its index\n",
    "sam[0]"
   ]
  },
  {
   "cell_type": "code",
   "execution_count": 23,
   "id": "73a8dfdd",
   "metadata": {},
   "outputs": [
    {
     "data": {
      "text/plain": [
       "'Lab'"
      ]
     },
     "execution_count": 23,
     "metadata": {},
     "output_type": "execute_result"
    }
   ],
   "source": [
    "sam[1]"
   ]
  },
  {
   "cell_type": "markdown",
   "id": "518793c8",
   "metadata": {},
   "source": [
    "## 2. OS Module\n",
    "The os module is useful because it allows you to do things like get the current working directory or list all files in a directory\n",
    "\n",
    "Let look at these example:"
   ]
  },
  {
   "cell_type": "code",
   "execution_count": 26,
   "id": "bede8a6e",
   "metadata": {},
   "outputs": [],
   "source": [
    "import os"
   ]
  },
  {
   "cell_type": "code",
   "execution_count": 27,
   "id": "ba51c344",
   "metadata": {},
   "outputs": [
    {
     "data": {
      "text/plain": [
       "'/Users/adedze/Documents/SE Docs/My Jupyter Notes /Python/Everything I Know About Python/09. Advanced Modules'"
      ]
     },
     "execution_count": 27,
     "metadata": {},
     "output_type": "execute_result"
    }
   ],
   "source": [
    "# get current working directory\n",
    "os.getcwd()"
   ]
  },
  {
   "cell_type": "markdown",
   "id": "614d7ba0",
   "metadata": {},
   "source": [
    "We could have used `pwd` but this only works in jupyter or your command line but the `os.getcwd()` works within any python scripts.\n"
   ]
  },
  {
   "cell_type": "code",
   "execution_count": 28,
   "id": "d7831fb4",
   "metadata": {},
   "outputs": [
    {
     "data": {
      "text/plain": [
       "['#9 Advanced Modules.ipynb', '.ipynb_checkpoints']"
      ]
     },
     "execution_count": 28,
     "metadata": {},
     "output_type": "execute_result"
    }
   ],
   "source": [
    "# Lists all items in current directory\n",
    "# We can specify which directory by adding its location as an argument\n",
    "os.listdir()\n"
   ]
  },
  {
   "cell_type": "markdown",
   "id": "9fe41d8e",
   "metadata": {},
   "source": [
    "### Moving files around\n",
    "We import the ***shutil(shell utilities module)*** which can be used to move files to different locations"
   ]
  },
  {
   "cell_type": "code",
   "execution_count": 29,
   "id": "b75d34f2",
   "metadata": {},
   "outputs": [],
   "source": [
    "import shutil"
   ]
  },
  {
   "cell_type": "code",
   "execution_count": 31,
   "id": "596ee20a",
   "metadata": {},
   "outputs": [],
   "source": [
    "# this takes in the file location and where you want to move it to\n",
    "shutil.move(\"source\", \"destination\")"
   ]
  },
  {
   "cell_type": "markdown",
   "id": "ffca74d1",
   "metadata": {},
   "source": [
    "### Deleting Files\n",
    "\n",
    "1. `os.unlink(\"file path\")` - deletes files\n",
    "2. `os.rmdir(\"folder path\")` - deletes empty folders\n",
    "3. `send2trash.send2trash(\"filepath\")` - sends file to trash bin\n",
    "\n",
    "- with `send2trash` you need to install it using the pip install before importing it.\n",
    "\n",
    "### Walking through a directory\n",
    "\n",
    "Often you will just need to \"walk\" through a directory, that is visit every file or folder and check to see if a file is in the directory, and then perhaps do something with that file. Usually recursively walking through every file and folder in a directory would be quite tricky to program, but luckily the os module has a direct method call for this called os.walk(). \n",
    "\n",
    "4. `os.walk` - looks at every single thing in the file path, with this you can add in logic(***you can use for loop, tuple unpacking and if statements***)\n",
    "\n",
    "Let's explore how it works:"
   ]
  },
  {
   "cell_type": "code",
   "execution_count": 38,
   "id": "30e25c47",
   "metadata": {},
   "outputs": [
    {
     "data": {
      "text/plain": [
       "'/Users/adedze/Documents/SE Docs/My Jupyter Notes /Python/Everything I Know About Python/09. Advanced Modules'"
      ]
     },
     "execution_count": 38,
     "metadata": {},
     "output_type": "execute_result"
    }
   ],
   "source": [
    "os.getcwd()"
   ]
  },
  {
   "cell_type": "code",
   "execution_count": 39,
   "id": "07ccffaf",
   "metadata": {},
   "outputs": [],
   "source": [
    "file_path = '/Users/adedze/Documents/SE Docs/My Jupyter Notes /Everything I Know About Python/walk'\n"
   ]
  },
  {
   "cell_type": "code",
   "execution_count": 40,
   "id": "622254f7",
   "metadata": {},
   "outputs": [],
   "source": [
    "for folder, sub_folders, files in os.walk(file_path):\n",
    "    \n",
    "    print(\"Currently looking at folder: \"+ folder)\n",
    "    print('\\n')\n",
    "    print(\"THE SUBFOLDERS ARE: \")\n",
    "    \n",
    "    for sub_folder in sub_folders:\n",
    "        print(\"\\t Subfolder: \"+sub_folder )\n",
    "    \n",
    "    print('\\n')\n",
    "    \n",
    "    print(\"THE FILES ARE: \")\n",
    "    for f in files:\n",
    "        print(\"\\t File: \"+f)\n",
    "    print('\\n')\n",
    "    \n",
    "    "
   ]
  },
  {
   "cell_type": "markdown",
   "id": "46fec985",
   "metadata": {},
   "source": [
    "## 3. Datetime Module\n",
    "Allows you to create objects that have information on date, time, timezones, and operations between datetime objects like how many seconds have passed or how many days have passed."
   ]
  },
  {
   "cell_type": "code",
   "execution_count": 41,
   "id": "0962b1ae",
   "metadata": {},
   "outputs": [],
   "source": [
    "import datetime"
   ]
  },
  {
   "cell_type": "code",
   "execution_count": 42,
   "id": "98c830be",
   "metadata": {},
   "outputs": [],
   "source": [
    "# creating datetime object\n",
    "# time takes in arguments like hour, minute, second.....\n",
    "mytime = datetime.time(2,35)"
   ]
  },
  {
   "cell_type": "code",
   "execution_count": 43,
   "id": "18d4dedd",
   "metadata": {},
   "outputs": [
    {
     "name": "stdout",
     "output_type": "stream",
     "text": [
      "02:35:00\n"
     ]
    }
   ],
   "source": [
    "print(mytime)"
   ]
  },
  {
   "cell_type": "code",
   "execution_count": 44,
   "id": "2980fa6b",
   "metadata": {},
   "outputs": [
    {
     "data": {
      "text/plain": [
       "2"
      ]
     },
     "execution_count": 44,
     "metadata": {},
     "output_type": "execute_result"
    }
   ],
   "source": [
    "mytime.hour"
   ]
  },
  {
   "cell_type": "code",
   "execution_count": 45,
   "id": "180c7836",
   "metadata": {},
   "outputs": [
    {
     "data": {
      "text/plain": [
       "35"
      ]
     },
     "execution_count": 45,
     "metadata": {},
     "output_type": "execute_result"
    }
   ],
   "source": [
    "mytime.minute"
   ]
  },
  {
   "cell_type": "code",
   "execution_count": 46,
   "id": "9e996106",
   "metadata": {},
   "outputs": [],
   "source": [
    "# date objects\n",
    "# we can use the method today() from date to get current date \n",
    "# instead of giving it the input\n",
    "today = datetime.date.today()"
   ]
  },
  {
   "cell_type": "code",
   "execution_count": 47,
   "id": "ad2c8543",
   "metadata": {},
   "outputs": [
    {
     "name": "stdout",
     "output_type": "stream",
     "text": [
      "2023-07-19\n"
     ]
    }
   ],
   "source": [
    "print(today)"
   ]
  },
  {
   "cell_type": "code",
   "execution_count": 48,
   "id": "aae95275",
   "metadata": {},
   "outputs": [
    {
     "data": {
      "text/plain": [
       "2023"
      ]
     },
     "execution_count": 48,
     "metadata": {},
     "output_type": "execute_result"
    }
   ],
   "source": [
    "today.year"
   ]
  },
  {
   "cell_type": "code",
   "execution_count": 31,
   "id": "567ff1b7",
   "metadata": {},
   "outputs": [],
   "source": [
    "# when you want both date information and time information\n",
    "# we import datetime from datetime\n",
    "from datetime import datetime"
   ]
  },
  {
   "cell_type": "code",
   "execution_count": 32,
   "id": "6e4238dd",
   "metadata": {},
   "outputs": [],
   "source": [
    "mydatetime = datetime(2022,6,10,2)"
   ]
  },
  {
   "cell_type": "code",
   "execution_count": 33,
   "id": "eddef5a5",
   "metadata": {},
   "outputs": [
    {
     "name": "stdout",
     "output_type": "stream",
     "text": [
      "2023-06-10 02:00:00\n"
     ]
    }
   ],
   "source": [
    "print(mydatetime)"
   ]
  },
  {
   "cell_type": "code",
   "execution_count": 34,
   "id": "7a0ddca3",
   "metadata": {},
   "outputs": [],
   "source": [
    "# if we made a mistake we can use the replace( ) method and specify\n",
    "# what you want to replace\n",
    "\n",
    "mydatetime = mydatetime.replace(year = 2023)"
   ]
  },
  {
   "cell_type": "code",
   "execution_count": 36,
   "id": "62c3ff9d",
   "metadata": {},
   "outputs": [
    {
     "name": "stdout",
     "output_type": "stream",
     "text": [
      "2023-06-10 02:00:00\n"
     ]
    }
   ],
   "source": [
    "print(mydatetime)"
   ]
  },
  {
   "cell_type": "markdown",
   "id": "ed99007f",
   "metadata": {},
   "source": [
    "## Arithmetics\n",
    "We can perform arithmetic on date objects to check for time differences. For example:"
   ]
  },
  {
   "cell_type": "code",
   "execution_count": 47,
   "id": "ba245654",
   "metadata": {},
   "outputs": [],
   "source": [
    "d1 = datetime(2004,1,17)\n",
    "d2 = datetime(2023,1,17)"
   ]
  },
  {
   "cell_type": "code",
   "execution_count": 48,
   "id": "2fec2dfc",
   "metadata": {},
   "outputs": [
    {
     "data": {
      "text/plain": [
       "datetime.timedelta(days=6940)"
      ]
     },
     "execution_count": 48,
     "metadata": {},
     "output_type": "execute_result"
    }
   ],
   "source": [
    "d2-d1"
   ]
  },
  {
   "cell_type": "code",
   "execution_count": 49,
   "id": "23001c4c",
   "metadata": {},
   "outputs": [],
   "source": [
    "result = d2-d1"
   ]
  },
  {
   "cell_type": "code",
   "execution_count": 54,
   "id": "0b99e9de",
   "metadata": {},
   "outputs": [
    {
     "data": {
      "text/plain": [
       "datetime.timedelta"
      ]
     },
     "execution_count": 54,
     "metadata": {},
     "output_type": "execute_result"
    }
   ],
   "source": [
    "# checking the type returns a timedelta object which has its \n",
    "# methods and attributes\n",
    "type(result)"
   ]
  },
  {
   "cell_type": "code",
   "execution_count": 55,
   "id": "bd49d6cb",
   "metadata": {},
   "outputs": [
    {
     "data": {
      "text/plain": [
       "6940"
      ]
     },
     "execution_count": 55,
     "metadata": {},
     "output_type": "execute_result"
    }
   ],
   "source": [
    "result.days"
   ]
  },
  {
   "cell_type": "markdown",
   "id": "296cdaf7",
   "metadata": {},
   "source": [
    "## 4. Math and Random Module\n"
   ]
  },
  {
   "cell_type": "code",
   "execution_count": 56,
   "id": "2f08ccb1",
   "metadata": {},
   "outputs": [],
   "source": [
    "import math"
   ]
  },
  {
   "cell_type": "code",
   "execution_count": 59,
   "id": "23fb555e",
   "metadata": {},
   "outputs": [],
   "source": [
    "# if you want to discover what the math module has\n",
    "help(math)"
   ]
  },
  {
   "cell_type": "code",
   "execution_count": 58,
   "id": "642c730d",
   "metadata": {},
   "outputs": [],
   "source": [
    "# rounding number\n",
    "value = 4.35"
   ]
  },
  {
   "cell_type": "code",
   "execution_count": 60,
   "id": "0248c160",
   "metadata": {},
   "outputs": [
    {
     "data": {
      "text/plain": [
       "4"
      ]
     },
     "execution_count": 60,
     "metadata": {},
     "output_type": "execute_result"
    }
   ],
   "source": [
    "# rounding to integer that is less or equal to the value\n",
    "math.floor(value)"
   ]
  },
  {
   "cell_type": "code",
   "execution_count": 61,
   "id": "1c170b3d",
   "metadata": {},
   "outputs": [
    {
     "data": {
      "text/plain": [
       "5"
      ]
     },
     "execution_count": 61,
     "metadata": {},
     "output_type": "execute_result"
    }
   ],
   "source": [
    "# rounds integer to the next value up regardless if its close to\n",
    "# that value\n",
    "math.ceil(value)"
   ]
  },
  {
   "cell_type": "code",
   "execution_count": 62,
   "id": "3c64fd3e",
   "metadata": {},
   "outputs": [
    {
     "data": {
      "text/plain": [
       "3.141592653589793"
      ]
     },
     "execution_count": 62,
     "metadata": {},
     "output_type": "execute_result"
    }
   ],
   "source": [
    "# Calling math constants\n",
    "math.pi"
   ]
  },
  {
   "cell_type": "code",
   "execution_count": 63,
   "id": "b8a83449",
   "metadata": {},
   "outputs": [
    {
     "data": {
      "text/plain": [
       "2.718281828459045"
      ]
     },
     "execution_count": 63,
     "metadata": {},
     "output_type": "execute_result"
    }
   ],
   "source": [
    "math.e"
   ]
  },
  {
   "cell_type": "markdown",
   "id": "95cea15f",
   "metadata": {},
   "source": [
    "There's log, trig functions, and more...."
   ]
  },
  {
   "cell_type": "markdown",
   "id": "4eb03087",
   "metadata": {},
   "source": [
    "## Random Module\n",
    "\n",
    " "
   ]
  },
  {
   "cell_type": "code",
   "execution_count": 64,
   "id": "353b7980",
   "metadata": {},
   "outputs": [],
   "source": [
    "import random"
   ]
  },
  {
   "cell_type": "markdown",
   "id": "3c9c6df6",
   "metadata": {},
   "source": [
    "## 5. Python Debugger\n",
    "\n",
    "When trying to figure out errors within your code , sometimes we try using the `print( )` function to track down the error by printing out variable within a script.\n",
    "\n",
    "A better way of doing this is by using Python's built-in debugger module (`pdb`). The `pdb` module implements an interactive debugging environment for Python programs. It includes features to let you pause your program, look at the values of variables, and watch program execution step-by-step, so you can understand what your program actually does and find bugs in the logic."
   ]
  },
  {
   "cell_type": "code",
   "execution_count": 1,
   "id": "f6f45a6d",
   "metadata": {},
   "outputs": [
    {
     "name": "stdout",
     "output_type": "stream",
     "text": [
      "5\n"
     ]
    },
    {
     "ename": "TypeError",
     "evalue": "can only concatenate list (not \"int\") to list",
     "output_type": "error",
     "traceback": [
      "\u001b[0;31m---------------------------------------------------------------------------\u001b[0m",
      "\u001b[0;31mTypeError\u001b[0m                                 Traceback (most recent call last)",
      "\u001b[0;32m/var/folders/vj/vn07m31j1n7fs08rkytvgvj80000gn/T/ipykernel_76551/551475741.py\u001b[0m in \u001b[0;36m<module>\u001b[0;34m\u001b[0m\n\u001b[1;32m     10\u001b[0m \u001b[0mresult1\u001b[0m \u001b[0;34m=\u001b[0m \u001b[0my\u001b[0m \u001b[0;34m+\u001b[0m \u001b[0mz\u001b[0m\u001b[0;34m\u001b[0m\u001b[0;34m\u001b[0m\u001b[0m\n\u001b[1;32m     11\u001b[0m \u001b[0mprint\u001b[0m\u001b[0;34m(\u001b[0m\u001b[0mresult1\u001b[0m\u001b[0;34m)\u001b[0m\u001b[0;34m\u001b[0m\u001b[0;34m\u001b[0m\u001b[0m\n\u001b[0;32m---> 12\u001b[0;31m \u001b[0mresult2\u001b[0m \u001b[0;34m=\u001b[0m \u001b[0mx\u001b[0m \u001b[0;34m+\u001b[0m \u001b[0my\u001b[0m\u001b[0;34m\u001b[0m\u001b[0;34m\u001b[0m\u001b[0m\n\u001b[0m\u001b[1;32m     13\u001b[0m \u001b[0mprint\u001b[0m\u001b[0;34m(\u001b[0m\u001b[0mresult12\u001b[0m\u001b[0;34m)\u001b[0m\u001b[0;34m\u001b[0m\u001b[0;34m\u001b[0m\u001b[0m\n\u001b[1;32m     14\u001b[0m \u001b[0;34m\u001b[0m\u001b[0m\n",
      "\u001b[0;31mTypeError\u001b[0m: can only concatenate list (not \"int\") to list"
     ]
    }
   ],
   "source": [
    "# Trying to debug with print statement\n",
    "\n",
    "x = [1,2,3]\n",
    "y = 2\n",
    "z = 3\n",
    "\n",
    "# running this cell leads to an error \n",
    "# we try using print function to trace the error\n",
    "\n",
    "result1 = y + z\n",
    "print(result1)\n",
    "result2 = x + y\n",
    "print(result12)\n",
    "\n",
    "# we can see below that result1 gives it value, meaning the error\n",
    "# is somewhere after result1, this can be tedious"
   ]
  },
  {
   "cell_type": "code",
   "execution_count": 2,
   "id": "194f96b0",
   "metadata": {},
   "outputs": [],
   "source": [
    "# Using the Python Debugger\n",
    "import pdb"
   ]
  },
  {
   "cell_type": "code",
   "execution_count": null,
   "id": "24ac7c6e",
   "metadata": {},
   "outputs": [
    {
     "name": "stdout",
     "output_type": "stream",
     "text": [
      "--Return--\n",
      "None\n",
      "> \u001b[0;32m/var/folders/vj/vn07m31j1n7fs08rkytvgvj80000gn/T/ipykernel_76551/496148161.py\u001b[0m(12)\u001b[0;36m<module>\u001b[0;34m()\u001b[0m\n",
      "\u001b[0;32m     10 \u001b[0;31m\u001b[0;31m# This will allow us to basically pause the code at\u001b[0m\u001b[0;34m\u001b[0m\u001b[0;34m\u001b[0m\u001b[0m\n",
      "\u001b[0m\u001b[0;32m     11 \u001b[0;31m\u001b[0;31m# the point of the trace and check if anything is wrong.\u001b[0m\u001b[0;34m\u001b[0m\u001b[0;34m\u001b[0m\u001b[0m\n",
      "\u001b[0m\u001b[0;32m---> 12 \u001b[0;31m\u001b[0mpdb\u001b[0m\u001b[0;34m.\u001b[0m\u001b[0mset_trace\u001b[0m\u001b[0;34m(\u001b[0m\u001b[0;34m)\u001b[0m\u001b[0;34m\u001b[0m\u001b[0;34m\u001b[0m\u001b[0m\n",
      "\u001b[0m\u001b[0;32m     13 \u001b[0;31m\u001b[0;34m\u001b[0m\u001b[0m\n",
      "\u001b[0m\u001b[0;32m     14 \u001b[0;31m\u001b[0mresult2\u001b[0m \u001b[0;34m=\u001b[0m \u001b[0mx\u001b[0m \u001b[0;34m+\u001b[0m \u001b[0my\u001b[0m\u001b[0;34m\u001b[0m\u001b[0;34m\u001b[0m\u001b[0m\n",
      "\u001b[0m\n",
      "ipdb> x+y\n",
      "*** TypeError: can only concatenate list (not \"int\") to list\n",
      "ipdb> y+z\n",
      "5\n"
     ]
    }
   ],
   "source": [
    "\n",
    "x = [1,2,3]\n",
    "y = 2\n",
    "z = 3\n",
    "\n",
    "result1 = y + z\n",
    "\n",
    "\n",
    "\n",
    "# set a trace before the error line\n",
    "# This will allow us to basically pause the code at \n",
    "# the point of the trace and check if anything is wrong.\n",
    "pdb.set_trace()\n",
    "\n",
    "result2 = x + y\n"
   ]
  },
  {
   "cell_type": "markdown",
   "id": "0d266807",
   "metadata": {},
   "source": [
    "## 6. Regular Expression \n",
    "\n",
    "***Regular Expressions (sometimes called regex for short)*** allows a user to search for strings using almost any sort of rule they can come up. \n",
    "For example, finding all capital letters in a string, or finding a phone number in a document.\n",
    "\n",
    "Regular expressions are notorious for their seemingly strange syntax. This strange syntax is a byproduct of their flexibility. Regular expressions have to be able to filter out any string pattern you can imagine, which is why they have a complex string pattern format.\n",
    "\n",
    "### Searching for Basic Patterns\n",
    "Let's imagine that we have the following string:"
   ]
  },
  {
   "cell_type": "code",
   "execution_count": 1,
   "id": "c7e44e94",
   "metadata": {},
   "outputs": [],
   "source": [
    "text = \"The person's phone number is 408-555-1234. Call soon!\""
   ]
  },
  {
   "cell_type": "markdown",
   "id": "93778ea5",
   "metadata": {},
   "source": [
    "We'll start off by trying to find out if the string \"phone\" is inside the text string. Now we could quickly do this with:"
   ]
  },
  {
   "cell_type": "code",
   "execution_count": 2,
   "id": "5f269125",
   "metadata": {},
   "outputs": [
    {
     "data": {
      "text/plain": [
       "True"
      ]
     },
     "execution_count": 2,
     "metadata": {},
     "output_type": "execute_result"
    }
   ],
   "source": [
    "'phone' in text"
   ]
  },
  {
   "cell_type": "markdown",
   "id": "693edb8b",
   "metadata": {},
   "source": [
    "But let's show the format for regular expressions, because later on we will be searching for patterns that won't have such a simple solution."
   ]
  },
  {
   "cell_type": "code",
   "execution_count": 3,
   "id": "49eef825",
   "metadata": {},
   "outputs": [],
   "source": [
    "# importing regular expression built-in module\n",
    "import re"
   ]
  },
  {
   "cell_type": "code",
   "execution_count": 4,
   "id": "01f37713",
   "metadata": {},
   "outputs": [],
   "source": [
    "pattern = 'phone'"
   ]
  },
  {
   "cell_type": "code",
   "execution_count": 5,
   "id": "cfa28d62",
   "metadata": {},
   "outputs": [
    {
     "data": {
      "text/plain": [
       "<re.Match object; span=(13, 18), match='phone'>"
      ]
     },
     "execution_count": 5,
     "metadata": {},
     "output_type": "execute_result"
    }
   ],
   "source": [
    "re.search(pattern,text)"
   ]
  },
  {
   "cell_type": "code",
   "execution_count": 8,
   "id": "4f81c9c2",
   "metadata": {},
   "outputs": [],
   "source": [
    "pattern = \"NOT IN TEXT\""
   ]
  },
  {
   "cell_type": "code",
   "execution_count": 9,
   "id": "8526da20",
   "metadata": {},
   "outputs": [],
   "source": [
    "re.search(pattern,text)"
   ]
  },
  {
   "cell_type": "markdown",
   "id": "51eb4283",
   "metadata": {},
   "source": [
    "Now we've seen that `re.search( )` will take the pattern, scan the text, and then returns a Match object. \n",
    "\n",
    "If no pattern is found, a ***None*** is returned (in Jupyter Notebook this just means that nothing is output below the cell).\n",
    "\n",
    "Let's take a closer look at this ***Match object***."
   ]
  },
  {
   "cell_type": "code",
   "execution_count": 10,
   "id": "7df839ef",
   "metadata": {},
   "outputs": [],
   "source": [
    "pattern = 'phone'"
   ]
  },
  {
   "cell_type": "code",
   "execution_count": 11,
   "id": "e0ac3e20",
   "metadata": {},
   "outputs": [],
   "source": [
    "match = re.search(pattern,text)"
   ]
  },
  {
   "cell_type": "code",
   "execution_count": 14,
   "id": "219daa47",
   "metadata": {},
   "outputs": [
    {
     "data": {
      "text/plain": [
       "<re.Match object; span=(13, 18), match='phone'>"
      ]
     },
     "execution_count": 14,
     "metadata": {},
     "output_type": "execute_result"
    }
   ],
   "source": [
    "match"
   ]
  },
  {
   "cell_type": "markdown",
   "id": "14c15d74",
   "metadata": {},
   "source": [
    "Notice the span has a ***start and end index information***.\n",
    "\n",
    "We can use the `start( )` and `end( )` method to get its respective value.\n",
    "\n",
    "The `span( )` itself is a method on the object"
   ]
  },
  {
   "cell_type": "markdown",
   "id": "ba17ed7e",
   "metadata": {},
   "source": [
    "### A scenario where the pattern occurs more than once"
   ]
  },
  {
   "cell_type": "code",
   "execution_count": 17,
   "id": "852de093",
   "metadata": {},
   "outputs": [],
   "source": [
    "text = \"my phone is a new phone\""
   ]
  },
  {
   "cell_type": "code",
   "execution_count": 18,
   "id": "dd1f011b",
   "metadata": {},
   "outputs": [],
   "source": [
    "match = re.search(\"phone\",text)"
   ]
  },
  {
   "cell_type": "code",
   "execution_count": 19,
   "id": "fd719308",
   "metadata": {},
   "outputs": [
    {
     "data": {
      "text/plain": [
       "(3, 8)"
      ]
     },
     "execution_count": 19,
     "metadata": {},
     "output_type": "execute_result"
    }
   ],
   "source": [
    "match.span()"
   ]
  },
  {
   "cell_type": "markdown",
   "id": "9e9cce8c",
   "metadata": {},
   "source": [
    "- Notice it only matches the first instance (matched result). \n",
    "- If we wanted a list of all matches, we use `.findall( )` re method instead of `.search()`"
   ]
  },
  {
   "cell_type": "code",
   "execution_count": 20,
   "id": "30cf1c8a",
   "metadata": {},
   "outputs": [],
   "source": [
    "matches = re.findall(\"phone\",text)"
   ]
  },
  {
   "cell_type": "code",
   "execution_count": 21,
   "id": "868ca40d",
   "metadata": {},
   "outputs": [
    {
     "data": {
      "text/plain": [
       "['phone', 'phone']"
      ]
     },
     "execution_count": 21,
     "metadata": {},
     "output_type": "execute_result"
    }
   ],
   "source": [
    "matches"
   ]
  },
  {
   "cell_type": "code",
   "execution_count": 22,
   "id": "f191ca77",
   "metadata": {},
   "outputs": [
    {
     "data": {
      "text/plain": [
       "2"
      ]
     },
     "execution_count": 22,
     "metadata": {},
     "output_type": "execute_result"
    }
   ],
   "source": [
    "len(matches)"
   ]
  },
  {
   "cell_type": "code",
   "execution_count": 27,
   "id": "ffdea437",
   "metadata": {},
   "outputs": [
    {
     "name": "stdout",
     "output_type": "stream",
     "text": [
      "(3, 8)\n",
      "(18, 23)\n"
     ]
    }
   ],
   "source": [
    "# To get matched objects we use the finditer( ) iterator\n",
    "\n",
    "for matched_item in re.finditer(\"phone\",text):\n",
    "    print(matched_item.span())"
   ]
  },
  {
   "cell_type": "markdown",
   "id": "d8c85851",
   "metadata": {},
   "source": [
    "If you wanted the actual text that matched, you can use the `.group( )` method.\n",
    "\n",
    "The `group()` method is then called on this match object to extract the actual matched phone number from the text. It returns the string that matched the pattern."
   ]
  },
  {
   "cell_type": "code",
   "execution_count": 30,
   "id": "04c1daf2",
   "metadata": {},
   "outputs": [
    {
     "name": "stdout",
     "output_type": "stream",
     "text": [
      "phone --> (3, 8)\n",
      "phone --> (18, 23)\n"
     ]
    }
   ],
   "source": [
    "for matched_item in re.finditer(\"phone\",text):\n",
    "    print(f\"{matched_item.group()} --> {matched_item.span()}\")"
   ]
  },
  {
   "cell_type": "markdown",
   "id": "1ee30a79",
   "metadata": {},
   "source": [
    "### Using character identifier syntax for pattern searching\n",
    "\n",
    "### dws-DWS\n",
    "<img src = \"../img/identifiers.png\"\n",
    "     height=\"400px\"\n",
    "     width=\"720px\"\n",
    "     >"
   ]
  },
  {
   "cell_type": "code",
   "execution_count": 70,
   "id": "2f3bb84b",
   "metadata": {},
   "outputs": [
    {
     "data": {
      "text/plain": [
       "'408-555-1234'"
      ]
     },
     "execution_count": 70,
     "metadata": {},
     "output_type": "execute_result"
    }
   ],
   "source": [
    "# Examples\n",
    "text = \"My telephone number is 408-555-1234\"\n",
    "phone = re.search(r'\\d\\d\\d-\\d\\d\\d-\\d\\d\\d\\d',text)\n",
    "phone.group()"
   ]
  },
  {
   "cell_type": "markdown",
   "id": "9a0d8bfd",
   "metadata": {},
   "source": [
    "Notice the repetition of `\\d`. This can be stressful or bring too much work, especially if we are looking for very long strings of numbers.  We use the concept of quantifiers to shorten these patterns.\n",
    "\n",
    "Let's explore the possible quantifiers.\n",
    "\n",
    "\n",
    "<img src = \"../img/quantifiers.png\"\n",
    "     height=\"400px\"\n",
    "     width=\"720px\"\n",
    "     >"
   ]
  },
  {
   "cell_type": "code",
   "execution_count": 71,
   "id": "08d99a67",
   "metadata": {},
   "outputs": [
    {
     "data": {
      "text/plain": [
       "<re.Match object; span=(23, 35), match='408-555-1234'>"
      ]
     },
     "execution_count": 71,
     "metadata": {},
     "output_type": "execute_result"
    }
   ],
   "source": [
    "# rewriting phone pattern using quantifiers\n",
    "quan_pattern = re.search(r'\\d{3}-\\d{3}-\\d{4}',text)\n",
    "quan_pattern"
   ]
  },
  {
   "cell_type": "code",
   "execution_count": 72,
   "id": "e185e853",
   "metadata": {},
   "outputs": [
    {
     "data": {
      "text/plain": [
       "'408-555-1234'"
      ]
     },
     "execution_count": 72,
     "metadata": {},
     "output_type": "execute_result"
    }
   ],
   "source": [
    "quan_pattern.group()"
   ]
  },
  {
   "cell_type": "markdown",
   "id": "3825c419",
   "metadata": {},
   "source": [
    "## Breaking dowm matched patterns\n",
    "\n",
    "What if we wanted to do two tasks, find phone numbers, but also be able to quickly extract their area code (the first three digits). We can use groups for any general task that involves grouping together regular expressions (so that we ***can later break them down***).\n",
    "\n",
    "Using the phone number example, we can separate groups of regular expressions using parenthesis:"
   ]
  },
  {
   "cell_type": "code",
   "execution_count": 73,
   "id": "35d872f0",
   "metadata": {},
   "outputs": [],
   "source": [
    "phone_pattern = re.compile(r'(\\d{3})-(\\d{3})-(\\d{4})')"
   ]
  },
  {
   "cell_type": "code",
   "execution_count": 74,
   "id": "be9ededa",
   "metadata": {},
   "outputs": [],
   "source": [
    "results = re.search(phone_pattern,text)"
   ]
  },
  {
   "cell_type": "code",
   "execution_count": 75,
   "id": "1bfbc215",
   "metadata": {},
   "outputs": [
    {
     "data": {
      "text/plain": [
       "'408-555-1234'"
      ]
     },
     "execution_count": 75,
     "metadata": {},
     "output_type": "execute_result"
    }
   ],
   "source": [
    "# The entire result\n",
    "# using group without specifying an index gives you the entire \n",
    "# result\n",
    "results.group()"
   ]
  },
  {
   "cell_type": "code",
   "execution_count": 76,
   "id": "2b4f96c7",
   "metadata": {},
   "outputs": [
    {
     "data": {
      "text/plain": [
       "'408'"
      ]
     },
     "execution_count": 76,
     "metadata": {},
     "output_type": "execute_result"
    }
   ],
   "source": [
    "# notice with group indexes don't start at 0 but 1\n",
    "results.group(1)"
   ]
  },
  {
   "cell_type": "markdown",
   "id": "794f3175",
   "metadata": {},
   "source": [
    "### Understanding the code above:\n",
    "\n",
    "1. The parentheses `( )` in the regular expression pattern `(\\d{3})-(\\d{3})-(\\d{4})` are used to create capturing groups. \n",
    "\n",
    "- The pattern `\\d{3}` matches three consecutive digits.\n",
    "- Placing `\\d{3}` inside parentheses `(\\d{3})` creates a capturing group, which means the matched digits will be captured and made available as separate groups.\n",
    "\n",
    "In this specific case, the regular expression pattern is designed to match a phone number in the format `###-###-####`. The three sets of parentheses create three capturing groups, each capturing three digits.\n",
    "\n",
    "2. The `re.compile()` function was used in this case to pre-compile the regular expression pattern into a reusable object. However, as I mentioned earlier, for accessing the matched groups, using `re.compile()` is not necessary. You can directly use `re.search()` without pre-compiling the pattern.\n",
    "\n",
    "3. The `results.group()` function is used to retrieve the entire matched string. \n",
    "\n",
    "- When you call `results.group()` without any arguments, it returns the entire match as a string.\n",
    "- In this case, `results.group()` would return the complete phone number that matched the pattern.\n",
    "\n",
    "Additionally, if you want to access the individual matched groups (the three sets of three digits in the phone number), you can use the `results.group(n)` function, where `n` corresponds to the group number.\n",
    "\n",
    "For example:\n",
    "\n",
    "```python\n",
    "results.group(0)  # Returns the entire match\n",
    "results.group(1)  # Returns the first captured group (first three digits)\n",
    "results.group(2)  # Returns the second captured group (second three digits)\n",
    "results.group(3)  # Returns the third captured group (last four digits)\n",
    "```\n",
    "\n",
    "Using `results.group(n)` allows you to extract specific portions of the matched string based on the capturing groups defined in the regular expression pattern.\n",
    "\n",
    "\n",
    "### Understanding compile( )\n",
    "The purpose of compiling a regular expression pattern using `re.compile()` is to convert the pattern from a string representation into a compiled pattern object.\n",
    "\n",
    "Here are a few reasons why compiling a regular expression pattern can be beneficial:\n",
    "\n",
    "1. Reusability: Compiling a pattern allows you to store it as a reusable object. You can assign it to a variable and use it multiple times in your code without the need to recompile the pattern each time. This can improve performance when working with large amounts of text or when the pattern needs to be used repeatedly.\n",
    "\n",
    "2. Efficiency: Compiling a pattern can make the matching process faster. When a pattern is compiled, it is optimized by the regular expression engine, making subsequent matching operations more efficient compared to recompiling the pattern each time.\n",
    "\n",
    "3. Readability: By compiling the pattern, you separate the process of pattern creation from its usage. This can make your code more readable and maintainable, especially when working with complex regular expressions.\n",
    "\n",
    "Compiling a regular expression pattern into a compiled pattern object provides reusability, efficiency, and improved code organization, making it a useful technique when working with regular expressions.\n",
    "\n",
    "Certainly! When we say \"converting the pattern from a string representation into a compiled pattern object,\" it means that we take the regular expression pattern, which is initially written as a string, and process it to create a specialized object that represents the pattern in a more efficient and usable form.\n",
    "\n",
    "Here's a simplified analogy to help explain the concept:\n",
    "\n",
    "Imagine you have a recipe written in a language you don't understand. To make sense of it and cook the dish, you need to translate the recipe into a language you understand. In this analogy, the recipe is the regular expression pattern, and the translated version is the compiled pattern object.\n",
    "\n",
    "So, by compiling the pattern, you're essentially taking the written recipe (the string representation of the pattern) and translating it into a form that the computer can efficiently understand and use to perform operations like searching, matching, or replacing text.\n",
    "\n",
    "Once the pattern is compiled into an object, you can use it multiple times without the need to recompile it each time. It's like having the translated recipe ready to use whenever you want to cook that particular dish.\n",
    "\n",
    "In summary, compiling a regular expression pattern involves transforming the pattern from a string form into a specialized object that the computer can interpret and use for efficient text manipulation operations.\n",
    "\n",
    "### From Q/A\n",
    "\n",
    "\n",
    "***Is re.compile( ) necessary?***\n",
    "\n",
    "If I replace:\n",
    "\n",
    "phone_pattern = re.compile(r'(\\d{3})-(\\d{3})-(\\d{4})')\n",
    "\n",
    "with:\n",
    "\n",
    "phone_pattern = r'(\\d{3})-(\\d{3})-(\\d{4})'\n",
    "\n",
    "it works just as fine. You can still extract certain groups like phone.group(1)\n",
    "\n",
    "So my question is: is re.compile( ) function necessary?\n",
    "\n",
    "\n",
    "\n",
    "***Caio Badran Kalil — Teaching Assistant***\n",
    "\n",
    "compile() is recommended whenever you think you'll reuse the code.\n",
    "\n",
    "It's more efficient in terms of speed and system resources.\n",
    "\n",
    "\n",
    "\n",
    "***Alexander***\n",
    "\n",
    "Reusing the code - you mean when it is a function, for example, which is being called several times?\n",
    "\n",
    "\n",
    "***Abu Sayeed — Teaching Assistant***\n",
    "\n",
    "Reuse mean, you want to use the same code again and again. You want to use the same pattern for multiple text. If you compile it once, you can save some time for your program.\n",
    "\n",
    "\n",
    "\n",
    "***Eric***\n",
    "\"so why do we need re.compile()\"\n",
    "\n",
    "The answer is, you don't. re.compile is really only useful if you use many different patterns over and over many times. Check out the answers in this StackOverflow thread.\n",
    "https://stackoverflow.com/questions/452104/is-it-worth-using-pythons-re-compile"
   ]
  },
  {
   "cell_type": "markdown",
   "id": "53e21d4a",
   "metadata": {},
   "source": [
    "## Additional Regex Syntax\n",
    "### 1. or operator:\n",
    "Use the ***pipe operator ( `|` )*** to have an `or` statment. \n",
    "\n",
    "For example:\n",
    "\n",
    "\n",
    "\n"
   ]
  },
  {
   "cell_type": "code",
   "execution_count": 77,
   "id": "afec056e",
   "metadata": {},
   "outputs": [
    {
     "data": {
      "text/plain": [
       "<re.Match object; span=(5, 8), match='man'>"
      ]
     },
     "execution_count": 77,
     "metadata": {},
     "output_type": "execute_result"
    }
   ],
   "source": [
    "re.search(r\"man|woman\",\"This man was here.\")"
   ]
  },
  {
   "cell_type": "code",
   "execution_count": 78,
   "id": "80a0db48",
   "metadata": {},
   "outputs": [
    {
     "data": {
      "text/plain": [
       "<re.Match object; span=(5, 10), match='woman'>"
      ]
     },
     "execution_count": 78,
     "metadata": {},
     "output_type": "execute_result"
    }
   ],
   "source": [
    "re.search(r\"man|woman\",\"This woman was here.\")"
   ]
  },
  {
   "cell_type": "markdown",
   "id": "ff469702",
   "metadata": {},
   "source": [
    "### 2. wildcard character:\n",
    "\n",
    "Use a \"wildcard\" as a placement that will match any character placed there. You can use a simple period `.`  for this. \n",
    "\n",
    "Meaning the period used acts as a ***wildcard***.\n",
    "\n",
    "\n",
    "A ***wildcard*** is a symbol used to replace or represent one or more characters.\n",
    "\n",
    "\n",
    "For example:\n"
   ]
  },
  {
   "cell_type": "code",
   "execution_count": 79,
   "id": "34c218b9",
   "metadata": {},
   "outputs": [
    {
     "data": {
      "text/plain": [
       "['cat', 'hat', 'sat']"
      ]
     },
     "execution_count": 79,
     "metadata": {},
     "output_type": "execute_result"
    }
   ],
   "source": [
    "# The period matches any character followed by the letters \"at\"\n",
    "\n",
    "re.findall(r\".at\",\"The cat in the hat sat here.\")"
   ]
  },
  {
   "cell_type": "markdown",
   "id": "835b2ac8",
   "metadata": {},
   "source": [
    "A single period ( . ) represents a single character before the pattern definition, so if only one period was used in the pattern definition, only a character before the pattern will get matched.\n",
    "\n",
    "Look at this scenario below:\n"
   ]
  },
  {
   "cell_type": "code",
   "execution_count": 80,
   "id": "50470662",
   "metadata": {},
   "outputs": [
    {
     "data": {
      "text/plain": [
       "['bat', 'lat']"
      ]
     },
     "execution_count": 80,
     "metadata": {},
     "output_type": "execute_result"
    }
   ],
   "source": [
    "# we will get \"lat\" instead of \"splat\"\n",
    "re.findall(r\".at\",\"The bat went splat\")"
   ]
  },
  {
   "cell_type": "code",
   "execution_count": 81,
   "id": "378963bf",
   "metadata": {},
   "outputs": [
    {
     "data": {
      "text/plain": [
       "[' bat', 'plat']"
      ]
     },
     "execution_count": 81,
     "metadata": {},
     "output_type": "execute_result"
    }
   ],
   "source": [
    "# we will get \"plat\" instead of \"splat\"\n",
    "re.findall(r\"..at\",\"The bat went splat\")"
   ]
  },
  {
   "cell_type": "markdown",
   "id": "7c033f3f",
   "metadata": {},
   "source": [
    "### Starts with and Ends With\n",
    "\n",
    "We can use the caret sign `^` to signal starts with, and the dollar sign `$` to signal ends with:\n"
   ]
  },
  {
   "cell_type": "code",
   "execution_count": 82,
   "id": "220d1c18",
   "metadata": {},
   "outputs": [
    {
     "data": {
      "text/plain": [
       "['1']"
      ]
     },
     "execution_count": 82,
     "metadata": {},
     "output_type": "execute_result"
    }
   ],
   "source": [
    "# Starts with a number\n",
    "re.findall(r'^\\d','1 is the loneliest number.')"
   ]
  },
  {
   "cell_type": "code",
   "execution_count": 83,
   "id": "9bb3b82a",
   "metadata": {},
   "outputs": [
    {
     "data": {
      "text/plain": [
       "['2']"
      ]
     },
     "execution_count": 83,
     "metadata": {},
     "output_type": "execute_result"
    }
   ],
   "source": [
    "# Ends with a number\n",
    "re.findall(r'\\d$','This ends with a number 2')"
   ]
  },
  {
   "cell_type": "markdown",
   "id": "b228b9a1",
   "metadata": {},
   "source": [
    "***Note that this is for the entire string, not individual words!***"
   ]
  },
  {
   "cell_type": "markdown",
   "id": "137546d0",
   "metadata": {},
   "source": [
    "### Exclusion\n",
    "\n",
    "To exclude characters, we can use the caret `^` symbol in conjunction with a set of brackets `[ ]`. Anything inside the brackets is excluded. \n",
    "\n",
    "Syntax:\n",
    "\n",
    "`[^pattern]`\n",
    "\n",
    "For example:\n",
    "\n"
   ]
  },
  {
   "cell_type": "code",
   "execution_count": 84,
   "id": "64a0bec2",
   "metadata": {},
   "outputs": [],
   "source": [
    "phrase = \"there are 3 numbers 34 inside 5 this sentence.\""
   ]
  },
  {
   "cell_type": "code",
   "execution_count": 85,
   "id": "2046f39b",
   "metadata": {},
   "outputs": [
    {
     "data": {
      "text/plain": [
       "['t',\n",
       " 'h',\n",
       " 'e',\n",
       " 'r',\n",
       " 'e',\n",
       " ' ',\n",
       " 'a',\n",
       " 'r',\n",
       " 'e',\n",
       " ' ',\n",
       " ' ',\n",
       " 'n',\n",
       " 'u',\n",
       " 'm',\n",
       " 'b',\n",
       " 'e',\n",
       " 'r',\n",
       " 's',\n",
       " ' ',\n",
       " ' ',\n",
       " 'i',\n",
       " 'n',\n",
       " 's',\n",
       " 'i',\n",
       " 'd',\n",
       " 'e',\n",
       " ' ',\n",
       " ' ',\n",
       " 't',\n",
       " 'h',\n",
       " 'i',\n",
       " 's',\n",
       " ' ',\n",
       " 's',\n",
       " 'e',\n",
       " 'n',\n",
       " 't',\n",
       " 'e',\n",
       " 'n',\n",
       " 'c',\n",
       " 'e',\n",
       " '.']"
      ]
     },
     "execution_count": 85,
     "metadata": {},
     "output_type": "execute_result"
    }
   ],
   "source": [
    "re.findall(r'[^\\d]',phrase)"
   ]
  },
  {
   "cell_type": "markdown",
   "id": "0820cc38",
   "metadata": {},
   "source": [
    "To get the words back together, use a `+` sign"
   ]
  },
  {
   "cell_type": "code",
   "execution_count": 86,
   "id": "35d19f2c",
   "metadata": {},
   "outputs": [
    {
     "data": {
      "text/plain": [
       "['there are ', ' numbers ', ' inside ', ' this sentence.']"
      ]
     },
     "execution_count": 86,
     "metadata": {},
     "output_type": "execute_result"
    }
   ],
   "source": [
    "re.findall(r'[^\\d]+',phrase)"
   ]
  },
  {
   "cell_type": "code",
   "execution_count": 87,
   "id": "ad27dab9",
   "metadata": {},
   "outputs": [],
   "source": [
    "# We can use this to remove punctuation from a sentence.\n",
    "\n",
    "test_phrase = \"This is a string! But it has punctuation. How can we remove it?\"\n"
   ]
  },
  {
   "cell_type": "code",
   "execution_count": 88,
   "id": "be98418d",
   "metadata": {},
   "outputs": [
    {
     "data": {
      "text/plain": [
       "['This',\n",
       " 'is',\n",
       " 'a',\n",
       " 'string',\n",
       " 'But',\n",
       " 'it',\n",
       " 'has',\n",
       " 'punctuation',\n",
       " 'How',\n",
       " 'can',\n",
       " 'we',\n",
       " 'remove',\n",
       " 'it']"
      ]
     },
     "execution_count": 88,
     "metadata": {},
     "output_type": "execute_result"
    }
   ],
   "source": [
    "re.findall('[^!.? ]+',test_phrase)"
   ]
  },
  {
   "cell_type": "code",
   "execution_count": 89,
   "id": "5e3b9b46",
   "metadata": {},
   "outputs": [],
   "source": [
    "clean = ' '.join(re.findall('[^!.? ]+',test_phrase))"
   ]
  },
  {
   "cell_type": "code",
   "execution_count": 90,
   "id": "b21fad0b",
   "metadata": {
    "scrolled": true
   },
   "outputs": [
    {
     "data": {
      "text/plain": [
       "'This is a string But it has punctuation How can we remove it'"
      ]
     },
     "execution_count": 90,
     "metadata": {},
     "output_type": "execute_result"
    }
   ],
   "source": [
    "clean"
   ]
  },
  {
   "cell_type": "markdown",
   "id": "8ff56c1d",
   "metadata": {},
   "source": [
    "### Square Brackets For Grouping\n",
    "\n",
    "We can use square brackets to group together options, for example if we wanted to find hyphenated words:"
   ]
  },
  {
   "cell_type": "code",
   "execution_count": 91,
   "id": "d7fd36b4",
   "metadata": {},
   "outputs": [],
   "source": [
    "text = 'Only find the hypen-words in this sentence. But you do not know how long-ish they are'\n"
   ]
  },
  {
   "cell_type": "code",
   "execution_count": 92,
   "id": "7a5ce3ae",
   "metadata": {},
   "outputs": [
    {
     "data": {
      "text/plain": [
       "['hypen-words', 'long-ish']"
      ]
     },
     "execution_count": 92,
     "metadata": {},
     "output_type": "execute_result"
    }
   ],
   "source": [
    "# identifier placed inside square bracket \n",
    "# a \"+\" sign is added to indicate more than one character\n",
    "re.findall(r'[\\w]+-[\\w]+',text)"
   ]
  },
  {
   "cell_type": "markdown",
   "id": "098c7337",
   "metadata": {},
   "source": [
    "By placing the plus sign outside the brackets ([ \\w ]+), it indicates that we want to match one or more occurrences of the entire character class. This ensures that we match sequences of word characters (letters, digits, or underscores) that are followed by a hyphen (-) and then followed by one or more word characters."
   ]
  },
  {
   "cell_type": "markdown",
   "id": "8de10974",
   "metadata": {},
   "source": [
    "### Using Parenthesis and Or operator ( | ) for Multiple Options\n",
    "\n",
    "If we have multiple options for matching, we can use parenthesis to list out these options. For Example:"
   ]
  },
  {
   "cell_type": "code",
   "execution_count": 71,
   "id": "e25f00f3",
   "metadata": {},
   "outputs": [],
   "source": [
    "# Find words that start with cat and end with one of these options: 'fish','nap', or 'claw'\n",
    "text = 'Hello, would you like some catfish?'\n",
    "texttwo = \"Hello, would you like to take a catnap?\"\n",
    "textthree = \"Hello, have you seen this caterpillar?\""
   ]
  },
  {
   "cell_type": "code",
   "execution_count": 72,
   "id": "41bcab46",
   "metadata": {},
   "outputs": [
    {
     "data": {
      "text/plain": [
       "<re.Match object; span=(27, 34), match='catfish'>"
      ]
     },
     "execution_count": 72,
     "metadata": {},
     "output_type": "execute_result"
    }
   ],
   "source": [
    "re.search(r'cat(fish|nap|claw)',text)"
   ]
  },
  {
   "cell_type": "code",
   "execution_count": 73,
   "id": "685bf673",
   "metadata": {},
   "outputs": [
    {
     "data": {
      "text/plain": [
       "<re.Match object; span=(32, 38), match='catnap'>"
      ]
     },
     "execution_count": 73,
     "metadata": {},
     "output_type": "execute_result"
    }
   ],
   "source": [
    "re.search(r'cat(fish|nap|claw)',texttwo)"
   ]
  },
  {
   "cell_type": "code",
   "execution_count": 74,
   "id": "17f6b415",
   "metadata": {},
   "outputs": [],
   "source": [
    "# None returned\n",
    "re.search(r'cat(fish|nap|claw)',textthree)"
   ]
  },
  {
   "cell_type": "markdown",
   "id": "a323e32a",
   "metadata": {},
   "source": [
    "## 7. Timing Your Code\n",
    "\n",
    "We usually find mutiple solutions for a single problem or task and you may find yourself trying to figure out the most efficient approach.\n",
    "\n",
    "An easy way to do this is to time the code's performance.\n",
    "\n",
    "Sometimes it's important to know how long your code is taking to run, or at least know if a particular line of code is slowing down your entire project. Python has a built-in timing module to do this.\n",
    "\n",
    "There are three ways of timing your code:\n",
    "1. simply tracking time elapsed before and after calling a function(usually impossible to use if the function is very fast)\n",
    "2. using the timeit module\n",
    "3. Using special %%timeit \"magic\"( only for jupyter notebook )\n"
   ]
  },
  {
   "cell_type": "markdown",
   "id": "559dcd80",
   "metadata": {},
   "source": [
    "### Test Functions\n",
    "Here we have two functions that do the same thing, but in different ways. How can we tell which one is more efficient? Let's time it!"
   ]
  },
  {
   "cell_type": "code",
   "execution_count": 18,
   "id": "4a21f86c",
   "metadata": {},
   "outputs": [],
   "source": [
    "def func_one(n):\n",
    "    '''\n",
    "    Given a number n, returns a list of string integers\n",
    "    ['0','1','2',...'n]\n",
    "    '''\n",
    "    # using list comprehension\n",
    "    return [str(num) for num in range(n)]"
   ]
  },
  {
   "cell_type": "code",
   "execution_count": 19,
   "id": "e4fcdf56",
   "metadata": {},
   "outputs": [],
   "source": [
    "def func_two(n):\n",
    "    '''\n",
    "    Given a number n, returns a list of string integers\n",
    "    ['0','1','2',...'n]\n",
    "    '''\n",
    "    # using map function\n",
    "    return list(map(str,range(n)))"
   ]
  },
  {
   "cell_type": "code",
   "execution_count": 20,
   "id": "7d97453d",
   "metadata": {},
   "outputs": [],
   "source": [
    "import time"
   ]
  },
  {
   "cell_type": "code",
   "execution_count": 21,
   "id": "84c0a769",
   "metadata": {},
   "outputs": [
    {
     "name": "stdout",
     "output_type": "stream",
     "text": [
      "0.2624070644378662\n"
     ]
    }
   ],
   "source": [
    "# Take current time before function\n",
    "\n",
    "start_time = time.time() # takes time from OS\n",
    "\n",
    "# Run function\n",
    "\n",
    "result = func_one(1000000)\n",
    "\n",
    "# Take time after running code\n",
    "\n",
    "end_time = time.time()\n",
    "\n",
    "# Calculate elapsed time\n",
    "\n",
    "elapsed_time = end_time - start_time\n",
    "\n",
    "print(elapsed_time)"
   ]
  },
  {
   "cell_type": "code",
   "execution_count": 22,
   "id": "b3294986",
   "metadata": {},
   "outputs": [
    {
     "name": "stdout",
     "output_type": "stream",
     "text": [
      "0.2160499095916748\n"
     ]
    }
   ],
   "source": [
    "# Take current time before function\n",
    "\n",
    "start_time = time.time() # takes time from OS\n",
    "\n",
    "# Run function\n",
    "\n",
    "result = func_two(1000000)\n",
    "\n",
    "# Take time after running code\n",
    "\n",
    "end_time = time.time()\n",
    "\n",
    "# Calculate elapsed time\n",
    "\n",
    "elapsed_time = end_time - start_time\n",
    "\n",
    "print(elapsed_time)"
   ]
  },
  {
   "cell_type": "markdown",
   "id": "303f1fe8",
   "metadata": {},
   "source": [
    "### We usually use the timeit module which is specifically designed to time code"
   ]
  },
  {
   "cell_type": "code",
   "execution_count": 23,
   "id": "d606021a",
   "metadata": {},
   "outputs": [],
   "source": [
    "# we import timeit\n",
    "import timeit"
   ]
  },
  {
   "cell_type": "code",
   "execution_count": 24,
   "id": "693d8474",
   "metadata": {},
   "outputs": [
    {
     "data": {
      "text/plain": [
       "<function timeit.timeit(stmt='pass', setup='pass', timer=<built-in function perf_counter>, number=1000000, globals=None)>"
      ]
     },
     "execution_count": 24,
     "metadata": {},
     "output_type": "execute_result"
    }
   ],
   "source": [
    "timeit.timeit"
   ]
  },
  {
   "cell_type": "markdown",
   "id": "669e709d",
   "metadata": {},
   "source": [
    "### timeit.timeit ( stmt , setup, number )\n",
    "\n",
    "The timeit module takes in two strings, a ***statement (stmt)*** and a ***setup***. It then runs the setup code and runs the stmt code some n number of times and reports back average length of time it took.\n",
    "\n",
    "***NB: the statement and setup are passed in as strings***"
   ]
  },
  {
   "cell_type": "code",
   "execution_count": 25,
   "id": "5de61986",
   "metadata": {},
   "outputs": [],
   "source": [
    "stmt1 = \"func_one(100)\""
   ]
  },
  {
   "cell_type": "markdown",
   "id": "57811df6",
   "metadata": {},
   "source": [
    "***The setup (anything that needs to be defined beforehand, such as def functions.)***"
   ]
  },
  {
   "cell_type": "code",
   "execution_count": 26,
   "id": "43e80c99",
   "metadata": {},
   "outputs": [],
   "source": [
    "setup1 = \"\"\"\n",
    "def func_one(n):\n",
    "    '''\n",
    "    Given a number n, returns a list of string integers\n",
    "    ['0','1','2',...'n]\n",
    "    '''\n",
    "    # using list comprehension\n",
    "    return [str(num) for num in range(n)]\n",
    "\"\"\""
   ]
  },
  {
   "cell_type": "code",
   "execution_count": 27,
   "id": "65a9a01d",
   "metadata": {},
   "outputs": [
    {
     "data": {
      "text/plain": [
       "1.986692957999999"
      ]
     },
     "execution_count": 27,
     "metadata": {},
     "output_type": "execute_result"
    }
   ],
   "source": [
    "# number specifies the number of times it runs over and over again\n",
    "timeit.timeit(stmt1,setup1,number = 100000)"
   ]
  },
  {
   "cell_type": "code",
   "execution_count": 28,
   "id": "079fccc5",
   "metadata": {},
   "outputs": [],
   "source": [
    "stmt2 = \"func_two(100)\""
   ]
  },
  {
   "cell_type": "code",
   "execution_count": 29,
   "id": "31cbb0ba",
   "metadata": {},
   "outputs": [],
   "source": [
    "setup2 = \"\"\"\n",
    "def func_two(n):\n",
    "    '''\n",
    "    Given a number n, returns a list of string integers\n",
    "    ['0','1','2',...'n]\n",
    "    '''\n",
    "    # using map function\n",
    "    return list(map(str,range(n)))\n",
    "\"\"\""
   ]
  },
  {
   "cell_type": "code",
   "execution_count": 30,
   "id": "bc2d9993",
   "metadata": {},
   "outputs": [
    {
     "data": {
      "text/plain": [
       "1.7004305839999958"
      ]
     },
     "execution_count": 30,
     "metadata": {},
     "output_type": "execute_result"
    }
   ],
   "source": [
    "timeit.timeit(stmt2,setup2,number = 100000)"
   ]
  },
  {
   "cell_type": "markdown",
   "id": "0849b453",
   "metadata": {},
   "source": [
    "***With comaparison we can see that function 2 is faster than function one.***"
   ]
  },
  {
   "cell_type": "markdown",
   "id": "15e1ab7d",
   "metadata": {},
   "source": [
    "### Using jupyter's built-in special %%timeit \"magic\""
   ]
  },
  {
   "cell_type": "code",
   "execution_count": 33,
   "id": "376c1ded",
   "metadata": {},
   "outputs": [
    {
     "name": "stdout",
     "output_type": "stream",
     "text": [
      "20 µs ± 100 ns per loop (mean ± std. dev. of 7 runs, 10000 loops each)\n"
     ]
    }
   ],
   "source": [
    "%%timeit\n",
    "func_one(100)"
   ]
  },
  {
   "cell_type": "code",
   "execution_count": 34,
   "id": "10dd371a",
   "metadata": {},
   "outputs": [
    {
     "name": "stdout",
     "output_type": "stream",
     "text": [
      "20.6 µs ± 52.2 ns per loop (mean ± std. dev. of 7 runs, 100000 loops each)\n"
     ]
    }
   ],
   "source": [
    "%%timeit\n",
    "func_two(100)"
   ]
  },
  {
   "cell_type": "markdown",
   "id": "20e87f75",
   "metadata": {},
   "source": [
    "## 8.Unzipping and Zipping Files\n",
    "\n",
    "A zip file is a compressed file that saves space.\n",
    "\n",
    "In this section we will...\n",
    "1. create a zip file\n",
    "2. compress a file (text file) and insert it into a zip file\n",
    "3. unzip the information"
   ]
  },
  {
   "cell_type": "code",
   "execution_count": 36,
   "id": "3bafefe6",
   "metadata": {},
   "outputs": [],
   "source": [
    "# zipping individual files\n",
    "\n",
    "# creating a sample file\n",
    "f = open(\"fileone.txt\",\"w+\")\n",
    "f.write(\"ONE FILE\")\n",
    "f.close()"
   ]
  },
  {
   "cell_type": "code",
   "execution_count": 37,
   "id": "ba9959d3",
   "metadata": {},
   "outputs": [],
   "source": [
    "f = open(\"filetwo.txt\",\"w+\")\n",
    "f.write(\"TWO FILE\")\n",
    "f.close()"
   ]
  },
  {
   "cell_type": "code",
   "execution_count": 38,
   "id": "f9ea81cd",
   "metadata": {},
   "outputs": [],
   "source": [
    "# import zipfile\n",
    "# this allows you compress a file by allowing you to \n",
    "# create a zip file and then insert files\n",
    "import zipfile"
   ]
  },
  {
   "cell_type": "code",
   "execution_count": 39,
   "id": "6c8d92b8",
   "metadata": {},
   "outputs": [],
   "source": [
    "# creating zip file\n",
    "comp_file = zipfile.ZipFile(\"comp_file.zip\",\"w\")"
   ]
  },
  {
   "cell_type": "code",
   "execution_count": 41,
   "id": "404d3818",
   "metadata": {},
   "outputs": [],
   "source": [
    "# next we write to the compressed file \n",
    "# we specify file we want to insert and specify the compression type\n",
    "# most standard type is ZIP_DEFLATED.\n",
    "\n",
    "comp_file.write(\"fileone.txt\",compress_type=zipfile.ZIP_DEFLATED)"
   ]
  },
  {
   "cell_type": "code",
   "execution_count": 42,
   "id": "822dd961",
   "metadata": {},
   "outputs": [],
   "source": [
    "# inserting the other file\n",
    "comp_file.write(\"filetwo.txt\",compress_type=zipfile.ZIP_DEFLATED)"
   ]
  },
  {
   "cell_type": "code",
   "execution_count": 43,
   "id": "3d0245a8",
   "metadata": {},
   "outputs": [],
   "source": [
    "comp_file.close()"
   ]
  },
  {
   "cell_type": "code",
   "execution_count": null,
   "id": "af2c1187",
   "metadata": {},
   "outputs": [],
   "source": []
  },
  {
   "cell_type": "markdown",
   "id": "c9af0bf9",
   "metadata": {},
   "source": [
    "### Extracting items from zip file\n"
   ]
  },
  {
   "cell_type": "code",
   "execution_count": 44,
   "id": "e81cf2ab",
   "metadata": {},
   "outputs": [],
   "source": [
    "# create a variable , call zipfile library and point it to\n",
    "# zipfile that you are going to extract from\n",
    "\n",
    "zip_obj = zipfile.ZipFile(\"comp_file.zip\",\"r\")"
   ]
  },
  {
   "cell_type": "code",
   "execution_count": 45,
   "id": "065e181f",
   "metadata": {},
   "outputs": [],
   "source": [
    "# we can extract all or specific files by using extract (\"path\")\n",
    "# extractall(\"folder for extracted files\")\n",
    "zip_obj.extractall(\"extracted_content\")"
   ]
  },
  {
   "cell_type": "code",
   "execution_count": 47,
   "id": "885d66ae",
   "metadata": {},
   "outputs": [
    {
     "data": {
      "text/plain": [
       "'/Users/adedze/Documents/SE Docs/My Jupyter Notes /Everything I Know About Python'"
      ]
     },
     "execution_count": 47,
     "metadata": {},
     "output_type": "execute_result"
    }
   ],
   "source": [
    "pwd"
   ]
  },
  {
   "cell_type": "markdown",
   "id": "3337a109",
   "metadata": {},
   "source": [
    "### Compressing & Extracting folders with shutil"
   ]
  },
  {
   "cell_type": "markdown",
   "id": "581691d5",
   "metadata": {},
   "source": [
    "### zipping folders"
   ]
  },
  {
   "cell_type": "code",
   "execution_count": 46,
   "id": "0e93aabd",
   "metadata": {},
   "outputs": [],
   "source": [
    "import shutil"
   ]
  },
  {
   "cell_type": "code",
   "execution_count": 48,
   "id": "1c4407d9",
   "metadata": {},
   "outputs": [],
   "source": [
    "# point out directory/folder you want to turn into a zip file\n",
    "dir_to_zip = '/Users/adedze/Documents/SE Docs/My Jupyter Notes /Everything I Know About Python/extracted_content'"
   ]
  },
  {
   "cell_type": "code",
   "execution_count": 49,
   "id": "34d4d21e",
   "metadata": {},
   "outputs": [],
   "source": [
    "output_filename = \"example\""
   ]
  },
  {
   "cell_type": "code",
   "execution_count": 50,
   "id": "a19ff115",
   "metadata": {},
   "outputs": [
    {
     "data": {
      "text/plain": [
       "'/Users/adedze/Documents/SE Docs/My Jupyter Notes /Everything I Know About Python/example.zip'"
      ]
     },
     "execution_count": 50,
     "metadata": {},
     "output_type": "execute_result"
    }
   ],
   "source": [
    "shutil.make_archive(output_filename,\"zip\",dir_to_zip)"
   ]
  },
  {
   "cell_type": "markdown",
   "id": "76c3e4d7",
   "metadata": {},
   "source": [
    "### extracting zipped folders"
   ]
  },
  {
   "cell_type": "code",
   "execution_count": 51,
   "id": "4f30eeee",
   "metadata": {},
   "outputs": [],
   "source": [
    "shutil.unpack_archive(\"example.zip\",\"final_unzip\",\"zip\")"
   ]
  }
 ],
 "metadata": {
  "kernelspec": {
   "display_name": "Python 3 (ipykernel)",
   "language": "python",
   "name": "python3"
  },
  "language_info": {
   "codemirror_mode": {
    "name": "ipython",
    "version": 3
   },
   "file_extension": ".py",
   "mimetype": "text/x-python",
   "name": "python",
   "nbconvert_exporter": "python",
   "pygments_lexer": "ipython3",
   "version": "3.9.13"
  }
 },
 "nbformat": 4,
 "nbformat_minor": 5
}
