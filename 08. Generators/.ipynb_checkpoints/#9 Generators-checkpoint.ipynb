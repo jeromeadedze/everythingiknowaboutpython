{
 "cells": [
  {
   "cell_type": "markdown",
   "id": "273f657e",
   "metadata": {},
   "source": [
    "# Generators\n",
    "\n",
    "A generator is a just function that returns an iterable object which we can iterate over ***(return one value at a time)***.\n",
    "\n",
    "- They are a simple way of implementing iterators\n",
    "\n",
    "- The main difference between a regular function and a Generator function lies in the use of `return` and `yield` statements respectively in Python.\n",
    "    - The difference between `return` and `yield` is that `return` terminates the function completely whiles `yield` pauses the function and saves it state for the next successive calls \n",
    "    - Each time the function encounters a `yield` statement, it temporarily suspends its execution, saves its internal state, and yields(provides) the specified value. The next time the function is called, it resumes from where it left off, continuing the execution.\n",
    "\n",
    "- Generators are useful when we want to produce a large sequence of values, but we don't want to store all of them in memory at once.\n",
    "\n"
   ]
  },
  {
   "cell_type": "markdown",
   "id": "3c86bce0",
   "metadata": {},
   "source": [
    "## Creating Generators\n",
    "\n",
    "A function becomes a generator function if it contains at least one yield statement (it may contain several yield and even return). To make it clear, yield and return return some values from a function. So, you just have to build function with at least one yield\n",
    "\n",
    "The main difference is that return statement terminates a function entirely while yieldstatement pauses a function saving all its states and later continues from there on successive calls."
   ]
  },
  {
   "cell_type": "markdown",
   "id": "8f99f582",
   "metadata": {},
   "source": [
    "## Differences Between Generator Function and Regular Function\n",
    "\n",
    "Let’s take a look at all differences between a generator function and a regular function:\n",
    "\n",
    "1. A generator function includes one or more `yield` statements.\n",
    "2. It returns an iterator object but does not execute immediately.\n",
    "3. Methods such as`__iter__()` and `__next__()` are implemented automatically. It means that we can iterate through the items using next() or a `for` loop.\n",
    "4. Once the function yields, it is paused and the control is handed over to the caller.\n",
    "5. Local variables and their states are memorized between successive calls.\n",
    "6. When A generator function finishes, StopIteration is raised automatically on further calls.\n",
    "\n",
    "\n",
    "Another difference is that generator functions don’t even run a function, it only creates and returns a generator object. Lastly, the code in generator functions only execute when next()  is called on the generator object or a for loop is used.\n",
    "\n"
   ]
  },
  {
   "cell_type": "code",
   "execution_count": 1,
   "id": "4ec1862e",
   "metadata": {},
   "outputs": [
    {
     "name": "stdout",
     "output_type": "stream",
     "text": [
      "1 -- This is first\n",
      "2 -- This is second\n",
      "3 -- This is third and the last\n"
     ]
    },
    {
     "ename": "StopIteration",
     "evalue": "",
     "output_type": "error",
     "traceback": [
      "\u001b[0;31m---------------------------------------------------------------------------\u001b[0m",
      "\u001b[0;31mStopIteration\u001b[0m                             Traceback (most recent call last)",
      "\u001b[0;32m/var/folders/vj/vn07m31j1n7fs08rkytvgvj80000gn/T/ipykernel_23011/1611646475.py\u001b[0m in \u001b[0;36m<module>\u001b[0;34m\u001b[0m\n\u001b[1;32m     18\u001b[0m \u001b[0mnext\u001b[0m\u001b[0;34m(\u001b[0m\u001b[0mgen\u001b[0m\u001b[0;34m)\u001b[0m\u001b[0;34m\u001b[0m\u001b[0;34m\u001b[0m\u001b[0m\n\u001b[1;32m     19\u001b[0m \u001b[0mnext\u001b[0m\u001b[0;34m(\u001b[0m\u001b[0mgen\u001b[0m\u001b[0;34m)\u001b[0m\u001b[0;34m\u001b[0m\u001b[0;34m\u001b[0m\u001b[0m\n\u001b[0;32m---> 20\u001b[0;31m \u001b[0mnext\u001b[0m\u001b[0;34m(\u001b[0m\u001b[0mgen\u001b[0m\u001b[0;34m)\u001b[0m\u001b[0;34m\u001b[0m\u001b[0;34m\u001b[0m\u001b[0m\n\u001b[0m",
      "\u001b[0;31mStopIteration\u001b[0m: "
     ]
    }
   ],
   "source": [
    "# The following example illustrates all of these points:\n",
    "def simple_generator():\n",
    "    num = 1\n",
    "    print(f\"{num} -- This is first\")\n",
    "    yield num\n",
    "\n",
    "    num += 1\n",
    "    print(f\"{num} -- This is second\")\n",
    "    yield num\n",
    "\n",
    "    num += 1\n",
    "    print(f\"{num} -- This is third and the last\")\n",
    "    yield num\n",
    "\n",
    "\n",
    "gen = simple_generator()\n",
    "next(gen)\n",
    "next(gen)\n",
    "next(gen)\n",
    "next(gen)"
   ]
  },
  {
   "cell_type": "markdown",
   "id": "2a64a639",
   "metadata": {},
   "source": [
    "1. The value of the variable `num` is memorized between every `yield` call.\n",
    "\n",
    "2. Unlike regular functions, the local variables are not destroyed when the function yields.\n",
    "\n",
    "3.  A generator object can only be iterated one time. To start the process again, you have to create another a generator object using something like gen = simple_generator().\n",
    "\n",
    "4. You can use generators with `for loops`. A `for loop` takes an iterator and iterates over it using a `next()` function. It automatically ends when `StopIteration` is raised."
   ]
  },
  {
   "cell_type": "markdown",
   "id": "9c9c4865",
   "metadata": {},
   "source": [
    "## Links\n",
    "\n",
    "### Generators\n",
    "\n",
    "https://www.programiz.com/python-programming/generator\n",
    "\n",
    "https://www.pythontutorial.net/advanced-python/python-generators/\n",
    "\n",
    "https://www.datacamp.com/tutorial/python-iterators-generators-tutorial\n",
    "\n",
    "\n",
    "### Why use generators\n",
    "\n",
    "https://betterprogramming.pub/4-reasons-why-should-be-using-python-generators-660458b0085d"
   ]
  },
  {
   "cell_type": "code",
   "execution_count": null,
   "id": "6d0382f1",
   "metadata": {},
   "outputs": [],
   "source": []
  }
 ],
 "metadata": {
  "kernelspec": {
   "display_name": "Python 3 (ipykernel)",
   "language": "python",
   "name": "python3"
  },
  "language_info": {
   "codemirror_mode": {
    "name": "ipython",
    "version": 3
   },
   "file_extension": ".py",
   "mimetype": "text/x-python",
   "name": "python",
   "nbconvert_exporter": "python",
   "pygments_lexer": "ipython3",
   "version": "3.9.13"
  }
 },
 "nbformat": 4,
 "nbformat_minor": 5
}
