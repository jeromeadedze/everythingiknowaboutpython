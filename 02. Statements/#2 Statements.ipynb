{
 "cells": [
  {
   "cell_type": "markdown",
   "id": "e7333638",
   "metadata": {},
   "source": [
    "# Statements\n",
    "\n",
    "Any instruction written in the source code and executed by the Python interpreter is called a ***statement***. \n",
    "\n",
    "A statement is a group of expressions that you design to carry out a task or an action.\n",
    "\n",
    "***In simple words, a statement is a section of code that represents a command or action.***\n",
    "\n",
    "There are mainly four types of statements in Python, \n",
    "- Print statements, \n",
    "- Assignment statements, \n",
    "- Conditional statements, \n",
    "- Looping statements.\n",
    "\n",
    "***The print and assignment statements*** are commonly used. \n",
    "\n",
    "The result of a print statement is a value. \n",
    "\n",
    "***Assignment statements don’t produce a result*** it just assigns a value to the operand on its left side.\n",
    "\n",
    "\n",
    "A ***conditional statement*** is a logical expression where operators compare, evaluate, or check if the input meets the conditions and returns ‘True’. If yes, the interpreter executes a specific set of instructions. On the other hand, ***looping statements*** repeatedly execute a set of instructions as long as the defined conditions are met or satisfied."
   ]
  },
  {
   "cell_type": "code",
   "execution_count": 2,
   "id": "0b3e9956",
   "metadata": {},
   "outputs": [
    {
     "name": "stdout",
     "output_type": "stream",
     "text": [
      "Hello\n"
     ]
    }
   ],
   "source": [
    "# Print Statement\n",
    "print('Hello')\n",
    "\n",
    "# Assignment Statement\n",
    "# Assignment Statements doesn't output the result\n",
    "x = 20"
   ]
  },
  {
   "cell_type": "markdown",
   "id": "1c088da6",
   "metadata": {},
   "source": [
    "## Conditional statements\n",
    "\n",
    "## if-elif-else Conditions\n",
    "\n",
    "### `if ` Statement\n",
    "\n",
    "The ***if statement*** makes a decision based on whether a condition is true or not.\n",
    "\n",
    "- If the condition is true, it prints out the indented expression(instruction). \n",
    "\n",
    "- If the condition is false, it skips printing the indented expression(instruction). \n",
    "\n",
    "Verbally, we can imagine we are telling the computer:\n",
    "\n",
    "\"Hey if this case happens, perform some action\"\n",
    "\n",
    "We can then expand the idea further with ***elif and else statements***, which allow us to tell the computer:\n",
    "\n",
    "\"Hey if this case happens, perform some action. \n",
    "Else, if another case happens, perform some other action. \n",
    "Else, if none of the above cases happened, perform this action.\"\n",
    "\n",
    "\n",
    "Syntax: \n",
    ">`if some_condition`:\n",
    "        >>`some_expression(instruction)`\n",
    "\n",
    "***anything within the indent is executed or not based on the truth of the condition.***\n",
    "\n",
    "Let's see an example:"
   ]
  },
  {
   "cell_type": "code",
   "execution_count": 3,
   "id": "c2520bb3",
   "metadata": {},
   "outputs": [
    {
     "name": "stdout",
     "output_type": "stream",
     "text": [
      "Yes, you are currently learning Statements\n"
     ]
    }
   ],
   "source": [
    "current_topic = \"Statements\"\n",
    "\n",
    "if current_topic == \"Statements\":\n",
    "    print(\"Yes, you are currently learning Statements\")"
   ]
  },
  {
   "cell_type": "markdown",
   "id": "2acc4dc1",
   "metadata": {},
   "source": [
    "### `if-else` condition\n",
    "The ***if-else condition*** adds an additional step in the decision-making process compared to the simple if statement. The beginning of an if-else statement operates similar to a simple if statement; however, if the condition is false, instead of printing nothing, the indented expression under else will be printed.\n",
    "\n",
    "Syntax: \n",
    ">`if some_condition`:\n",
    "        >>`some_expression(instruction)`\n",
    "\n",
    "> `else some_condition`:\n",
    "        >>`some_expression(instruction)`\n",
    "        \n",
    "Now let's add the else statement to if statement:"
   ]
  },
  {
   "cell_type": "code",
   "execution_count": 9,
   "id": "ba47548b",
   "metadata": {},
   "outputs": [
    {
     "name": "stdout",
     "output_type": "stream",
     "text": [
      "What topic are you learning\n"
     ]
    }
   ],
   "source": [
    "current_topic = \"Statements\"\n",
    "\n",
    "if current_topic == \"Functions\":\n",
    "    print(\"Yes, you are currently learning Functions\")\n",
    "else:\n",
    "    print(\"What topic are you learning\")"
   ]
  },
  {
   "cell_type": "markdown",
   "id": "9feebc52",
   "metadata": {},
   "source": [
    "### `if-elif-else` condition\n",
    "you can place as many ***elif conditions*** as necessary between the if condition and the else condition. </br>\n",
    "\n",
    "the condition which returns a true result will execute its expression.\n",
    "\n",
    "if the if conditon is false it moves the elif condition, incase the elif condition is false it moves to the else condition.\n",
    "\n",
    "Syntax: \n",
    ">`if some_condition`:\n",
    "        >>`some_expression(instruction)`\n",
    "\n",
    "> `elif some_condition`:\n",
    "        >>`some_expression(instruction)`\n",
    "\n",
    "> `else some_condition`:\n",
    "        >>`some_expression(instruction)`\n",
    "\n",
    "Let's create two more simple examples for the `if`, `elif`, and `else` statements:"
   ]
  },
  {
   "cell_type": "code",
   "execution_count": 10,
   "id": "ab683924",
   "metadata": {},
   "outputs": [
    {
     "name": "stdout",
     "output_type": "stream",
     "text": [
      "Yes, you are currently learning Statements\n"
     ]
    }
   ],
   "source": [
    "# Example 1\n",
    "\n",
    "current_topic = \"Statements\"\n",
    "\n",
    "if current_topic == \"Functions\":\n",
    "    print(\"Yes, you are currently learning Functions\")\n",
    "\n",
    "elif current_topic == \"Statements\":\n",
    "    print(\"Yes, you are currently learning Statements\")       \n",
    "\n",
    "else:\n",
    "    print(\"What topic are you learning\")"
   ]
  },
  {
   "cell_type": "code",
   "execution_count": 11,
   "id": "304f9f69",
   "metadata": {},
   "outputs": [
    {
     "name": "stdout",
     "output_type": "stream",
     "text": [
      "Welcome George!\n"
     ]
    }
   ],
   "source": [
    "# Example 2\n",
    "person = 'George'\n",
    "\n",
    "if person == 'Sammy':\n",
    "    print('Welcome Sammy!')\n",
    "elif person =='George':\n",
    "    print('Welcome George!')\n",
    "else:\n",
    "    print(\"Welcome, what's your name?\")"
   ]
  },
  {
   "cell_type": "markdown",
   "id": "1f893827",
   "metadata": {},
   "source": [
    "### Iterators:\n",
    "\n",
    "***Iterators*** are methods that return members/subitems of collections like lists, tuples, etc. \n",
    "\n",
    "An iterator is like a vending machine that can deliver individually separate and distinct items each time you ask for one. \n",
    "\n",
    "Using an iterator method, we can loop through an object and return its elements.\n",
    "\n",
    "Note this: </br>\n",
    "***Iterable*** is an object that allows you to go over its sub-items.\n",
    "\n",
    "***For example*** a list of numbers is iterable because you can go over the items in the list, which are numbers.\n",
    "\n",
    "Also a string is iterable, you can go over the letters in the string.\n",
    "\n",
    "A single number is not iterable, there's no sub-items that it contains to go over.\n",
    "\n",
    "Objects like lists, tuples, sets, dictionaries, strings, etc. are called iterables.\n"
   ]
  },
  {
   "cell_type": "markdown",
   "id": "426ea71a",
   "metadata": {},
   "source": [
    "### Check Out A Thread I Found On Twitter About An Iterator\n",
    "\n",
    "<img src = \"../img/Screenshot 8.png\"\n",
    "     height= \"400px\"\n",
    "width= \"720px\">\n",
    "\n",
    "<img src = \"../img/Screenshot 09.png\"\n",
    "     height= \"400px\"\n",
    "width= \"720px\">\n",
    "\n",
    "<img src = \"../img/Screenshot 10.png\"\n",
    "     height= \"400px\"\n",
    "width= \"720px\">\n",
    "\n",
    "<img src = \"../img/Screenshot 11.png\"\n",
    "     height= \"400px\"\n",
    "width= \"720px\">\n",
    "\n",
    "<img src = \"../img/Screenshot 12.png\"\n",
    "     height= \"400px\"\n",
    "width= \"720px\">\n",
    "\n",
    "<img src = \"../img/Screenshot 13.png\"\n",
    "     height= \"400px\"\n",
    "width= \"720px\">\n",
    "\n",
    "<img src = \"../img/Screenshot 14.png\"\n",
    "     height= \"400px\"\n",
    "width= \"720px\">"
   ]
  },
  {
   "cell_type": "markdown",
   "id": "a9f0decd",
   "metadata": {},
   "source": [
    "## Looping statements\n",
    "\n",
    "## `for` Loops\n",
    "\n",
    "The `for` loop is used to run a block of code for a certain number of times. \n",
    "\n",
    "It acts as an ***iterator*** in Python. It is used to iterate over any sequence, meaning it goes through items that are in a sequence or any other iterable item such as list, tuple, string, etc.\n",
    "\n",
    "\n",
    "Syntax: \n",
    "\n",
    ">`for item in iterable object`\n",
    "    >> statement to do staff\n",
    "\n",
    "The name **item** is just a variable name, the variable name used depends on you.\n",
    "\n",
    "- If you know how many times your loop will run, use a for-loop.\n",
    "\n",
    "### for loop can be used with the if statement ...\n",
    "    1. to go through a list of numbers and check which numbers are even or odd. \n",
    "    2. to can sum up a list of numbers\n",
    "    3. for for tuple unpacking \n",
    "    4. to perform unpacking(separating keys and values) on dictionaries\n"
   ]
  },
  {
   "cell_type": "code",
   "execution_count": 12,
   "id": "ba4eac97",
   "metadata": {},
   "outputs": [
    {
     "name": "stdout",
     "output_type": "stream",
     "text": [
      "1 is odd\n",
      "2 is even\n",
      "3 is odd\n",
      "4 is even\n",
      "5 is odd\n",
      "6 is even\n",
      "7 is odd\n",
      "8 is even\n",
      "9 is odd\n",
      "10 is even\n"
     ]
    }
   ],
   "source": [
    "# 1. Checking even/odd numbers\n",
    "\n",
    "num_list = [1,2,3,4,5,6,7,8,9,10]\n",
    "\n",
    "# For every number(num) in num_list\n",
    "for num in num_list:\n",
    "    \n",
    "    # IF the number is divisible by 2\n",
    "    if num%2 == 0:\n",
    "        \n",
    "        # Print the number is even\n",
    "        print(f\"{num} is even\")\n",
    "    \n",
    "    # IF the number is not divisible by 2\n",
    "    else:\n",
    "        \n",
    "        # Print the number is odd\n",
    "        print(f\"{num} is odd\")"
   ]
  },
  {
   "cell_type": "code",
   "execution_count": 15,
   "id": "524b1471",
   "metadata": {},
   "outputs": [
    {
     "name": "stdout",
     "output_type": "stream",
     "text": [
      "55\n"
     ]
    }
   ],
   "source": [
    "# 2. Summing Up A List of Numbers\n",
    "\n",
    "# Set an initial sum to track change in sum value\n",
    "list_sum = 0\n",
    "num_list = [1,2,3,4,5,6,7,8,9,10]\n",
    "\n",
    "# For every number(num) in num_list\n",
    "for num in num_list:\n",
    "    \n",
    "    # Add that number to list_sum and update it\n",
    "    list_sum += num\n",
    "\n",
    "print(list_sum)"
   ]
  },
  {
   "cell_type": "markdown",
   "id": "8150856c",
   "metadata": {},
   "source": [
    "#### To code above simply means....\n",
    "\n",
    "1. that initially the variable **list_sum** had a sum of zero.\n",
    "2. Later a list of numbers were created.\n",
    "3. Then the for loop was used to go through each item(number) in the list ***one by one*** and for every item(number) it was added to the value of the list_sum.\n",
    "\n",
    "- So it goes to 1, and adds its value to 0. The new value for **list_sum** becomes 1.\n",
    "- It then goes to 2, and adds it value to 1. The new value for **list_sum** becomes 3.\n",
    "\n",
    "It does this to the last item(number).\n"
   ]
  },
  {
   "cell_type": "markdown",
   "id": "0856cb28",
   "metadata": {},
   "source": [
    "### Unpacking\n",
    "\n",
    "Unpacking is a special assignment operation that allows us to assign variables to all members of an iterable object (such as list, dictionary, set ).\n",
    "\n",
    "### Tuple Unpacking\n",
    "\n",
    "Tuple unpacking is also called multiple assignment and it's sometimes called iterable unpacking because you can actually use it with any iterable in Python, not just with tuples."
   ]
  },
  {
   "cell_type": "code",
   "execution_count": 16,
   "id": "1f3f128d",
   "metadata": {},
   "outputs": [],
   "source": [
    "p = (2, 1, 3)"
   ]
  },
  {
   "cell_type": "code",
   "execution_count": 17,
   "id": "043f7a50",
   "metadata": {},
   "outputs": [
    {
     "name": "stdout",
     "output_type": "stream",
     "text": [
      "2 1 3\n"
     ]
    }
   ],
   "source": [
    "# We can access each item in this tuple by indexing it:\n",
    "print(p[0], p[1], p[2])"
   ]
  },
  {
   "cell_type": "code",
   "execution_count": 18,
   "id": "e6d346db",
   "metadata": {},
   "outputs": [],
   "source": [
    "# But we could also assign variable to these items in the tuple:\n",
    "x, y, z = p"
   ]
  },
  {
   "cell_type": "markdown",
   "id": "7c50af1d",
   "metadata": {},
   "source": [
    "This is called unpacking(specifically ***tuple unpacking***). \n",
    "\n",
    "We've taken a three-item tuple and unpacked it into three variables (x, y, and z):"
   ]
  },
  {
   "cell_type": "code",
   "execution_count": 19,
   "id": "bae3320c",
   "metadata": {},
   "outputs": [
    {
     "name": "stdout",
     "output_type": "stream",
     "text": [
      "2 1 3\n"
     ]
    }
   ],
   "source": [
    "print(x, y, z)"
   ]
  },
  {
   "cell_type": "markdown",
   "id": "caef31c2",
   "metadata": {},
   "source": [
    "#### Let's look at another example of tuple unpacking\n",
    "\n",
    "Tuple unpacking is most often used, not with an equals sign, but instead in a `for` loop.\n",
    "\n"
   ]
  },
  {
   "cell_type": "code",
   "execution_count": 20,
   "id": "e1aea732",
   "metadata": {},
   "outputs": [
    {
     "name": "stdout",
     "output_type": "stream",
     "text": [
      "('Selorm', 17)\n",
      "('Jerome', 18)\n",
      "('Kwame', 19)\n"
     ]
    }
   ],
   "source": [
    "# We'll get an iterable of two-item tuples\n",
    "list = [(\"Selorm\",17),(\"Jerome\",18),(\"Kwame\",19)]\n",
    "for list_item in list:\n",
    "    print(list_item)"
   ]
  },
  {
   "cell_type": "markdown",
   "id": "f8454cdf",
   "metadata": {},
   "source": [
    "#### we can unpack the tuple inside the list to access the individual items inside the tuple\n"
   ]
  },
  {
   "cell_type": "code",
   "execution_count": 21,
   "id": "00c8eb45",
   "metadata": {},
   "outputs": [
    {
     "name": "stdout",
     "output_type": "stream",
     "text": [
      "Selorm\n",
      "17\n",
      "Jerome\n",
      "18\n",
      "Kwame\n",
      "19\n"
     ]
    }
   ],
   "source": [
    "# Each item(individual) in the list is in a tuple (a,b) so....\n",
    "\n",
    "for (item1,item2) in list:\n",
    "    print(item1)\n",
    "    print(item2)"
   ]
  },
  {
   "cell_type": "code",
   "execution_count": 23,
   "id": "f0258779",
   "metadata": {},
   "outputs": [
    {
     "name": "stdout",
     "output_type": "stream",
     "text": [
      "Selorm\n",
      "17\n",
      "Jerome\n",
      "18\n",
      "Kwame\n",
      "19\n"
     ]
    }
   ],
   "source": [
    "# This is the code as the code above\n",
    "for item in list:\n",
    "    a, b = item\n",
    "    print(a)\n",
    "    print(b)"
   ]
  },
  {
   "cell_type": "markdown",
   "id": "3098289f",
   "metadata": {},
   "source": [
    "### Unpacking Tuples in a Dictionary"
   ]
  },
  {
   "cell_type": "code",
   "execution_count": 27,
   "id": "001019d3",
   "metadata": {},
   "outputs": [
    {
     "name": "stdout",
     "output_type": "stream",
     "text": [
      "Selorm\n",
      "2004\n",
      "Jerome\n",
      "2005\n",
      "Kwame\n",
      "2006\n"
     ]
    }
   ],
   "source": [
    "# Upacking a Dictionary\n",
    "\n",
    "dict = {\"Selorm\":2004,\"Jerome\":2005,\"Kwame\":2006}\n",
    "\n",
    "# If we call the items method on a dictionary, \n",
    "# we'll get an iterable of two-item tuples which represent the\n",
    "# key-value pairs\n",
    "\n",
    "dict.items() \n",
    "\n",
    "\n",
    "for (key,value) in dict.items():\n",
    "    print(key)\n",
    "    print(value)\n",
    "    \n"
   ]
  },
  {
   "cell_type": "markdown",
   "id": "fa72a124",
   "metadata": {},
   "source": [
    "## `while` loops: \n",
    "\n",
    "A ***while loop*** is a control flow statement which allows code to be executed repeatedly, depending on whether a condition is satisfied or not. \n",
    "\n",
    "A while statement will repeatedly execute a single statement or group of statements as long as the condition is true. (meaning they un until some condition returns false)\n",
    "\n",
    "\n",
    "- If you don’t know how many times your loop will run, use a while-loop.\n",
    "\n",
    "Syntax:\n",
    "\n",
    "\n",
    "> `while condtion:`\n",
    "    >> `some_expression(instruction)`\n",
    "\n",
    ">`else:`\n",
    "    >> `some_expression(instruction)`\n",
    "\n",
    "1. The while loop in python runs until the \"while\" condition is satisfied.\n",
    "2. The \"while true\" loop in python runs without any conditions until the break statement executes inside the loop.\n",
    "3. To run a statement if a python while loop fails, the programmer can implement a python \"while\" with else loop.\n",
    "\n",
    "<img src = \"../img/Screenshot17.png\"\n",
    "     height= \"400px\"\n",
    "width= \"720px\">\n",
    "\n",
    "- Using `while True` , executes the instructions in the loop infinitely.\n",
    "\n",
    "\n",
    "- `while` loops are typically accompanied by a variable whose value changes throughout the duration of the loop. And it ultimately determines when the loop will end.\n",
    "\n",
    "If you do not add this line, you will create an infinite loop.\n",
    "\n",
    "For example:"
   ]
  },
  {
   "cell_type": "code",
   "execution_count": 31,
   "id": "74cedaa4",
   "metadata": {},
   "outputs": [
    {
     "name": "stdout",
     "output_type": "stream",
     "text": [
      "x is currently:  0\n",
      "x is still less than 10\n",
      "  adding 1 to x...\n",
      "x is currently:  1\n",
      "x is still less than 10\n",
      "  adding 1 to x...\n",
      "x is currently:  2\n",
      "x is still less than 10\n",
      "  adding 1 to x...\n",
      "x is currently:  3\n",
      "x is still less than 10\n",
      "  adding 1 to x...\n",
      "x is currently:  4\n",
      "x is still less than 10\n",
      "  adding 1 to x...\n",
      "x is currently:  5\n",
      "x is still less than 10\n",
      "  adding 1 to x...\n",
      "x is currently:  6\n",
      "x is still less than 10\n",
      "  adding 1 to x...\n",
      "x is currently:  7\n",
      "x is still less than 10\n",
      "  adding 1 to x...\n",
      "x is currently:  8\n",
      "x is still less than 10\n",
      "  adding 1 to x...\n",
      "x is currently:  9\n",
      "x is still less than 10\n",
      "  adding 1 to x...\n"
     ]
    }
   ],
   "source": [
    "x = 0\n",
    "\n",
    "# As long x is less than 10 execute the block of codes\n",
    "while x < 10:\n",
    "    print('x is currently: ',x)\n",
    "    print('x is still less than 10')\n",
    "    print(\"  adding 1 to x...\")\n",
    "    x+=1"
   ]
  },
  {
   "cell_type": "markdown",
   "id": "072152ac",
   "metadata": {},
   "source": [
    "From the code above, the output result stops at \n",
    "`x is currently:  9.`\n",
    "\n",
    "This is because the while loop had a condition `x < 10`\n",
    "(meaning as long as X < 10, it performs the following instructions within the loop)"
   ]
  },
  {
   "cell_type": "markdown",
   "id": "02e9837d",
   "metadata": {},
   "source": [
    "### `break`, `continue`, `pass`\n",
    "\n",
    "***break, pass, and continue*** statements are provided in Python to handle instances where you need to escape a loop fully when an external condition is triggered or when you want to bypass a section of the loop and begin the next iteration. These statements can also help you gain better control of your loop.\n",
    "\n",
    "### `break`: \n",
    "\n",
    "A break statement in Python alters the flow of a loop by terminating it once a specified condition is met.\n",
    "\n",
    "\n",
    "\n",
    "When used inside a loop (for or while), break is used to immediately exit the loop's body and continue executing the rest of the code after the loop(outside the loop). It is often used to terminate a loop when a certain condition is met.\n",
    "\n",
    "For example, you are searching a specific email inside a file. You started reading a file line by line using a loop. When you found an email, you can stop the loop using the break statement.\n",
    "\n",
    "<img src = \"../img/Screenshot15.png\"\n",
    "     height= \"400px\"\n",
    "width= \"720px\">"
   ]
  },
  {
   "cell_type": "code",
   "execution_count": 32,
   "id": "57b4e798",
   "metadata": {},
   "outputs": [
    {
     "name": "stdout",
     "output_type": "stream",
     "text": [
      "Number is 0\n",
      "Number is 1\n",
      "Number is 2\n",
      "Number is 3\n",
      "Number is 4\n",
      "Out of loop\n"
     ]
    }
   ],
   "source": [
    "#1 Using break\n",
    "number = [0,1,2,3,4,5,6,7,8,9,10]\n",
    "\n",
    "for num in number:\n",
    "    \n",
    "    if num == 5:\n",
    "        # leave this for loop and go to next statement out the loop\n",
    "        break   \n",
    "\n",
    "    print('Number is ' + str(num))\n",
    "\n",
    "print('Out of loop')\n"
   ]
  },
  {
   "cell_type": "markdown",
   "id": "d47c42fe",
   "metadata": {},
   "source": [
    "### `continue`: \n",
    "\n",
    "The continue statement gives you the option to skip over the part of a loop where an external condition is triggered, but to go on to complete the rest of the loop. That is, the current iteration of the loop will be disrupted, but the program will return to the top of the loop.\n",
    "\n",
    "- `break` terminates the loop, and the `continue` statement forces the program to execute the next iteration of the loop.(meaning the current iteration that is running will be stopped, and it will proceed with the next iteration)\n",
    "\n",
    "Let's look at this example:"
   ]
  },
  {
   "cell_type": "code",
   "execution_count": 33,
   "id": "04cc2879",
   "metadata": {},
   "outputs": [
    {
     "name": "stdout",
     "output_type": "stream",
     "text": [
      "Iteration: 0\n",
      "Iteration: 1\n",
      "Iteration: 2\n",
      "Iteration: 3\n",
      "Iteration: 4\n",
      "Iteration: 6\n",
      "Iteration: 7\n",
      "Iteration: 8\n",
      "Iteration: 9\n"
     ]
    }
   ],
   "source": [
    "# Using the for loop and if, \n",
    "# when the if condition was met i.e num==5\n",
    "# Any intruction below the continue statement \n",
    "# is skipped(But notice the instructed above took place)\n",
    "# And it moves to continue to the next iteration 6.\n",
    "for num in range(0,10):\n",
    "    if num == 5:\n",
    "        continue\n",
    "    print(f'Iteration: {num}')\n",
    "    \n",
    "    "
   ]
  },
  {
   "cell_type": "markdown",
   "id": "14f9db07",
   "metadata": {},
   "source": [
    "From the above code, notice the output `Iteration: 5` was not given.\n",
    "\n",
    "This is because a condition `if num == 5` was used with the `continue` keyword to skip printing the iteration number of 5.\n",
    "\n",
    "If `break` was used the Iteration would stop at 4."
   ]
  },
  {
   "cell_type": "markdown",
   "id": "8e19b772",
   "metadata": {},
   "source": [
    "### `pass`:\n",
    "\n",
    "The pass statement is a ***null*** operation; nothing happens when it executes. (basically instructs python to do nothing)\n",
    "\n",
    "The pass statement can be particularly useful when defining a function that you plan to implement later. By using pass as a placeholder, you can create the function structure without immediately providing its implementation.\n",
    "\n",
    "> `def some_function():`\n",
    "    >> `pass`\n",
    "- The pass statement can be used when you don't want a specific item to be affected by a block of code.\n",
    "\n",
    "Let's look at this example:"
   ]
  },
  {
   "cell_type": "code",
   "execution_count": 37,
   "id": "62ecdb9d",
   "metadata": {},
   "outputs": [
    {
     "name": "stdout",
     "output_type": "stream",
     "text": [
      "Processing odd number: 1\n",
      "Processing odd number: 3\n",
      "Processing odd number: 5\n",
      "Processing odd number: 7\n",
      "Processing odd number: 9\n"
     ]
    }
   ],
   "source": [
    "my_list = [1, 2, 3, 4, 5, 6, 7, 8, 9, 10]\n",
    "\n",
    "for item in my_list:\n",
    "    if item % 2 == 0:\n",
    "        # Skip even numbers\n",
    "        pass\n",
    "    else:\n",
    "        # Process odd numbers\n",
    "        print(\"Processing odd number:\", item)\n"
   ]
  },
  {
   "cell_type": "markdown",
   "id": "d68b5140",
   "metadata": {},
   "source": [
    "## List Comprehension:  \n",
    "\n",
    "List comprehension is an easy to read, compact, and elegant way of creating a list from any existing iterable object. \n",
    "\n",
    "Basically, it's a simpler way to create a new list from the values in an existing list or objects.</br>\n",
    "It is generally a single line of code enclosed in square brackets. \n",
    "\n",
    "Syntax:\n",
    "\n",
    "<img src = \"../img/Screenshot16.png\"\n",
    "     height= \"400px\"\n",
    "width= \"720px\"> \n",
    "\n",
    "\n"
   ]
  },
  {
   "cell_type": "code",
   "execution_count": 3,
   "id": "71827945",
   "metadata": {},
   "outputs": [
    {
     "name": "stdout",
     "output_type": "stream",
     "text": [
      "[1, 2, 3, 4, 5, 6, 7, 8, 9, 10]\n",
      "[2, 4, 6, 8, 10]\n"
     ]
    }
   ],
   "source": [
    "# USING SIMPLE LIST COMPREHENSION\n",
    "lst = [1,2,3,4,5,6,7,8,9,10]\n",
    "a = [x for x in lst]\n",
    "b = [x for x in lst if x%2 == 0]\n",
    "print(a)\n",
    "print(b)"
   ]
  },
  {
   "cell_type": "code",
   "execution_count": 46,
   "id": "26aad121",
   "metadata": {},
   "outputs": [
    {
     "name": "stdout",
     "output_type": "stream",
     "text": [
      "[1, 2, 3, 4, 5, 6, 7, 8, 9, 10]\n"
     ]
    }
   ],
   "source": [
    "# WITHOUT USING LIST COMPREHENSION\n",
    "lst = [1,2,3,4,5,6,7,8,9,10]\n",
    "a = []\n",
    "for x in lst:\n",
    "    a.append(x)\n",
    "print(a)"
   ]
  },
  {
   "cell_type": "markdown",
   "id": "15c92213",
   "metadata": {},
   "source": [
    "## Links\n",
    "\n",
    "### Tuple Unpacking\n",
    "https://www.pythonmorsels.com/tuple-unpacking/?watch"
   ]
  },
  {
   "cell_type": "markdown",
   "id": "e43dca07",
   "metadata": {},
   "source": [
    "### Useful Operators in Python\n",
    "\n",
    "1. The ***range function*** allows you to quickly generate a list of integers.</br>\n",
    "There are 3 parameters you can pass, a start, a stop, and a step size. </br>\n",
    "***range is a generator function***(look into generators later) </br>\n",
    "synthax : range(start,stop,step-size)\n",
    "\n",
    "2. ***enumerate***:  takes in iterable objects and returns the index number along with it corresponding element. Useful with for loops\n",
    "***enumerate was created so you don't need to worry about creating and updating this index_count or loop_count variable***\n",
    "\n",
    "3. ***zip***: can zip/join together lists and pair them up based on index positioning. (can be used for tuple unpacking)\n",
    "\n",
    "4. ***in***: checks whether an element is within an iterable object. Returns True or False.\n",
    "\n",
    "5. ***min***: Reports min value within a list.\n",
    "6. ***max***: Reports max value within a list.\n",
    "\n",
    "7. ***random***: Helps with importing functions from python's built-in library. </br>\n",
    "* Syntax: **from** random **import** name of function </br>\n",
    "eg. of a function from the library is **shuffle** and **randint**\n",
    "8. ***input***: Enables python request for a user input. </br>\n",
    "We usually assign a variable to save the result from the input function.</br>\n",
    "NB: ***It accepts anything as a string***,so if you want the result to be a specific data type we attach a function that will convert it right away initially. </br>\n",
    "like ***int( ).***"
   ]
  },
  {
   "cell_type": "code",
   "execution_count": null,
   "id": "bcaf71cc",
   "metadata": {},
   "outputs": [],
   "source": []
  }
 ],
 "metadata": {
  "kernelspec": {
   "display_name": "Python 3 (ipykernel)",
   "language": "python",
   "name": "python3"
  },
  "language_info": {
   "codemirror_mode": {
    "name": "ipython",
    "version": 3
   },
   "file_extension": ".py",
   "mimetype": "text/x-python",
   "name": "python",
   "nbconvert_exporter": "python",
   "pygments_lexer": "ipython3",
   "version": "3.9.13"
  }
 },
 "nbformat": 4,
 "nbformat_minor": 5
}
