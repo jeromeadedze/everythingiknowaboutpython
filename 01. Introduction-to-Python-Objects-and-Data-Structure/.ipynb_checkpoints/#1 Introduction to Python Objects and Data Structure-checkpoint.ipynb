{
 "cells": [
  {
   "cell_type": "markdown",
   "id": "ec0f7e23",
   "metadata": {},
   "source": [
    "# Objects and Data Structure 1\n",
    "---"
   ]
  },
  {
   "cell_type": "markdown",
   "id": "9d4facef",
   "metadata": {},
   "source": [
    "## Basic Arithmetic\n",
    "\n",
    "An ***int*** is a number without a decimal point or a whole integer number. \n",
    "\n",
    "A ***float*** is a number with a decimal point (including numbers with 0 after the decimal point such as 2.0). This will be useful to remember for the following concepts. \n",
    "\n",
    "\n",
    "<img src = \"../img/pythonarithmetic.png\"\n",
    "     height=\"400px\"\n",
    "     width=\"720px\">\n",
    "     \n",
    "<img src =\"../img/CIP3.png\"\n",
    "     height =\"400px\"\n",
    "     width =\"720px\">     \n",
    "\n",
    "<img src =\"../img/advancedarithmetic.png\"\n",
    "     height =\"400px\"\n",
    "     width =\"720px\">\n",
    "\n",
    "- The modulus operator gives you the remainder of a division between two numbers.\n",
    "    - It can be used to check whether a number is divisible to a certain number\n",
    "    - It can be used to check whether a number is even or odd\n",
    "- This `//` operator is equivalent to calculating the division of numbers using `/` and then rounding the result down. This means that the result of the integer division leads to a conversion loss. "
   ]
  },
  {
   "cell_type": "code",
   "execution_count": 12,
   "id": "37bc9a52",
   "metadata": {},
   "outputs": [
    {
     "data": {
      "text/plain": [
       "1"
      ]
     },
     "execution_count": 12,
     "metadata": {},
     "output_type": "execute_result"
    }
   ],
   "source": [
    "#1 Using // we get 1 instead of 1.75\n",
    "7//4"
   ]
  },
  {
   "cell_type": "code",
   "execution_count": 10,
   "id": "221a5a61",
   "metadata": {},
   "outputs": [
    {
     "data": {
      "text/plain": [
       "2.0"
      ]
     },
     "execution_count": 10,
     "metadata": {},
     "output_type": "execute_result"
    }
   ],
   "source": [
    "#2 Using Powers as roots\n",
    "4**0.5"
   ]
  },
  {
   "cell_type": "markdown",
   "id": "35f709a8",
   "metadata": {},
   "source": [
    "### Type Conversion:\n",
    "\n",
    "Type conversion is the process of converting a data type into another data type.\n",
    "\n",
    "1. You may have noticed that using the `/` symbol will result in a float result (even if both of the arguments are integers). This is called ***implicit type conversion***( automatic conversion performed by a Python interpreter)\n",
    "2. Explicit type conversion is performed by the user by explicitly using type conversion functions. Egs are ***int() and float()***\n",
    "\n",
    "The conversion functions only do one conversion at a time. You can’t call the int() function on a string that has a decimal point. You have to convert the string to a float first and then an int.\n",
    "\n",
    "Also, it is important to note that the int() function simply chops off anything after the decimal. No rounding is involved. This can be dangerous. If we convert a float to an int and then back again, we might lose information. This is called conversion loss."
   ]
  },
  {
   "cell_type": "markdown",
   "id": "49d93c20",
   "metadata": {},
   "source": [
    "## Variables\n",
    "\n",
    "What are some examples of information we might want to keep track of?\n",
    "- A person’s name?\n",
    "- Your friend's birthday? etc...\n",
    "\n",
    "There are many different types of information you might want to store. Sometimes you are keeping track of a word, sometimes a number, or sometimes just a simple “Yes” or “No” to a question “Do I own a hat?” \n",
    "\n",
    "When you want your computer to keep track of some data, you’ll need to create a variable.\n",
    "\n",
    "### What is a variable?\n",
    "\n",
    "A ***Variable*** is a container for storing data values. \n",
    "\n",
    "It is described as a reserved memory location/container/spot that stores data which can be called, manipulated or changed.\n",
    "\n",
    "Once an object is assigned to a variable, you can refer to the object by that name of the variable. \n",
    "\n",
    "Variables are made up of three things:\n",
    "\n",
    "1. The ***value*** of your variable is the thing you want your computer to remember. A value could be something like a number or a word.\n",
    "\n",
    "2. The ***name of the variable*** helps you keep track of what the value represents, and it's a description of the information stored in the variable.\n",
    "\n",
    "3. The ***type of a variable*** is what sort of data we are putting inside our suitcase. Maybe we want to store someone’s age, which is a number. What about their name, a word? Depending on what sort of information the computer is keeping track of, it will use a variable of a specific type.\n",
    "\n",
    "### Assigning a Variable\n",
    "\n",
    "So how do we make a variable? We use something called the ***assignment operator*** Which is the equal sign `=`\n",
    "\n",
    "***NB: In Python the equal sign `=` does not mean equal to!***\n",
    "\n",
    "\n",
    "<img src = \"../img/CIP2.png\"\n",
    "     height=\"400px\"\n",
    "     width=\"720px\"\n",
    "     >"
   ]
  },
  {
   "cell_type": "markdown",
   "id": "dd940163",
   "metadata": {},
   "source": [
    "## Reassigning Variables using \n",
    "\n",
    "### `+=` , \n",
    "### `-=`, \n",
    "### `*=`, and \n",
    "### `/=`"
   ]
  },
  {
   "cell_type": "code",
   "execution_count": 2,
   "id": "41b3fef7",
   "metadata": {},
   "outputs": [],
   "source": [
    "# For example\n",
    "a = 10"
   ]
  },
  {
   "cell_type": "markdown",
   "id": "c938e7df",
   "metadata": {},
   "source": [
    "### `instead of a = a + 10 `\n"
   ]
  },
  {
   "cell_type": "code",
   "execution_count": 3,
   "id": "df4a20ad",
   "metadata": {},
   "outputs": [],
   "source": [
    "# We use:\n",
    "a += 10 "
   ]
  },
  {
   "cell_type": "code",
   "execution_count": 4,
   "id": "95881751",
   "metadata": {},
   "outputs": [
    {
     "data": {
      "text/plain": [
       "20"
      ]
     },
     "execution_count": 4,
     "metadata": {},
     "output_type": "execute_result"
    }
   ],
   "source": [
    "a"
   ]
  },
  {
   "cell_type": "markdown",
   "id": "b6131528",
   "metadata": {},
   "source": [
    "### Every Variable Has A Type\n",
    "\n",
    "Computers store words and sentences differently than it stores numbers. We call these different data types primitives.\n",
    "\n",
    "> A primitive data type is the fundamental data type(cannot be broken down further) from which all other data types are constructed\n",
    "\n",
    "<img src = \"../img/datatype.png\"\n",
    "     height=\"400px\"\n",
    "     width=\"720px\">\n",
    "<img src = \"../img/datatype10.png\"\n",
    "     height=\"400px\"\n",
    "     width=\"720px\">"
   ]
  },
  {
   "cell_type": "markdown",
   "id": "6ad8fc09",
   "metadata": {},
   "source": [
    "## Data Types\n",
    "\n",
    "###  1. Strings\n",
    "\n",
    "Text in Python are called strings\n",
    "\n",
    "These are series of connected letters, numbers and symbols enclosed in a quote\n",
    "\n",
    "***simply series of connected characters***\n",
    "\n",
    "#### Examples:\n",
    "\n",
    "- `\"string\"`,  \n",
    "- `\"string1\"`, \n",
    "- `\"string1*$\"` \n"
   ]
  },
  {
   "cell_type": "code",
   "execution_count": 1,
   "id": "5efffa7e",
   "metadata": {},
   "outputs": [
    {
     "data": {
      "text/plain": [
       "16"
      ]
     },
     "execution_count": 1,
     "metadata": {},
     "output_type": "execute_result"
    }
   ],
   "source": [
    "# We can check the length of a string (No. of characters it has) \n",
    "# using the len() function\n",
    "\n",
    "len(\"THIS IS A STRING\")\n",
    "\n",
    "#NB : spaces and punctuations also count as a character"
   ]
  },
  {
   "cell_type": "markdown",
   "id": "a3e92583",
   "metadata": {},
   "source": [
    "### String Indexing\n",
    "\n",
    "Strings are a ***sequence***, which means we can use indexes to call parts of the sequence using Python.\n",
    "\n",
    "> A ***sequence*** is a positionally ordered collection of items. And you can refer to any item in the sequence by calling its index number.\n",
    "\n",
    "<img src =\"../img/Screenshot6.png\"\n",
    "     height =\"400px\"\n",
    "     width =\"720px\">\n",
    "     \n",
    "#### we use [ ] after an object to call its index"
   ]
  },
  {
   "cell_type": "code",
   "execution_count": 6,
   "id": "034d3048",
   "metadata": {},
   "outputs": [
    {
     "data": {
      "text/plain": [
       "'O'"
      ]
     },
     "execution_count": 6,
     "metadata": {},
     "output_type": "execute_result"
    }
   ],
   "source": [
    "name = \"JEROME\"\n",
    "name[3]"
   ]
  },
  {
   "cell_type": "markdown",
   "id": "ee718672",
   "metadata": {},
   "source": [
    "### String Slicing\n",
    "\n",
    "***Slicing*** in Python is a feature that enables accessing parts of sequences like strings, tuples, and lists. \n",
    "\n",
    "We use `:` inside the  `[  ]` for slicing"
   ]
  },
  {
   "cell_type": "code",
   "execution_count": 22,
   "id": "160b6650",
   "metadata": {},
   "outputs": [
    {
     "data": {
      "text/plain": [
       "'ROME'"
      ]
     },
     "execution_count": 22,
     "metadata": {},
     "output_type": "execute_result"
    }
   ],
   "source": [
    "# [ selects everything starting from the index given here : ]\n",
    "\n",
    "first_name = \"JEROME\"\n",
    "first_name[2:]\n",
    "\n"
   ]
  },
  {
   "cell_type": "code",
   "execution_count": 23,
   "id": "2152bebf",
   "metadata": {},
   "outputs": [
    {
     "data": {
      "text/plain": [
       "'SE'"
      ]
     },
     "execution_count": 23,
     "metadata": {},
     "output_type": "execute_result"
    }
   ],
   "source": [
    "# [ : select everything from 0 index until nth index, then ignore nth index and stop]\n",
    "\n",
    "middle_name = \"SELORM\"\n",
    "middle_name[:2]\n",
    "\n",
    "# [ : selects everything apart from the specified index ] \n"
   ]
  },
  {
   "cell_type": "markdown",
   "id": "6eca7b01",
   "metadata": {},
   "source": [
    "### Reverse Slicing using negatives"
   ]
  },
  {
   "cell_type": "code",
   "execution_count": 6,
   "id": "850bc4bc",
   "metadata": {},
   "outputs": [
    {
     "data": {
      "text/plain": [
       "'E'"
      ]
     },
     "execution_count": 6,
     "metadata": {},
     "output_type": "execute_result"
    }
   ],
   "source": [
    "last_name = \"ADEDZE\"\n",
    "last_name[-1:]\n"
   ]
  },
  {
   "cell_type": "markdown",
   "id": "9373e847",
   "metadata": {},
   "source": [
    "***The index for the first item in a sequence is 0, so -1 is like going back(which is the last character of the string)***"
   ]
  },
  {
   "cell_type": "markdown",
   "id": "b4b18b9b",
   "metadata": {},
   "source": [
    "### Step sizes with index slicing using [  :  :  ]"
   ]
  },
  {
   "cell_type": "code",
   "execution_count": 7,
   "id": "d4fb7b35",
   "metadata": {},
   "outputs": [
    {
     "name": "stdout",
     "output_type": "stream",
     "text": [
      "KWAME\n",
      "KAE\n",
      "EMAWK\n"
     ]
    }
   ],
   "source": [
    "extra_name = \"KWAME\"\n",
    "\n",
    "print(extra_name[::1]) # step size of one\n",
    "\n",
    "print(extra_name[::2]) # step size of two\n",
    "\n",
    "print(extra_name[::-1]) # step size of 1 but in reverse\n"
   ]
  },
  {
   "cell_type": "markdown",
   "id": "f9f0e932",
   "metadata": {},
   "source": [
    "### Struture of index slicing with step size :\n",
    "`[ select everything starting from the index selected  :  select everything from 0 index until nth index, then ignore nth index and stop   : step size  ]`\n",
    "\n",
    "shorten synthax :  `[start :stop :step ]` \n",
    "- start: index where slicing starts \n",
    "- stop: index you will go up to but not include\n",
    "- step: number of jumps taken"
   ]
  },
  {
   "cell_type": "markdown",
   "id": "ed928eec",
   "metadata": {},
   "source": [
    "### Strings have a property known as immutability meaning elements within a string cannot be changed or replaced."
   ]
  },
  {
   "cell_type": "markdown",
   "id": "78fb6dad",
   "metadata": {},
   "source": [
    "### String Concatenation\n",
    "\n",
    "String concatenation is a common operation in programming. It involves joining two or more strings to create a single new string.\n",
    "\n",
    "> NB: `String` + `Non-String` ---> `Error` \n",
    "\n",
    "To add a `Non-String` to a `String` we convert the Non-String to a String using the `str ( )` function"
   ]
  },
  {
   "cell_type": "code",
   "execution_count": 36,
   "id": "82cc9ca6",
   "metadata": {},
   "outputs": [
    {
     "data": {
      "text/plain": [
       "'Jerome 17'"
      ]
     },
     "execution_count": 36,
     "metadata": {},
     "output_type": "execute_result"
    }
   ],
   "source": [
    "# Notice how there's a space after Jerome? \n",
    "# It helps space out concatenated items\n",
    "\n",
    "name = \"Jerome \"\n",
    "num = 17\n",
    "\n",
    "# If num isn't converted it would have been an error\n",
    "name + str(num)"
   ]
  },
  {
   "cell_type": "markdown",
   "id": "123a96ac",
   "metadata": {},
   "source": [
    "### Built in String Methods\n",
    "\n",
    "Methods are ***unique functions*** that are associated with specific objects.( We will talk more about methods and functions soon)\n",
    "\n",
    "You can invoke an object's method by using the dot operator `.` after the object followed by the method name and any required arguments.\n",
    "\n",
    "\n",
    "- `.upper( )`  eg. string_object`.upper( )`\n",
    "\n",
    "- `.lower( )`  eg. string_object`.lower( )`\n",
    "\n",
    "- `.split( )` - splits a string into a list, you can specify the separator(default separator is whitespace) \n",
    "\n",
    "- etc.....\n"
   ]
  },
  {
   "cell_type": "markdown",
   "id": "e8211984",
   "metadata": {},
   "source": [
    "### String Formatting\n",
    " \n",
    "String formatting is the process of inserting a custom string or variable in predefined text.\n",
    "\n",
    "Imagine you have a greeting message like:\n",
    "\n",
    ">\"Hello, ***[name]!*** \n",
    "How are you?\". \n",
    "\n",
    "Instead of leaving ***[name]*** as it is, you can use string formatting to insert the actual name into the message.\n",
    "\n",
    "For Example:"
   ]
  },
  {
   "cell_type": "code",
   "execution_count": 9,
   "id": "0529dcdf",
   "metadata": {},
   "outputs": [
    {
     "name": "stdout",
     "output_type": "stream",
     "text": [
      "Enter Your Name: Jerome\n",
      "Hello,Jerome! How are you?\n"
     ]
    }
   ],
   "source": [
    "name = input(\"Enter Your Name: \")\n",
    "print(f\"Hello,{name}! How are you?\")"
   ]
  },
  {
   "cell_type": "markdown",
   "id": "edfcc95e",
   "metadata": {},
   "source": [
    "#### Methods for string formatting\n",
    "- `.format( )` *\n",
    "- `f-strings` *\n",
    "- formatting with placeholders ( Old Style )\n"
   ]
  },
  {
   "cell_type": "markdown",
   "id": "521acaac",
   "metadata": {},
   "source": [
    "### Using `.format( )` method"
   ]
  },
  {
   "cell_type": "code",
   "execution_count": 10,
   "id": "d8614c7d",
   "metadata": {},
   "outputs": [
    {
     "name": "stdout",
     "output_type": "stream",
     "text": [
      "My name is Selorm\n"
     ]
    }
   ],
   "source": [
    "# Syntax :\n",
    "\n",
    "# \"Str{item from format comes here}\".format(\"insert_something\")\n",
    "\n",
    "\n",
    "# \"My name is {  } \".format(\"Name Goes Here\")\n",
    "\n",
    "# Example:\n",
    "\n",
    "print(\"My name is {}\".format(\"Selorm\"))\n"
   ]
  },
  {
   "cell_type": "markdown",
   "id": "f42d5a34",
   "metadata": {},
   "source": [
    "### Using `.format( )` and index positioning\n",
    "\n",
    "### Syntax :\n",
    "\n",
    " `print( \"This { } { } { }\".format(\"is\", \"a\", \"string\") )`\n",
    " "
   ]
  },
  {
   "cell_type": "markdown",
   "id": "da22030a",
   "metadata": {},
   "source": [
    "The arguments that the `.format( )` method takes in have index values.\n",
    "We can specify the index number of the respective argumets to indicate where they should be inserted.\n",
    "\n",
    "Example:"
   ]
  },
  {
   "cell_type": "code",
   "execution_count": 9,
   "id": "c8758804",
   "metadata": {},
   "outputs": [
    {
     "name": "stdout",
     "output_type": "stream",
     "text": [
      "My name is Selorm\n"
     ]
    }
   ],
   "source": [
    "print(\"My {} {} {}\".format(\"name\",\"is\",\"Selorm\"))"
   ]
  },
  {
   "cell_type": "markdown",
   "id": "64afe6a9",
   "metadata": {},
   "source": [
    "Notice how by default each argument in the `.format()` method is inserted into the curly bracket by its initial order. \n",
    "\n",
    "Since each argument in the `.format()` method has an index \n",
    "we can insert their index values in the curly bracket.\n",
    "\n",
    "Let's see this Example:\n"
   ]
  },
  {
   "cell_type": "code",
   "execution_count": 8,
   "id": "505214b9",
   "metadata": {},
   "outputs": [
    {
     "name": "stdout",
     "output_type": "stream",
     "text": [
      "My Selorm is name\n"
     ]
    }
   ],
   "source": [
    "# Output won't make sense but i hope the concept is clear\n",
    "\n",
    "print(\"My {2} {1} {0}\".format(\"name\",\"is\",\"Selorm\"))"
   ]
  },
  {
   "cell_type": "markdown",
   "id": "bf33996a",
   "metadata": {},
   "source": [
    "### Using `.format( )` with keywords\n",
    "\n",
    "### Syntax: \n",
    "\n",
    "`print (\"{keyword1} {keyword2} \".format ( keyword1=\"item1\", keyword2=\"item2\")) `\n",
    "\n",
    "Example:"
   ]
  },
  {
   "cell_type": "code",
   "execution_count": 13,
   "id": "a2973e5e",
   "metadata": {},
   "outputs": [
    {
     "name": "stdout",
     "output_type": "stream",
     "text": [
      "My name is Selorm\n"
     ]
    }
   ],
   "source": [
    "print(\"My {n} {i} {s}\".format(n=\"name\",i=\"is\",s=\"Selorm\"))"
   ]
  },
  {
   "cell_type": "markdown",
   "id": "6cc01f6f",
   "metadata": {},
   "source": [
    "### Using `.format( )` for float formatting\n",
    "\n",
    "This can be used for rounding floats.\n",
    "\n",
    "### Syntax : \n",
    "\n",
    "\n",
    "\n",
    "`{value:width.precisionf}`\n",
    "\n",
    "- `value` : is the item form the format method \n",
    "- `width` : is the spread of white spaces \n",
    "- `precision` : is rounding of decimal places\n",
    "    - `2f` means two decimal places\n",
    "    - `3f` means three decimal places\n",
    "\n",
    "Example:"
   ]
  },
  {
   "cell_type": "code",
   "execution_count": 15,
   "id": "8a491b77",
   "metadata": {},
   "outputs": [
    {
     "name": "stdout",
     "output_type": "stream",
     "text": [
      "The result in two decimal place is 3.14\n"
     ]
    }
   ],
   "source": [
    "\n",
    "pi_value=22/7\n",
    "print(\"The result in two decimal place is {pv:1.2f}\".format(pv=pi_value))\n"
   ]
  },
  {
   "cell_type": "markdown",
   "id": "a48ebf28",
   "metadata": {},
   "source": [
    "### Using `f-string` for string formating\n",
    "\n",
    "With this method we replace the `.format()` with a keyword `f`, which is ***placed right infront of the string***.\n",
    "\n",
    "The curly bracket is still used to help insert items at desired spots \n",
    "\n",
    "Example:"
   ]
  },
  {
   "cell_type": "code",
   "execution_count": 17,
   "id": "53877cc5",
   "metadata": {},
   "outputs": [
    {
     "name": "stdout",
     "output_type": "stream",
     "text": [
      "My name is Jerome and i'm 18 years old\n"
     ]
    }
   ],
   "source": [
    "name = \"Jerome\"\n",
    "age = 18\n",
    "print(f\"My name is {name} and i'm {18} years old\")"
   ]
  },
  {
   "cell_type": "code",
   "execution_count": 13,
   "id": "a81b57e1",
   "metadata": {},
   "outputs": [
    {
     "name": "stdout",
     "output_type": "stream",
     "text": [
      "The rounded value in 2dp is 3.14\n"
     ]
    }
   ],
   "source": [
    "# We can also round numbers with the f string method\n",
    "pi_value = 22/7\n",
    "print(f\"The rounded value in 2dp is {pi_value:1.2f}\")"
   ]
  },
  {
   "cell_type": "markdown",
   "id": "d18cb06d",
   "metadata": {},
   "source": [
    "### Formatting with `%s`  placeholder ( Old Style )\n",
    "\n",
    "Syntax: \n",
    "\n",
    "print(\"I'm going to insert `%s` here and `%s` there\" `%(\"this\",\"that\")`) \n",
    "\n",
    "The \"%s\" is replaced with whatever i attached to the \"%\" \n",
    "Basically \"%s\" acts as a Substitute \n",
    "\n",
    "    \n",
    "Example:\n"
   ]
  },
  {
   "cell_type": "code",
   "execution_count": 14,
   "id": "4e9bba67",
   "metadata": {},
   "outputs": [
    {
     "name": "stdout",
     "output_type": "stream",
     "text": [
      "My name is Jerome and i'm 18 years old\n"
     ]
    }
   ],
   "source": [
    "print(\"My name is %s and i'm %s years old\" %(\"Jerome\", \"18\"))"
   ]
  },
  {
   "cell_type": "markdown",
   "id": "9cd88df9",
   "metadata": {},
   "source": [
    "## Links\n",
    "\n",
    "### Immutablity\n",
    "https://www.mygreatlearning.com/blog/understanding-mutable-and-immutable-in-python/"
   ]
  },
  {
   "cell_type": "markdown",
   "id": "e79cd88d",
   "metadata": {},
   "source": [
    "## Misc:\n",
    "\n",
    "### Thinking of variables as a stack of Boxes:\n",
    "<img src = \"../img/Screenshot5.png\"\n",
    "     height=\"400px\"\n",
    "     width=\"720px\">\n",
    "     \n",
    "#### Breakdown :\n",
    "The human brain is in layers/divisions</br>\n",
    "Assume your computer has a brain which is a stack of empty boxes/suitcases.</br>\n",
    "Now when we create a variable in Python, Python moves the variable to an empty suitcase/box in the computer with a labelled tag(which name used for the variable).\n",
    "\n",
    "\n",
    "     "
   ]
  },
  {
   "cell_type": "code",
   "execution_count": null,
   "id": "e49eb61c",
   "metadata": {},
   "outputs": [],
   "source": []
  }
 ],
 "metadata": {
  "kernelspec": {
   "display_name": "Python 3 (ipykernel)",
   "language": "python",
   "name": "python3"
  },
  "language_info": {
   "codemirror_mode": {
    "name": "ipython",
    "version": 3
   },
   "file_extension": ".py",
   "mimetype": "text/x-python",
   "name": "python",
   "nbconvert_exporter": "python",
   "pygments_lexer": "ipython3",
   "version": "3.9.13"
  }
 },
 "nbformat": 4,
 "nbformat_minor": 5
}
