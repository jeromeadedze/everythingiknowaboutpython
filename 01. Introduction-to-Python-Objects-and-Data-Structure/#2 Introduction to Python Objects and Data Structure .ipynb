{
 "cells": [
  {
   "cell_type": "markdown",
   "id": "ed358b4f",
   "metadata": {},
   "source": [
    "# Objects And Data Structure 2"
   ]
  },
  {
   "cell_type": "markdown",
   "id": "8982a2d8",
   "metadata": {},
   "source": [
    "## Data Types\n",
    "\n",
    "## 2. Lists\n",
    "\n",
    "A list is an ordered sequence that can hold variety of object types (`integers`,`strings`,....)\n",
    "\n",
    "> A ***sequence*** is a positionally ordered collection of items. And you can refer to any item in the sequence by using its index number.\n",
    "\n",
    "#### Unlike strings, lists are mutable.\n",
    "\n",
    "### Lists are :\n",
    "\n",
    "- made by enclosing items with a `[]` \n",
    "- each item is separated with a `,` \n",
    "\n",
    "### Just like strings we can:\n",
    "1. use the `len( )` function to know the number of items in a list.\n",
    "2.  use ***Indexing and Slicing*** \n",
    "3. use `+` to concatenate lists\n",
    "    - meaning we can add an extra item to a list\n",
    "    - add a list to a list \n",
    "\n",
    "> NB: it doesn't alter orginal list unless we reassign the list to make a permanent change\n",
    "\n",
    "\n"
   ]
  },
  {
   "cell_type": "code",
   "execution_count": 1,
   "id": "f4a6f6e4",
   "metadata": {},
   "outputs": [
    {
     "data": {
      "text/plain": [
       "3"
      ]
     },
     "execution_count": 1,
     "metadata": {},
     "output_type": "execute_result"
    }
   ],
   "source": [
    "# 1 Using len()\n",
    "sample_list = [\"Jerome\", \"Selorm\", \"Adedze\"]\n",
    "len(sample_list)"
   ]
  },
  {
   "cell_type": "code",
   "execution_count": 2,
   "id": "fadaf9d5",
   "metadata": {},
   "outputs": [
    {
     "data": {
      "text/plain": [
       "['Selorm', 'Adedze']"
      ]
     },
     "execution_count": 2,
     "metadata": {},
     "output_type": "execute_result"
    }
   ],
   "source": [
    "# 2 Indexing and slicing lists\n",
    "sample_list[1:]"
   ]
  },
  {
   "cell_type": "code",
   "execution_count": 3,
   "id": "049aa10d",
   "metadata": {},
   "outputs": [
    {
     "data": {
      "text/plain": [
       "['Jerome', 'Selorm', 'Adedze', 'Kwame']"
      ]
     },
     "execution_count": 3,
     "metadata": {},
     "output_type": "execute_result"
    }
   ],
   "source": [
    "# 3 Concatenating Strings\n",
    "sample_list + [\"Kwame\"]"
   ]
  },
  {
   "cell_type": "code",
   "execution_count": 4,
   "id": "b30de502",
   "metadata": {},
   "outputs": [
    {
     "data": {
      "text/plain": [
       "['Jerome', 'Selorm', 'Adedze']"
      ]
     },
     "execution_count": 4,
     "metadata": {},
     "output_type": "execute_result"
    }
   ],
   "source": [
    "# If we call out sample_list we can only see the orginal list \n",
    "# without the concatenated item.\n",
    "sample_list"
   ]
  },
  {
   "cell_type": "code",
   "execution_count": 5,
   "id": "ca6490d7",
   "metadata": {},
   "outputs": [
    {
     "data": {
      "text/plain": [
       "['Jerome', 'Selorm', 'Adedze', 'Kwame']"
      ]
     },
     "execution_count": 5,
     "metadata": {},
     "output_type": "execute_result"
    }
   ],
   "source": [
    "# To permanently add a list item we have to reassign it\n",
    "newsample_list = sample_list + [\"Kwame\"]\n",
    "newsample_list"
   ]
  },
  {
   "cell_type": "markdown",
   "id": "20b5235d",
   "metadata": {},
   "source": [
    "### List Methods\n",
    "1. `.append( )` : adds a new item at the end of a list\n",
    "2. `.pop( )` : removes an item from a list, we can use indexing to specify which item to remove\n",
    "3. `.sort( )`\n",
    "4. `.reverse( )` : reverse order of items in a list\n",
    "\n"
   ]
  },
  {
   "cell_type": "code",
   "execution_count": 1,
   "id": "1e097658",
   "metadata": {},
   "outputs": [
    {
     "data": {
      "text/plain": [
       "['item1', 'item2', 'added item']"
      ]
     },
     "execution_count": 1,
     "metadata": {},
     "output_type": "execute_result"
    }
   ],
   "source": [
    "# 1 Adding new item to list\n",
    "sample_list = [\"item1\",\"item2\"]\n",
    "sample_list.append(\"added item\")\n",
    "sample_list"
   ]
  },
  {
   "cell_type": "code",
   "execution_count": 2,
   "id": "30605e87",
   "metadata": {},
   "outputs": [
    {
     "data": {
      "text/plain": [
       "['item1', 'item2', 'added item']"
      ]
     },
     "execution_count": 2,
     "metadata": {},
     "output_type": "execute_result"
    }
   ],
   "source": [
    "# NB: the item added is permanent \n",
    "sample_list"
   ]
  },
  {
   "cell_type": "code",
   "execution_count": 4,
   "id": "3f5168d9",
   "metadata": {},
   "outputs": [
    {
     "data": {
      "text/plain": [
       "'item2'"
      ]
     },
     "execution_count": 4,
     "metadata": {},
     "output_type": "execute_result"
    }
   ],
   "source": [
    "# 2 Removing item from a list\n",
    "\n",
    "sample_list.pop() \n",
    "\n",
    "# NB: We can specify which item to remove using indexing inside the ()"
   ]
  },
  {
   "cell_type": "markdown",
   "id": "ec6d9b95",
   "metadata": {},
   "source": [
    "### Terminologies to understand\n",
    " \n",
    "***In-place operation*** is an operation that changes directly the content of a container without making a copy\n",
    "\n",
    "***in-place methods:*** the methods that can alter the contents of the list without making a copy ,</br>\n",
    "***The original content gets modified rather than the method returning a new content***\n",
    "\n",
    "Examples of in-place methods `.sort( )`, `.append( )`, `.reverse( )` \n",
    "\n",
    "NB:\n",
    "1. Some methods in Python create a new copy of the data, while others modify the original data in place without creating a new copy.\n",
    "2. In Python, ***in-place*** refers to a type of operation that modifies an object directly, without creating a new object.\n",
    "\n"
   ]
  },
  {
   "cell_type": "code",
   "execution_count": 2,
   "id": "b650b250",
   "metadata": {
    "scrolled": false
   },
   "outputs": [
    {
     "name": "stdout",
     "output_type": "stream",
     "text": [
      "Sort in place\n",
      "ls is now sorted [1, 2, 3]\n"
     ]
    }
   ],
   "source": [
    "# Observe the code below\n",
    "\n",
    "# Sort in place (inside the list itself)\n",
    "print(\"Sort in place\")\n",
    "scattered_lst = [3, 2, 1]\n",
    "scattered_lst.sort()\n",
    "print(f\"ls is now sorted {scattered_lst}\")\n"
   ]
  },
  {
   "cell_type": "markdown",
   "id": "e8fbf811",
   "metadata": {},
   "source": [
    "#### From the above code :\n",
    "\n",
    "Notice how we didn't need to create a new variable for the scattered list that was sorted.\n",
    "\n",
    "This is because the sorting already took place inside the original list itself. \n",
    "\n",
    "#### If a new variable was created to hold the sorted version of the scatttered list, python will see it as `None`. \n",
    "\n",
    "This is because Python is trying to take the orginal list which was scatterd, copy it and sort it but since the `.sort( )` method has already altered the actual scattered list by sorting it, so there's practically no scattered list to copy and sort.\n",
    "\n",
    "So it sees the new variable as a `NoneType` and returns `None` when the variable is called.\n",
    "\n",
    "This where we say the `.sort( )` method occurs ***in-place*** \n",
    "\n",
    "***Check the code below to understand this scenario:***"
   ]
  },
  {
   "cell_type": "code",
   "execution_count": 6,
   "id": "4322cabd",
   "metadata": {},
   "outputs": [
    {
     "name": "stdout",
     "output_type": "stream",
     "text": [
      "[6, 4, 2, 3, 5, 1]\n",
      "None\n",
      "[1, 2, 3, 4, 5, 6]\n",
      "[1, 2, 3, 4, 5, 6]\n"
     ]
    }
   ],
   "source": [
    "scattered_lst = [6,4,2,3,5,1]\n",
    "print(scattered_lst)\n",
    "sorted_lst = scattered_lst.sort() # the sort somehow goes to the orginal scattered_lst above to sort it so it sees the scattered_lst from the sorted_lst variable as already sorted , therefore it returns None.  \n",
    "\n",
    "print(sorted_lst)\n",
    "print(scattered_lst)\n",
    "type(sorted_lst)\n",
    "\n",
    "\n",
    "sorted_lst2 = scattered_lst\n",
    "print(sorted_lst2)\n"
   ]
  },
  {
   "cell_type": "markdown",
   "id": "c4ba6acc",
   "metadata": {},
   "source": [
    "#### Better Explanation of In-Place concept"
   ]
  },
  {
   "cell_type": "code",
   "execution_count": 9,
   "id": "6a72dc2b",
   "metadata": {
    "scrolled": false
   },
   "outputs": [
    {
     "name": "stdout",
     "output_type": "stream",
     "text": [
      "Sort in place\n",
      "ls is now sorted [1, 2, 3]\n",
      "\n",
      "The old list is still in the original order  ls = [3, 2, 1]\n",
      "The new list is a copy of ls sorted new_ls = [1, 2, 3]\n"
     ]
    }
   ],
   "source": [
    "# Sort in-place (sort list inside the original list itself)\n",
    "print(\"Sort in place\")\n",
    "ls = [3, 2, 1]\n",
    "ls.sort()\n",
    "print(f\"ls is now sorted {ls}\")\n",
    "\n",
    "# Sort the list **NOT IN PLACE** (create a new list that\n",
    "# is a copy of the first one but sorted)\n",
    "ls = [3, 2, 1]\n",
    "new_ls = sorted(ls)\n",
    "print()\n",
    "print(f\"The old list is still in the original order  {ls = }\")\n",
    "print(f\"The new list is a copy of ls sorted {new_ls = }\")"
   ]
  },
  {
   "cell_type": "markdown",
   "id": "06b2077b",
   "metadata": {},
   "source": [
    "### Terminologies to understand\n",
    "\n",
    "- The ***None*** keyword is used to define a ***null variable or an object***\n",
    "\n",
    "- Meaning of the keyword `return` in python :  tells python to give a result/end product\n",
    "(It means stop here and give back whatever you have at this point)\n",
    "\n",
    "`return` generally does two things:\n",
    "\n",
    "- ***Stop the statement and execution of the function.***\n",
    "- ***Prepare the result of the function call***\n",
    "\n"
   ]
  },
  {
   "cell_type": "markdown",
   "id": "13297496",
   "metadata": {},
   "source": [
    "### Nesting Lists\n",
    "Python has a featured called Nesting where we can have data structures within data structures.\n",
    "\n",
    "So we can have a list within a list."
   ]
  },
  {
   "cell_type": "code",
   "execution_count": 2,
   "id": "4dcf4769",
   "metadata": {},
   "outputs": [
    {
     "data": {
      "text/plain": [
       "[[2, 5, 3, 4], [4, 7, 1, 5], [3, 0, 5, 8]]"
      ]
     },
     "execution_count": 2,
     "metadata": {},
     "output_type": "execute_result"
    }
   ],
   "source": [
    "# Let's make three lists\n",
    "\n",
    "lst_1=[2,5,3,4]\n",
    "lst_2=[4,7,1,5]\n",
    "lst_3=[3,0,5,8]\n",
    "\n",
    "# Make a list of lists to form a matrix\n",
    "\n",
    "matrix = [lst_1,lst_2,lst_3]\n",
    "\n",
    "matrix"
   ]
  },
  {
   "cell_type": "markdown",
   "id": "1f4921ba",
   "metadata": {},
   "source": [
    "#### The result above looks like this in a diagram \n",
    "<img src = \"../img/matrix.png\"\n",
    "     height= \"400px\"\n",
    "width= \"720px\">\n",
    "\n",
    "> A matrix is a two-dimensional data structure where numbers are arranged into rows and columns."
   ]
  },
  {
   "cell_type": "markdown",
   "id": "1b828650",
   "metadata": {},
   "source": [
    "## 3. Dictionaries\n",
    "\n",
    "A Python dictionary is a collection of ***key:value pairs***. \n",
    "\n",
    "Each key-value pair maps the key to its linked value. \n",
    "\n",
    "You can ***think about them as words and their meaning in an ordinary dictionary.*** \n",
    "\n",
    "So ***a key represents the word*** and ***the value represents the meaning(definition)***.\n",
    "\n",
    "For example, in a physical dictionary, the definition \"science that searches for patterns in complex data using computer methods\" is mapped to the key \"Data Science.\"\n",
    "\n",
    "* Dictionaries are ***mutable.*** \n",
    "* Dictionaries are very flexible. \n",
    "* They can hold strings, integers, list, and even dictionaries.\n",
    "* With strings each object is represented by an index position, but with Dictionaries it uses the concept of mapping where objects are represented by a key."
   ]
  },
  {
   "cell_type": "markdown",
   "id": "237e8abb",
   "metadata": {},
   "source": [
    "### Syntax \n",
    "\n",
    "`sample_dict = {\"key1\" : \"value1\",\"key2\" : \"value2\"}`\n",
    "\n",
    "> Notice that strings are commonly used as keys in dictionaries, but the keys can also be of other immutable types such as numbers, tuples.\n",
    "\n",
    "* Example of a dictionary with a key as a number\n",
    "\n",
    "`student_grades = {90: \"A\", 80: \"B\", 70: \"C\",60: \"D\"}`\n",
    "\n",
    "* Example of a dictionary with a key as a tuple\n",
    "\n",
    "`student_scores = {(\"John\", \"Smith\"): 85, (\"Emily\", \"Jones\"): 92,(\"Michael\", \"Johnson\"): 78}`\n",
    "\n",
    "#### Use cases for real world-scenarios:\n",
    "\n",
    "Using tuples as keys can be useful in various real-world scenarios like:\n",
    "\n",
    "- Student Records\n",
    "\n",
    "`student_scores = {(\"John\", \"Smith\"): 85, (\"Michael\", \"Johnson\"): 78}`\n",
    "\n",
    "- Employee Information: You can use this approach to store information about employees, where the tuple could represent (first name, last name), and the value could be their employee ID\n",
    "\n",
    "`employee_info = {(\"John\", \"Doe\"): 101, (\"Bob\", \"Smith\"): 103}`\n",
    "\n",
    "Using numbers as keys can be useful in various real-world scenarios like:\n",
    "\n",
    "- Student ID to Student Name Mapping\n",
    "\n",
    "`student_info = {101: \"John Smith\", 103: \"Michael Johnson\"}`\n",
    "\n",
    "- Employee Salaries by Employee ID\n"
   ]
  },
  {
   "cell_type": "markdown",
   "id": "f55475bc",
   "metadata": {},
   "source": [
    "### With dictionaries in python we can :\n",
    "\n",
    "1. Get items by calling out it's key\n",
    "> `sample_dict[key_name]` (if the key is a string enclose it with `\"\"`)\n",
    "2. Get specific items with indexing\n",
    "3. Perform arithmetic on integer items and reassign them\n",
    "4. Use methods such `.upper()` on items\n",
    "\n",
    "5. Perform ***Nesting*** with Dictionaries (***It's like a folder within a folder***)\n",
    "\n",
    "Syntax:\n",
    "\n",
    "`d = {'mainkey':{'subkey1':{'subkey2':'value'}}}`\n",
    "\n",
    "6. Create empty dictionaries and later add keys with values through assignment\n",
    "\n",
    "#### Eg of No.6 is below:"
   ]
  },
  {
   "cell_type": "code",
   "execution_count": 8,
   "id": "7fda432b",
   "metadata": {},
   "outputs": [],
   "source": [
    "# Empty Dictionary\n",
    "emp_dict = {}"
   ]
  },
  {
   "cell_type": "code",
   "execution_count": 9,
   "id": "48fb55d3",
   "metadata": {},
   "outputs": [],
   "source": [
    "# With assignment we can create a key[\"key_name\"] and equate its value\n",
    "emp_dict['key_name_1'] = 'Value1'"
   ]
  },
  {
   "cell_type": "code",
   "execution_count": 10,
   "id": "6aeac41a",
   "metadata": {},
   "outputs": [],
   "source": [
    "emp_dict[\"key_name_2\"] = \"Value2\""
   ]
  },
  {
   "cell_type": "code",
   "execution_count": 11,
   "id": "946ef9c9",
   "metadata": {},
   "outputs": [
    {
     "data": {
      "text/plain": [
       "{'key_name_1': 'Value1', 'key_name_2': 'Value2'}"
      ]
     },
     "execution_count": 11,
     "metadata": {},
     "output_type": "execute_result"
    }
   ],
   "source": [
    "emp_dict"
   ]
  },
  {
   "cell_type": "markdown",
   "id": "99f8e744",
   "metadata": {},
   "source": [
    "> With the concept of the ***code above*** we can add extra keys to existing dictionaries or even overwrite values in keys of an already existing Dictionaries"
   ]
  },
  {
   "cell_type": "markdown",
   "id": "e3bdbeae",
   "metadata": {},
   "source": [
    "### Dictionary Methods\n",
    "1. `.keys( )` : returns a list of keys in a dictionary\n",
    "2. `.values()` : returns a list of values of keys in a dictionary\n",
    "3. `.items( )` : returns a list of tuples of all items along with it's key"
   ]
  },
  {
   "cell_type": "code",
   "execution_count": 23,
   "id": "c32ea69d",
   "metadata": {},
   "outputs": [
    {
     "data": {
      "text/plain": [
       "dict_keys(['new_key1', 'new_key2'])"
      ]
     },
     "execution_count": 23,
     "metadata": {},
     "output_type": "execute_result"
    }
   ],
   "source": [
    "emp_dict.keys()"
   ]
  },
  {
   "cell_type": "code",
   "execution_count": 28,
   "id": "1ec09294",
   "metadata": {},
   "outputs": [
    {
     "data": {
      "text/plain": [
       "dict_values(['Value1', 'Value2'])"
      ]
     },
     "execution_count": 28,
     "metadata": {},
     "output_type": "execute_result"
    }
   ],
   "source": [
    "emp_dict.values()"
   ]
  },
  {
   "cell_type": "code",
   "execution_count": 25,
   "id": "5ea4c883",
   "metadata": {},
   "outputs": [
    {
     "data": {
      "text/plain": [
       "dict_items([('new_key1', 'Value1'), ('new_key2', 'Value2')])"
      ]
     },
     "execution_count": 25,
     "metadata": {},
     "output_type": "execute_result"
    }
   ],
   "source": [
    "emp_dict.items()"
   ]
  },
  {
   "cell_type": "markdown",
   "id": "6a020eea",
   "metadata": {},
   "source": [
    "***NB:***\n",
    "\n",
    "1. Python dictionaries are not designed to maintain a specific order of the key-value pairs ***(meaning that any time you loop through a dictionary, you will go through every key, but you are not guaranteed to get them in any particular order)***. \n",
    "\n",
    "> Starting from Python 3.7, the insertion order of elements is guaranteed to be preserved in regular dictionaries. This change was made as part of the language specification, so you can rely on the order of elements in dictionaries in Python 3.7 and later versions.\n",
    "\n",
    "> However, it's important to understand that this behavior is not a general characteristic to dictionaries. In older versions of Python, dictionaries might not preserve the order of elements during iteration.\n",
    "\n",
    "2. Dictionaries cannot have two items with the same key ( a duplicated key will overwrite the previous )"
   ]
  },
  {
   "cell_type": "markdown",
   "id": "67ecfc5e",
   "metadata": {},
   "source": [
    "## 4. Tuples\n",
    "Tuples are basically lists that are immutable.\n",
    "Tuples are constructed using parenthesis `(  )` \n",
    "1. ***They have the same syntax as lists***\n",
    "2. Indexing and slicing can be used\n",
    "3. Can contain different object types\n",
    "4. You can check number of items in a tuple using `len( )`\n",
    "\n",
    "### Methods in Tuples\n",
    "1. `.index( )` : used to check the index value of an object in a tuple\n",
    "2. `.count( )` : used to check No. of times an item appears in a tuple "
   ]
  },
  {
   "cell_type": "code",
   "execution_count": 6,
   "id": "f9d4a6b6",
   "metadata": {},
   "outputs": [
    {
     "data": {
      "text/plain": [
       "1"
      ]
     },
     "execution_count": 6,
     "metadata": {},
     "output_type": "execute_result"
    }
   ],
   "source": [
    "# 1\n",
    "tup = (1,2,3,4)\n",
    "tup.index(2)"
   ]
  },
  {
   "cell_type": "code",
   "execution_count": 7,
   "id": "effd3463",
   "metadata": {},
   "outputs": [
    {
     "data": {
      "text/plain": [
       "4"
      ]
     },
     "execution_count": 7,
     "metadata": {},
     "output_type": "execute_result"
    }
   ],
   "source": [
    "# 2\n",
    "tup = (1,2,2,2,2,4,4,4)\n",
    "tup.count(2)"
   ]
  },
  {
   "cell_type": "markdown",
   "id": "45a0ca25",
   "metadata": {},
   "source": [
    "## 5. Sets and Booleans\n",
    "\n",
    "### Sets: \n",
    "A Set is an ***unordered*** collection of well-defined objects as per mathematical definition. Set is a Build in Data Type in python to store different unique, iterable data types in the unordered form. Set can have elements of many data types such as int, string, tuple, etc.\n",
    "\n",
    "***NB : when we say unique objects it means there can only be one repesentation of the same object.***\n",
    "\n",
    "- In comparison with dictionaries, ***A set is like a dictionay without key:value pairs. ***\n",
    "- Items in Sets cannot be duplicated.\n",
    "(If an item which is already existing in a set is added again to the same set, that item will be overwritten and will appear in the set as a single item)\n",
    "- There is no index attached to the items of the set, (i.e. we cannot directly access any item of the set by the index)\n",
    "\n",
    "#### Creating a set:\n",
    "\n",
    "- A set can be created by enclosing the comma-separated items with the curly braces `{ }`\n",
    "- It can also be created by using the `set()` function\n",
    "\n",
    "Let's look at these examples:"
   ]
  },
  {
   "cell_type": "code",
   "execution_count": 2,
   "id": "37ee5cab",
   "metadata": {},
   "outputs": [
    {
     "data": {
      "text/plain": [
       "set"
      ]
     },
     "execution_count": 2,
     "metadata": {},
     "output_type": "execute_result"
    }
   ],
   "source": [
    "# Example 1: Using curly braces\n",
    "\n",
    "days = {\"Monday\", \"Tuesday\", \"Wednesday\", \"Thursday\", \"Friday\", \"Saturday\", \"Sunday\"} \n",
    "\n",
    "type(days)"
   ]
  },
  {
   "cell_type": "code",
   "execution_count": 3,
   "id": "d138c2d6",
   "metadata": {},
   "outputs": [
    {
     "data": {
      "text/plain": [
       "set"
      ]
     },
     "execution_count": 3,
     "metadata": {},
     "output_type": "execute_result"
    }
   ],
   "source": [
    "# Example 2: Using set() function\n",
    "\n",
    "days_1 = set([\"Monday\", \"Tuesday\", \"Wednesday\", \"Thursday\", \"Friday\", \"Saturday\", \"Sunday\"]) \n",
    "\n",
    "type(days_1)"
   ]
  },
  {
   "cell_type": "code",
   "execution_count": 5,
   "id": "1ed957cb",
   "metadata": {},
   "outputs": [],
   "source": [
    "# Creating an empty set using set() function\n",
    "\n",
    "new_set = set()"
   ]
  },
  {
   "cell_type": "markdown",
   "id": "1ffd2545",
   "metadata": {},
   "source": [
    "### Items are added to a set using the `.add( )` method."
   ]
  },
  {
   "cell_type": "code",
   "execution_count": 6,
   "id": "32258ef3",
   "metadata": {},
   "outputs": [],
   "source": [
    "#2 Adding items to a set\n",
    "new_set.add(\"item1\") # adding a string\n",
    "new_set.add(487) # adding an integer"
   ]
  },
  {
   "cell_type": "code",
   "execution_count": 8,
   "id": "76b3f6bb",
   "metadata": {
    "scrolled": true
   },
   "outputs": [
    {
     "data": {
      "text/plain": [
       "{487, 'item1'}"
      ]
     },
     "execution_count": 8,
     "metadata": {},
     "output_type": "execute_result"
    }
   ],
   "source": [
    "new_set "
   ]
  },
  {
   "cell_type": "code",
   "execution_count": 9,
   "id": "8ae1bffd",
   "metadata": {
    "scrolled": true
   },
   "outputs": [
    {
     "data": {
      "text/plain": [
       "{487, 'item1'}"
      ]
     },
     "execution_count": 9,
     "metadata": {},
     "output_type": "execute_result"
    }
   ],
   "source": [
    "#4 adding an item which already exists in a set will not repeat it\n",
    "\n",
    "new_set.add(487)\n",
    "\n",
    "# notice how there's only one 487 and not two even \n",
    "# after adding a second 487\n",
    "\n",
    "new_set"
   ]
  },
  {
   "cell_type": "markdown",
   "id": "a67beb5e",
   "metadata": {},
   "source": [
    "### Using the `set( )` function on Iterable objects\n",
    "\n",
    "The set function takes an ***iterable object(lists, tuples, sets, dictionaries, strings, etc)*** as its argument, and adds each unique element of that iterable object to the set.\n",
    "\n",
    "Let's look at the code below :"
   ]
  },
  {
   "cell_type": "code",
   "execution_count": 9,
   "id": "7c573569",
   "metadata": {},
   "outputs": [
    {
     "data": {
      "text/plain": [
       "{'J', 'e', 'm', 'o', 'r'}"
      ]
     },
     "execution_count": 9,
     "metadata": {},
     "output_type": "execute_result"
    }
   ],
   "source": [
    "# each character will be separated into a collection of objects in a set\n",
    "set(\"Jerome\")"
   ]
  },
  {
   "cell_type": "markdown",
   "id": "bab81915",
   "metadata": {},
   "source": [
    "#### If you wanted the whole string into the set, then you need to enclose it inside another iterable, like a `list` or `tuple`."
   ]
  },
  {
   "cell_type": "code",
   "execution_count": 10,
   "id": "8b0d0486",
   "metadata": {},
   "outputs": [
    {
     "name": "stdout",
     "output_type": "stream",
     "text": [
      "{'Jerome'}\n",
      "{'Jerome', 'Selorm'}\n"
     ]
    }
   ],
   "source": [
    "# Example\n",
    "\n",
    "print(set([\"Jerome\"]))\n",
    "\n",
    "# Here the argument is a list so it goes over the \n",
    "# list and makes each item in the into a set collection\n",
    "\n",
    "print(set([\"Jerome\",\"Selorm\"])) "
   ]
  },
  {
   "cell_type": "markdown",
   "id": "f2949f54",
   "metadata": {},
   "source": [
    "## Booleans:\n",
    "\n",
    "***Boolean*** : a result that can only have one of two possible values: `true` or `false`.\n",
    "\n",
    "It's used to represent the truth value of an expression. "
   ]
  },
  {
   "cell_type": "markdown",
   "id": "2a8a6316",
   "metadata": {},
   "source": [
    "### Comaparison Operators\n",
    "\n",
    "<img src = \"../img/comparison.png\"\n",
    "     height= \"400px\"\n",
    "width= \"720px\">"
   ]
  },
  {
   "cell_type": "markdown",
   "id": "14e4329c",
   "metadata": {},
   "source": [
    "### Logical Operators : they carry out logical operations and return Boolean values based on the result. \n",
    "Sometimes, one comparison operation isn’t enough.\n",
    "\n",
    "We use logical operators to obtain results simultaneously in the case of various conditions.\n",
    "These operators are:\n",
    "1. ***and*** : The `and` operator is used to verify whether both conditions associated with it are True Simultaneously.\n",
    "\n",
    "- In simple terms it checks whether whatever conditions on its left and right side are true.\n",
    "\n",
    "- If both conditions are true it returns True, if one is False returns False.\n",
    "Syntax : `condition1 and condition2`\n",
    "\n",
    "2. ***or*** : The `or` operator checks if one or both conditions are True. \n",
    "\n",
    "- It just needs one condition to be true.\n",
    "- If one condition is False ***it will return True as long as the other condition is True***\n",
    "\n",
    "3. ***not*** : It inverts results of booleans(returns the opposite of a Boolean)\n",
    "\n",
    "<img src = \"../img/logicoperators.png\"\n",
    "     height= \"400px\"\n",
    "width= \"720px\">\n"
   ]
  },
  {
   "cell_type": "markdown",
   "id": "98d6fdfa",
   "metadata": {},
   "source": [
    "## Files\n",
    "\n",
    "A ***file object*** allows us to use, access and manipulate all the user accessible files \n",
    "\n",
    "***Python file object*** provides methods to access and manipulate files. Using file objects, we can read or write any files.\n",
    "\n",
    "Whenever we open a file to perform any operations on it, ***Python returns a file object.***"
   ]
  },
  {
   "cell_type": "markdown",
   "id": "d9daa077",
   "metadata": {},
   "source": [
    "### Opening a file in Python\n",
    "\n",
    "Syntax:\n",
    "\n",
    "`f = open(\"location of file\")`\n",
    "NB:\n",
    ">  For Windows you need to use double \\ so python doesn't treat the second \\ as an escape character, a file path is in the form:\n",
    "`myfile = open(\"C:\\\\Users\\\\YourUserName\\\\Home\\\\Folder\\\\myfile.txt\")`\n",
    "\n",
    "> For MacOS and Linux you use slashes in the opposite direction:\n",
    "`myfile = open(\"/Users/YouUserName/Folder/myfile.txt\")`"
   ]
  },
  {
   "cell_type": "code",
   "execution_count": 4,
   "id": "e6187dc1",
   "metadata": {},
   "outputs": [],
   "source": [
    "# After using the open fuction the file opens in python\n",
    "samp_file = open('/Users/adedze/Documents/SE Docs/My Jupyter Notes /Everything I Know About Python/1.Introduction-to-Python-Objects-and-Data-Structure/sampfile.rtf')          "
   ]
  },
  {
   "cell_type": "code",
   "execution_count": 5,
   "id": "f80f8fa5",
   "metadata": {},
   "outputs": [
    {
     "data": {
      "text/plain": [
       "<_io.TextIOWrapper name='/Users/adedze/Documents/SE Docs/My Jupyter Notes /Everything I Know About Python/1.Introduction-to-Python-Objects-and-Data-Structure/sampfile.rtf' mode='r' encoding='UTF-8'>"
      ]
     },
     "execution_count": 5,
     "metadata": {},
     "output_type": "execute_result"
    }
   ],
   "source": [
    "# Calling the file object\n",
    "samp_file"
   ]
  },
  {
   "cell_type": "markdown",
   "id": "a8bf8242",
   "metadata": {},
   "source": [
    "***Nothing appears because we need to used the read method to see its contents***"
   ]
  },
  {
   "cell_type": "code",
   "execution_count": 6,
   "id": "4bf706e4",
   "metadata": {},
   "outputs": [
    {
     "data": {
      "text/plain": [
       "'Hello this is the file you opened\\nThis is a new line\\nThis is another line'"
      ]
     },
     "execution_count": 6,
     "metadata": {},
     "output_type": "execute_result"
    }
   ],
   "source": [
    "# Reading a file using .read() method\n",
    "samp_file.read()"
   ]
  },
  {
   "cell_type": "markdown",
   "id": "d77f017e",
   "metadata": {},
   "source": [
    "#### From the code above...\n",
    "- Notice how python returns a string of the the content in the file \n",
    "\n",
    "- You can also see the `\\n` which represents a new line.\n",
    "\n",
    "> If you want to return a list of each line from the file to distinguish them you can use the `.readlines( )` method\n",
    "\n",
    "Let's read the file using `.readlines( )` method this time:"
   ]
  },
  {
   "cell_type": "code",
   "execution_count": 9,
   "id": "91571da5",
   "metadata": {},
   "outputs": [
    {
     "data": {
      "text/plain": [
       "[]"
      ]
     },
     "execution_count": 9,
     "metadata": {},
     "output_type": "execute_result"
    }
   ],
   "source": [
    "# Using .readlines() method\n",
    "samp_file.readlines()"
   ]
  },
  {
   "cell_type": "markdown",
   "id": "eee5abf3",
   "metadata": {},
   "source": [
    "***Now when we attempted to read again we get `\" \"` / `[ ]` (an empty content)***\n",
    "\n",
    "Python has an imaginary cursor that moves along the content of the file when reading.\n",
    "At the end of the content of the file there's nothing to read so it gives an output of `\" \"`"
   ]
  },
  {
   "cell_type": "code",
   "execution_count": 10,
   "id": "8e686836",
   "metadata": {},
   "outputs": [
    {
     "data": {
      "text/plain": [
       "['Hello this is the file you opened\\n',\n",
       " 'This is a new line\\n',\n",
       " 'This is another line']"
      ]
     },
     "execution_count": 10,
     "metadata": {},
     "output_type": "execute_result"
    }
   ],
   "source": [
    "# Setting imaginary cursor to beginning on content using .seek(0)\n",
    "# Using .readlines() method\n",
    "samp_file.seek(0)\n",
    "samp_file.readlines()"
   ]
  },
  {
   "cell_type": "markdown",
   "id": "3c77c950",
   "metadata": {},
   "source": [
    "#### After you're done with the file, its a good ethic to close it"
   ]
  },
  {
   "cell_type": "code",
   "execution_count": 11,
   "id": "306c1bec",
   "metadata": {},
   "outputs": [],
   "source": [
    "# To close file use the .close( ) method\n",
    "samp_file.close()"
   ]
  },
  {
   "cell_type": "markdown",
   "id": "98076d7a",
   "metadata": {},
   "source": [
    "### Open and Close Files with the \"with\" statement\n",
    "\n",
    "The `with` statement is used in conjunction with the `open()` method to open a file and automatically handles closing the file, relieving you from the responsibility of calling the `.close()` method.\n",
    "\n",
    "When you use the with statement, it calls two built-in methods behind the scenes: __enter__() and __exit__(). The __enter__() method is called at the beginning of the with block, and the __exit__() method is called at the end after you perform your operation\n",
    "\n",
    "Using the `with` statement helps make the code cleaner and much more readable.\n",
    "\n",
    "Synthax:\n",
    "\n",
    ">`with open(\"file location\") as reference_name:`\n",
    "    >>  #Perform some operations on the file\n",
    ">    \n",
    "    >> #The file is automatically closed at the end of the `with` block\n",
    "    "
   ]
  },
  {
   "cell_type": "code",
   "execution_count": 18,
   "id": "52a76543",
   "metadata": {},
   "outputs": [],
   "source": [
    "# Opening a file with the \"with\" statement\n",
    "with open('/Users/adedze/Documents/SE Docs/My Jupyter Notes /Everything I Know About Python/1.Introduction-to-Python-Objects-and-Data-Structure/sampfile.rtf') as f_to_open:\n",
    "    content = f_to_open.read()\n"
   ]
  },
  {
   "cell_type": "code",
   "execution_count": 19,
   "id": "34072e28",
   "metadata": {},
   "outputs": [
    {
     "data": {
      "text/plain": [
       "'Hello this is the file you opened\\nThis is a new line\\nThis is another line'"
      ]
     },
     "execution_count": 19,
     "metadata": {},
     "output_type": "execute_result"
    }
   ],
   "source": [
    "content"
   ]
  },
  {
   "cell_type": "markdown",
   "id": "80e715e1",
   "metadata": {},
   "source": [
    "### Writing to a File\n",
    "\n",
    "To write to a file you need to add `w\"/\"w+` after the file location in the `open( )` function. The `w\"/\"w+` is separated from the file location by a comma. \n",
    "\n",
    "NB: \n",
    "1. Using `w\"/\"w+`\" deletes the original content of the file\n",
    "2. Using `w+` allows you to write to the file and read it whiles `w` just allows you to write to it.\n",
    "3. If you attempt to read a file using `w` python will return an error. \n",
    "4. Using `w,w+` will create a new file if the file doesn't exist \n",
    "\n",
    "\n",
    "Syntax:\n",
    "\n",
    "1. open the file\n",
    "*  `samp_file = open( \"file location here\", \"w+\" )`\n",
    "\n",
    "2. write content to the file \n",
    "* `samp_file.write(\"I am changing the orginal content\")` \n",
    "\n",
    "3. read content \n",
    "* `samp_file.seek(0)` \n",
    "* `samp_file.read( )`\n",
    "\n",
    "The seek(0) function is called to set the file position indicator to the beginning of the file.\n",
    "\n",
    "By using seek(0), you ensure that the subsequent read() operation starts reading from the beginning of the file.\n",
    "\n",
    "4. close the file\n",
    "* `samp_file.close()`\n",
    "\n",
    "\n",
    "### Using the \"with\" statement \n",
    "\n",
    "> `with open(\"file location\",\"w+\") as ref_name:`\n",
    "    >> `ref_name.write(\"I am changing the orginal content\")`\n",
    "    \n",
    "Notice how the `with` statement make the code short and clean"
   ]
  },
  {
   "cell_type": "markdown",
   "id": "27bcb9fb",
   "metadata": {},
   "source": [
    "### Adding content to a file (Appending to a file)\n",
    "\n",
    "To add content to a file we add `a/a+` next to the file location separated by a comma. \n",
    "\n",
    "`a+` lets us append and read the file.\n",
    "\n",
    "***If the file doesn't exist a new one will be created***\n",
    "\n",
    "Syntax:\n",
    "\n",
    "1. open the file\n",
    "* `samp_file = open( \"file location here\", \"a+\" )`\n",
    "\n",
    "2. write content to the file \n",
    "* `samp_file.write(\"I am adding extra to the orginal content\")` \n",
    "\n",
    "3. read content \n",
    "* `samp_file.seek(0)` \n",
    "\n",
    "* `samp_file.read( `) \n",
    "\n",
    "4. close the file\n",
    "* `samp_file.close()`\n",
    "\n",
    "### Using the \"with\" statement \n",
    "\n",
    "> `with open(\"file location\",\"w+\") as ref_name:`\n",
    "    >> `ref_name.write(\"I am adding extra to the orginal content\")`"
   ]
  },
  {
   "cell_type": "code",
   "execution_count": 35,
   "id": "e2a2da6f",
   "metadata": {},
   "outputs": [
    {
     "name": "stdout",
     "output_type": "stream",
     "text": [
      "This is a created file\n"
     ]
    }
   ],
   "source": [
    "# Example with statement\n",
    "with open(\"/Users/adedze/Documents/SE Docs/My Jupyter Notes /Everything I Know About Python/1.Introduction-to-Python-Objects-and-Data-Structure/created_file.txt\",\"w+\") as f:\n",
    "    f.write(\"This is a created file\")\n",
    "    f.seek(0)\n",
    "    print(f.read())   "
   ]
  },
  {
   "cell_type": "markdown",
   "id": "185bbbd1",
   "metadata": {},
   "source": [
    "## Links\n",
    "### Dictionaries are unordered\n",
    "https://www.codecademy.com/forum_questions/515ece44808b2eb201003071\n",
    "\n",
    "### Sets\n",
    "\n",
    "https://realpython.com/python-sets/"
   ]
  },
  {
   "cell_type": "markdown",
   "id": "97519f0b",
   "metadata": {},
   "source": [
    "## Misc:\n",
    "\n",
    "### Glossary \n",
    "\n",
    "An ***item*** is an element or value that is inside of a data structure( such as list, set, tuples, and dictionary)\n",
    "\n",
    "### Terminology\n",
    "<s>\n",
    "\n",
    "    1. Iteration: Repetitive execution of the same block of code over and over / general term for taking each item of something, one after another.\n",
    "\n",
    "    \n",
    "2. ***Iterable*** is an object which can be looped over or iterated over with the help of a for loop. \n",
    "\n",
    "In short and simpler terms, iterable is anything that you can loop over / repeat again and again.\n",
    "\n",
    "</s>\n",
    "\n",
    "1. ***Iterable*** : An iterable is any Python object capable of returning its members one at a time. </br>\n",
    "A group of things that python can go over one at a time.\n",
    "***Means you can go go over its sub-items.***\n",
    "\n",
    "***For example*** a list of numbers is iterable because you can go over the items in the list, which are numbers.\n",
    "\n",
    "Also a string is iterable, you can go over the letters in the string.\n",
    "\n",
    "A single number is not iterable, there's no sub-items that it contains to go over.\n",
    "\n",
    "Objects like lists, tuples, sets, dictionaries, strings, etc. are called iterables.\n",
    "\n",
    "### Clarify A Term\n",
    "1.  A ***Placeholder*** is simply a variable that we will assign data to at a later date. ( kinda like placing reservstions for a spot ) </br>\n",
    "***few eg. are { } and %s in string formatting, and None.*** </br>\n",
    "2. ***None*** is used to define a null value, or no value at all.\n",
    "We can use ***None*** on an object we don't want to assign yet, so that Python does not return an error  </br>\n",
    "\n",
    "None is the keyword that Python uses to indicate when a variable has no value.\n",
    "\n",
    "Observe the two lines of code below:\n",
    "\n",
    "---\n",
    "\n",
    "- ***Function*** : A function is a block of code which only runs when it is called.\n",
    "(block of code that can be repeated/used again when called) </b>\n",
    "\n",
    "It's like buying an accessory for a machine, you do not need to buy the same accessory again when you need it. </b>\n",
    "You just pick it up from your tool box\n",
    "\n",
    "Element: This term is commonly used when discussing the individual items within a tuple, list, or any other sequence. So, you would say you're looking for the \"index of an element in a tuple.\"\n",
    "\n",
    "Item: \"Item\" is also used interchangeably with \"element\" to refer to the individual pieces of data within a sequence like a tuple. Saying \"index of an item in a tuple\" is also correct.\n",
    "\n",
    "Object: While \"object\" can be used in a broader sense to refer to any data entity, it's less commonly used when specifically discussing elements within a tuple or list. However, it's still acceptable to say \"index of an object in a tuple.\"\n",
    "\n",
    "So, you can use \"element\" or \"item\" to describe what you're searching for in a tuple when using .index(), and both are widely understood. "
   ]
  },
  {
   "cell_type": "code",
   "execution_count": 35,
   "id": "65ba86f1",
   "metadata": {},
   "outputs": [
    {
     "ename": "NameError",
     "evalue": "name 'b' is not defined",
     "output_type": "error",
     "traceback": [
      "\u001b[0;31m---------------------------------------------------------------------------\u001b[0m",
      "\u001b[0;31mNameError\u001b[0m                                 Traceback (most recent call last)",
      "\u001b[0;32m/var/folders/vj/vn07m31j1n7fs08rkytvgvj80000gn/T/ipykernel_29853/1685013873.py\u001b[0m in \u001b[0;36m<module>\u001b[0;34m\u001b[0m\n\u001b[0;32m----> 1\u001b[0;31m \u001b[0mb\u001b[0m\u001b[0;34m\u001b[0m\u001b[0;34m\u001b[0m\u001b[0m\n\u001b[0m",
      "\u001b[0;31mNameError\u001b[0m: name 'b' is not defined"
     ]
    }
   ],
   "source": [
    "b"
   ]
  },
  {
   "cell_type": "code",
   "execution_count": 36,
   "id": "816ecc8e",
   "metadata": {},
   "outputs": [],
   "source": [
    "b = None"
   ]
  },
  {
   "cell_type": "code",
   "execution_count": null,
   "id": "cb72817c",
   "metadata": {},
   "outputs": [],
   "source": []
  }
 ],
 "metadata": {
  "kernelspec": {
   "display_name": "Python 3 (ipykernel)",
   "language": "python",
   "name": "python3"
  },
  "language_info": {
   "codemirror_mode": {
    "name": "ipython",
    "version": 3
   },
   "file_extension": ".py",
   "mimetype": "text/x-python",
   "name": "python",
   "nbconvert_exporter": "python",
   "pygments_lexer": "ipython3",
   "version": "3.9.13"
  }
 },
 "nbformat": 4,
 "nbformat_minor": 5
}
