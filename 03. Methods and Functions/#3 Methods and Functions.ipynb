{
 "cells": [
  {
   "cell_type": "markdown",
   "id": "d3bfe4cf",
   "metadata": {},
   "source": [
    "# Methods and Functions\n",
    "\n",
    "## Methods\n",
    "A method is a function that ***belongs to*** an object.\n",
    "\n",
    "They are unique functions that are associated(***dependent on***) with specific objects.\n",
    "\n",
    "- Methods are simply actions that an object can perform.\n",
    "- All methods are typically defined within a class.Its definition always includes `self` as its first parameter.(you will understand this we learn Object Oriented Programming)\n",
    "\n",
    "- Methods in python are very similar to functions except for two major differences.\n",
    "    - methods are called on an object, and the syntax typically involves specifying the object first, followed by the dot operator `.`, and then the method name.\n",
    "    - The methods have access to data that is contained within the class object (meaning the method has access to the attributes and variables defined within the class) You will understand this more when you learn OOP.\n",
    "\n",
    "\n",
    "If a ***real-world window*** was an object in python, its methods might be `.open()` and `.close()`.\n",
    "\n",
    "Examples of methods in Python:\n",
    "- Methods of strings : `.upper`,`.lower`\n",
    "- Methods of dictionaries: `.keys()`, `.value()` \n",
    "\n",
    "Notice how the above examples the data structures(strings and dictionaries) do not share the same method. Every object in python is unique with its methods.\n",
    "\n",
    "\n",
    "## Functions\n",
    "\n",
    "A function in Python is a set of instructions that you can define and then reuse multiple times in your program.\n",
    "\n",
    "Functions consists of blocks of code that can be called and executed without having to rewrite the same block of code over and over again.\n",
    "\n",
    "Think of it like a recipe for a cake - the recipe contains a set of steps that tell you how to make the cake. \n",
    "\n",
    "Similarly, a function in Python contains a set of instructions that perform a specific task.\n",
    "\n",
    "In simple terms, you should use functions when you plan on using a block of code multiple times. The function will allow you to call the same block of code without having to write it multiple times.\n",
    "\n",
    "### Creating functions:\n",
    "\n",
    "Syntax:\n",
    "1. begins with a `def` keyword followed by \n",
    "2. `name_of_function` (tells python that whatever comes next to `def` is the name of the function)  then followed by\n",
    "3. `(  )` parenthesis where parameters separated by comma can be added and ends with a\n",
    "4. a colon `:` then on the next line\n",
    "5. there's `an indentation followed with a block of code` that basically instructs the function on what to perform.\n",
    "\n",
    "`def name_of_function(some_parameters):`\n",
    " \n",
    " \"\"\"some_description(function does this)..\"\"\"\n",
    "> `block of code`\n",
    "\n",
    "\n",
    "A good convention of good programming is to add a description of what the fuction does is added using `\"\"\" \"\"\"`(docstring) before writing a block of code for the function. \n",
    "\n",
    "<img src = \"../img/Screenshot7.png\"\n",
    "     height= \"400px\"\n",
    "width= \"720px\">\n",
    "\n",
    "- Parameters act as ***placeholder*** values for the arguments we are expecting from the function call.\n",
    "- Arguments are the information passed when calling a function\n",
    "\n",
    "The example below creates a function:"
   ]
  },
  {
   "cell_type": "code",
   "execution_count": 1,
   "id": "47474e62",
   "metadata": {},
   "outputs": [
    {
     "data": {
      "text/plain": [
       "100"
      ]
     },
     "execution_count": 1,
     "metadata": {},
     "output_type": "execute_result"
    }
   ],
   "source": [
    "# Creating a function that SUMS TWO NUMBERS\n",
    "# notice num1 and num2? \n",
    "# these are like containers that represents\n",
    "# whatever will be passed into the parenthesis of \n",
    "# the function when using it.\n",
    "\n",
    "def sum(num1,num2):\n",
    "    return num1 + num2\n",
    "\n",
    "# Calling the function sum()\n",
    "\n",
    "# now the 10 substitutes(replaces) the num1 parameter \n",
    "# 90 substitutes(replaces) the num2 parameter\n",
    "\n",
    "sum(10,90)\n",
    "\n"
   ]
  },
  {
   "cell_type": "markdown",
   "id": "0b26e059",
   "metadata": {},
   "source": [
    "### print and return\n",
    "\n",
    "NB: ***Very Common Question: What is the difference between print and return ?***\n",
    "\n",
    "- `print()` outputs a value to the console/terminal\n",
    "(meaning it displays the output to you, but doesn't save it for future use.)\n",
    "\n",
    "The console is a visual tool for the programmer to see what is going on while the program is running. \n",
    "The console doesn’t store or modify the values printed to it. The value is just pasted to the screen and that’s it.\n",
    "\n",
    "- `return` outputs a value to a caller function.\n",
    "(meaning the value produced after the return keyword in a function is sent back to the part of the code that called or invoked that function.)\n",
    "\n",
    "In simply terms, the return keyword allows you to actually save the result of the output of a function as a variable. \n",
    "\n",
    "***Also `return` can only be used inside of a function***\n",
    "\n",
    "Observe the code below:"
   ]
  },
  {
   "cell_type": "code",
   "execution_count": 2,
   "id": "6a1d0d5d",
   "metadata": {},
   "outputs": [
    {
     "name": "stdout",
     "output_type": "stream",
     "text": [
      "100\n",
      "5\n",
      "None\n"
     ]
    }
   ],
   "source": [
    "def sum1(num1,num2):\n",
    "    return num1 + num2\n",
    "\n",
    "def sum2(num1,num2):\n",
    "     print(num1 + num2)\n",
    "        \n",
    "# Calling the function sum1 and sum 2\n",
    "\n",
    "a = sum1(10,90)\n",
    "print(a)\n",
    "\n",
    "\n",
    "b = sum2(2,3)\n",
    "print(b)"
   ]
  },
  {
   "cell_type": "markdown",
   "id": "311ddf8c",
   "metadata": {},
   "source": [
    "We were able to save the result of the `sum1()` function into a vairiable\n",
    "\n",
    "But with `sum2()`, after assigning it a variable, it just goes ahead and prints output result to the user."
   ]
  },
  {
   "cell_type": "markdown",
   "id": "47f9c288",
   "metadata": {},
   "source": [
    "### Adding Logic to Functions\n",
    "\n",
    "We can add Logic to Functions such as \n",
    "- Checking if a number is even,  \n",
    "- Returning even numbers from a list,\n",
    "- Returning tuples for unpacking."
   ]
  },
  {
   "cell_type": "code",
   "execution_count": 3,
   "id": "f434e638",
   "metadata": {},
   "outputs": [],
   "source": [
    "# Checks if a number is even\n",
    "\n",
    "def even_checker(num):\n",
    "    if num % 2 == 0:\n",
    "        print(f\"The number {num} is even\")\n",
    "    else:\n",
    "        print(f\"The number {num} is not even\")"
   ]
  },
  {
   "cell_type": "code",
   "execution_count": 4,
   "id": "e7210aa9",
   "metadata": {},
   "outputs": [
    {
     "name": "stdout",
     "output_type": "stream",
     "text": [
      "The number 4 is even\n",
      "The number 3 is not even\n"
     ]
    }
   ],
   "source": [
    "even_checker(4)\n",
    "even_checker(3)"
   ]
  },
  {
   "cell_type": "code",
   "execution_count": 15,
   "id": "79df10d3",
   "metadata": {},
   "outputs": [],
   "source": [
    "# Checks for even numbers in a list\n",
    "\n",
    "def even_list_checker(list):\n",
    "    even_list = []\n",
    "    odd_list = []\n",
    "    for num in list:\n",
    "        if num % 2 == 0:\n",
    "            even_list.append(num)\n",
    "        else:\n",
    "            odd_list.append(num)\n",
    "    \n",
    "    print(f\"The list of even numbers from {list} are {even_list}\")      \n",
    "              "
   ]
  },
  {
   "cell_type": "code",
   "execution_count": 16,
   "id": "1adc31de",
   "metadata": {},
   "outputs": [
    {
     "name": "stdout",
     "output_type": "stream",
     "text": [
      "The list of even numbers from [1, 2, 3, 4, 5, 6, 7, 8, 9] are [2, 4, 6, 8]\n"
     ]
    }
   ],
   "source": [
    "num= [1,2,3,4,5,6,7,8,9]\n",
    "even_list_checker(num)"
   ]
  },
  {
   "cell_type": "code",
   "execution_count": 19,
   "id": "8158461a",
   "metadata": {},
   "outputs": [],
   "source": [
    "# What if the list is only odd nums \n",
    "# I added some more logic analyse the code below\n",
    "def even_list_checker(list):\n",
    "    even_list = []\n",
    "    odd_list = []\n",
    "    for num in list:\n",
    "        if num % 2 == 0:\n",
    "            even_list.append(num)\n",
    "        else:\n",
    "            odd_list.append(num)\n",
    "    if even_list == []:\n",
    "        print(f\"The list of odd numbers from {list} are {odd_list}\")\n",
    "    else:\n",
    "         print(f\"The list of even numbers from {list} are {even_list}\")      \n",
    "            "
   ]
  },
  {
   "cell_type": "code",
   "execution_count": 20,
   "id": "1e1c6e8c",
   "metadata": {},
   "outputs": [
    {
     "name": "stdout",
     "output_type": "stream",
     "text": [
      "The list of even numbers from [1, 2, 5, 7, 9] are [2]\n"
     ]
    }
   ],
   "source": [
    "nums = [1,3,5,7,9]\n",
    "even_list_checker(nums)"
   ]
  },
  {
   "cell_type": "markdown",
   "id": "cae54e5c",
   "metadata": {},
   "source": [
    "## **args and ****kwargs ( argument and keyword arguments)\n",
    "\n",
    "Sometimes it is possible that you can't predict the number of arguments that we will be provided to the function. This can cause the problem, and if you don’t know how to handle it, then you will end up getting stuck writing the same code for variable number of arguments.\n",
    "\n",
    "*args are **kwargs are the solution of this problem.\n",
    "\n",
    "`*args` and `**kwargs` allow you to pass multiple arguments or keyword arguments to a function.\n",
    "\n",
    "We use `*args` and `**kwargs` as parameters when we are unsure about the number of arguments to pass in the functions.\n",
    "\n",
    "The ***args*** represents ***non keyword arguments*** that are passed to the function whereas ***kwargs*** stands for ***keyword arguments*** which are passed along with the values into the function.\n",
    "\n",
    "<h3>*args</h3>\n",
    "\n",
    "* The args keyword is useful if you are performing mathematical operations, such as if you want to add up a variable amount of numbers.\n",
    "    \n",
    "* ***args*** is just a general convention among coders, we can use any name after `*` but i would not advise that.\n",
    "    \n",
    "* When `*args` is used as a parameter in a fuction definition it tells python to treat multiple arguments that may be passed into the function as tuples.\n",
    "\n",
    "***So when any number of arguments are passed in the fuction, they will be placed in a tuple.***\n",
    "\n",
    "For example:"
   ]
  },
  {
   "cell_type": "code",
   "execution_count": 125,
   "id": "4a926325",
   "metadata": {},
   "outputs": [],
   "source": [
    "def myfunc(*args):\n",
    "    print(args)"
   ]
  },
  {
   "cell_type": "code",
   "execution_count": 126,
   "id": "78678842",
   "metadata": {},
   "outputs": [
    {
     "name": "stdout",
     "output_type": "stream",
     "text": [
      "(2, 4, 5, 6, 7, 89, 5, 32, 34)\n"
     ]
    }
   ],
   "source": [
    "# 1\n",
    "# Notice it returns a tuple of the \n",
    "# arguments passed in the function\n",
    "\n",
    "myfunc(2,4,5,6,7,89,5,32,34)\n"
   ]
  },
  {
   "cell_type": "markdown",
   "id": "dbac1617",
   "metadata": {},
   "source": [
    "### How *args can be used?\n",
    "\n",
    "A use case example is, when we want to make a multiply function that takes any number of arguments and is able to multiply them all together. It can be done using `*args.`"
   ]
  },
  {
   "cell_type": "code",
   "execution_count": 23,
   "id": "5b7cc807",
   "metadata": {},
   "outputs": [],
   "source": [
    "def product(*args):\n",
    "    product = 1\n",
    "    for num in args:\n",
    "        product *= num\n",
    "    return product\n",
    "        "
   ]
  },
  {
   "cell_type": "markdown",
   "id": "c8f20402",
   "metadata": {},
   "source": [
    "NB :You don't need to add an asterisk (*) when iterating over the args tuple in the for loop."
   ]
  },
  {
   "cell_type": "code",
   "execution_count": 24,
   "id": "1870d5d3",
   "metadata": {},
   "outputs": [
    {
     "data": {
      "text/plain": [
       "705600"
      ]
     },
     "execution_count": 24,
     "metadata": {},
     "output_type": "execute_result"
    }
   ],
   "source": [
    "# Using the product function\n",
    "# We can enter any number of argument\n",
    "product(4,5,3,5,7,3,2,8,7)"
   ]
  },
  {
   "cell_type": "markdown",
   "id": "ee09df30",
   "metadata": {},
   "source": [
    "### **kwargs:\n",
    "\n",
    "\n",
    "`**kwargs` works just like `*args`, but instead of accepting multiple arguments it accepts multiple ***keyword (or named) arguments.*** \n",
    "\n",
    "A ***keyword*** argument is where you provide a name to the variable as you pass it into the function.\n",
    "\n",
    "One can think of the `**kwargs` as being a dictionary that maps each keyword to the value that we pass alongside it. \n",
    "\n",
    "That is why when we iterate over the kwargs there doesn’t seem to be any order in which they were printed out.\n",
    "\n",
    "- When `**kwargs` is used as a parameter in a function definition, it allows the function to accept any number of keyword arguments (`name=value`) and gathers them into a dictionary.\n",
    "\n",
    "- `**kwargs` allows only Keyword Arguments. (meaning arguments are passed to a function using the format `name=value`.)\n",
    "\n",
    "- Just like ***args***, ***kwargs*** is just a convention name.\n",
    "\n",
    "Let's look at this example:"
   ]
  },
  {
   "cell_type": "code",
   "execution_count": 28,
   "id": "e9fc87d8",
   "metadata": {},
   "outputs": [
    {
     "name": "stdout",
     "output_type": "stream",
     "text": [
      "{'Name': 'Jerome', 'Sex': 'Male', 'Age': 19}\n"
     ]
    }
   ],
   "source": [
    "# Using **kwargs as a parameter\n",
    "\n",
    "def personal_info(**kwargs):\n",
    "    # It will print a dictionary with key-value pairs\n",
    "    print(kwargs)\n",
    "    \n",
    "# Since **kwargs is used, it only accepts the format \n",
    "# \"name=value\" as arguments\n",
    "personal_info(Name = \"Jerome\",Sex = \"Male\", Age = 19)\n"
   ]
  },
  {
   "cell_type": "code",
   "execution_count": 6,
   "id": "a018418e",
   "metadata": {},
   "outputs": [
    {
     "name": "stdout",
     "output_type": "stream",
     "text": [
      "{'Name': 'Jerome', 'Sex': 'Male', 'Age': 19}\n",
      "Name -> Jerome\n",
      "Sex -> Male\n",
      "Age -> 19\n"
     ]
    }
   ],
   "source": [
    "# We can perform TUPLE UNPACKING\n",
    "\n",
    "# Using **kwargs as a parameter\n",
    "def personal_info(**kwargs):\n",
    "    print(kwargs)\n",
    "    \n",
    "# Remember .items() returns a the list of key-value pairs\n",
    "    for key, value in kwargs.items():\n",
    "        print(f\"{key} -> {value}\")\n",
    "\n",
    "# calling function        \n",
    "personal_info(Name = \"Jerome\",Sex = \"Male\", Age = 19 )"
   ]
  },
  {
   "cell_type": "markdown",
   "id": "875c5d8a",
   "metadata": {},
   "source": [
    "### Practical Use of **kwargs"
   ]
  },
  {
   "cell_type": "code",
   "execution_count": 30,
   "id": "931df97e",
   "metadata": {},
   "outputs": [
    {
     "name": "stdout",
     "output_type": "stream",
     "text": [
      "20\n",
      "30\n",
      "12\n"
     ]
    }
   ],
   "source": [
    "# Example 1\n",
    "def total_fruits(**fruits):\n",
    "    total = 0\n",
    "\n",
    "    # .value() returns list of the values in the dictionary    \n",
    "    for amount in fruits.values():\n",
    "        total += amount\n",
    "    return total\n",
    "\n",
    "\n",
    "print(total_fruits(banana=5, mango=7, apple=8))\n",
    "print(total_fruits(banana=5, mango=7, apple=8, oranges=10))\n",
    "print(total_fruits(banana=5, mango=7))"
   ]
  },
  {
   "cell_type": "code",
   "execution_count": 32,
   "id": "2710e1ed",
   "metadata": {},
   "outputs": [],
   "source": [
    "\n",
    "def personal_info1(**kwargs):\n",
    "    \n",
    "# prints key:value pairs that was passed in the function.\n",
    "    print(kwargs) \n",
    "\n",
    "# NB: The keyword Name has to be defined with \"\" \n",
    "# because the key:value pairs are returned in \" \"    \n",
    "    if \"Name\" in kwargs: \n",
    "        print(f\"Your name is { kwargs['Name'] }\")\n",
    "    else: \n",
    "        print(\"What's your name?\")\n",
    "        \n",
    "        "
   ]
  },
  {
   "cell_type": "code",
   "execution_count": 33,
   "id": "9e597d11",
   "metadata": {},
   "outputs": [
    {
     "name": "stdout",
     "output_type": "stream",
     "text": [
      "{'Name': 'Jerome', 'Age': 19}\n",
      "Your name is Jerome\n"
     ]
    }
   ],
   "source": [
    "personal_info1(Name =\"Jerome\",Age =19)"
   ]
  },
  {
   "cell_type": "markdown",
   "id": "03ca3b0d",
   "metadata": {},
   "source": [
    "The if statement checks if the key `\"Name\"` exists in the kwargs dictionary. If it does, it retrieves the corresponding value using kwargs `['Name']` and prints a personalized message. Otherwise, it prints a generic message asking for your name."
   ]
  },
  {
   "cell_type": "markdown",
   "id": "dee3d5f5",
   "metadata": {},
   "source": [
    "### Combination of *args and **kwargs\n",
    "\n",
    "You can pass `*args` and `**kwargs` into the same function, but `*args` has to appear before `**kwargs`\n",
    "\n",
    "Lets look at this example:"
   ]
  },
  {
   "cell_type": "code",
   "execution_count": 34,
   "id": "d59aff84",
   "metadata": {
    "scrolled": true
   },
   "outputs": [
    {
     "name": "stdout",
     "output_type": "stream",
     "text": [
      "(10, 20, 30)\n",
      "{'fruits': 'orange', 'food': 'eggs', 'animal': 'dog'}\n",
      "I would like 10 eggs\n"
     ]
    }
   ],
   "source": [
    "def myfunc(*args, **kwargs):\n",
    "        \n",
    "        # prints tuple of arguments\n",
    "        print(args)\n",
    "        \n",
    "        # prints a dictionaty of key-value pairs\n",
    "        print(kwargs) \n",
    "        \n",
    "        print(f\"I would like {args[0]} {kwargs['food']}\")\n",
    "        \n",
    "myfunc(10,20,30,fruits=\"orange\",food=\"eggs\",animal=\"dog\")"
   ]
  },
  {
   "cell_type": "markdown",
   "id": "79434379",
   "metadata": {},
   "source": [
    "## Lambda Expressions, Map, and Filter\n",
    "\n",
    "### map( ) function\n",
    "\n",
    "-  The `map()` function (which is a built-in function in Python) is used to ***apply a function to each item in an iterable*** (like a Python list or dictionary). \n",
    "- It returns a new iterable (a map object) that you can use in other parts of your code. \n",
    "\n",
    "- The `map()` function is commonly used when you want to apply a specific operation or transformation to every value in an iterable, such as a list, tuple, or other sequence.\n",
    "\n",
    "- The arguments of a `map()` function are a function, and a sequence (any iterable object)\n",
    "\n",
    "\n",
    "NB:  Applying a `map()` on a sequence(or any iterable object) will return a ***Generator*** object(we will discuss Generators later). It basically means it will generate a sequence(result) that is lazily evaluated,\n",
    "The generator object can be iterated on(can use a loop on it) and can be cast into a list using `list()` function.  \n",
    "\n",
    "\n",
    "Syntax:\n",
    "- `map ( some_function, iterable  )`\n",
    "- `map ( lambda, iterable  )`\n",
    "\n",
    "\n",
    "\n",
    "We will see how `map()` is used with `lambda` soon\n",
    "\n",
    "Let's look the the following examples:"
   ]
  },
  {
   "cell_type": "code",
   "execution_count": 210,
   "id": "6265c51c",
   "metadata": {},
   "outputs": [
    {
     "name": "stdout",
     "output_type": "stream",
     "text": [
      "[1, 8, 27, 64, 125]\n"
     ]
    }
   ],
   "source": [
    "# Calculating the cube of each number in a list\n",
    "\n",
    "org_list = [1, 2, 3, 4, 5]\n",
    "\n",
    "fin_list = []\n",
    "\n",
    "for num in org_list:\n",
    "    fin_list.append(num**3)\n",
    "\n",
    "print(fin_list)"
   ]
  },
  {
   "cell_type": "code",
   "execution_count": 36,
   "id": "7ae08c96",
   "metadata": {},
   "outputs": [
    {
     "name": "stdout",
     "output_type": "stream",
     "text": [
      "[1, 8, 27, 64, 125]\n"
     ]
    }
   ],
   "source": [
    "# using map( ) to create the shorter version of the code above\n",
    "\n",
    "org_list = [1, 2, 3, 4, 5]\n",
    "\n",
    "\n",
    "# define a function that returns the cube of `num`\n",
    "\n",
    "def cube(num):\n",
    "    return num**3\n",
    "   \n",
    "\n",
    "fin_list = list(map(cube, org_list)) \n",
    "\n",
    "print(fin_list)"
   ]
  },
  {
   "cell_type": "markdown",
   "id": "67ebe116",
   "metadata": {},
   "source": [
    "### Understanding `list(map(cube, org_list))`\n",
    "1. `map(cube, org_list)`\n",
    "2. `list(map(cube, org_list))`\n",
    "\n",
    "The `map()` function applies the cube function to each element of org_list and returns a ***map object*** that gives its memory location. The object contains a sequence of values that will be generated on-the-fly as they are needed.\n",
    "\n",
    "We use the `list()` function to convert the map object to a list in order to print the values."
   ]
  },
  {
   "cell_type": "markdown",
   "id": "226048d6",
   "metadata": {},
   "source": [
    "### filter( ) function\n",
    "***Python’s `filter()`*** is a built-in function that allows you to ***process an iterable and extract those items that satisfy a given condition.*** This process is commonly known as a filtering operation. With `filter()`, you can apply a filtering function to an iterable and produce a new iterable with the items that satisfy the condition at hand.\n",
    "\n",
    "Syntax:\n",
    "`filter ( function, iterable  )`"
   ]
  },
  {
   "cell_type": "code",
   "execution_count": 38,
   "id": "3eefca2f",
   "metadata": {},
   "outputs": [
    {
     "data": {
      "text/plain": [
       "[0, 2, 4, 6, 8, 10]"
      ]
     },
     "execution_count": 38,
     "metadata": {},
     "output_type": "execute_result"
    }
   ],
   "source": [
    "# Using the filter() function\n",
    "\n",
    "def check_even(num):\n",
    "    return num % 2 == 0 \n",
    "\n",
    "nums = [0,1,2,3,4,5,6,7,8,9,10]\n",
    "\n",
    "list(filter( check_even , nums))"
   ]
  },
  {
   "cell_type": "markdown",
   "id": "293e6b5c",
   "metadata": {},
   "source": [
    "### lambda expression\n",
    "\n",
    "In Python, the functions like` map(`) and `filter()` require you to pass in a function as an argument. \n",
    "In some cases, you may only need to ***use the function once*** so defining the fuction isn't neccessay. In such situations, you ***can use a lambda expression*** as a concise way to define an anonymous function(function with no name) on the spot.\n",
    "\n",
    "\n",
    "- You should use the lambda function to create simple expressions(should not be used with expressions that do not include complex structures such as if-else and for-loops)\n",
    "\n",
    "Syntax: \n",
    "\n",
    "`lambda argument1,argument2: expression`\n",
    "\n",
    "<img src = \"../img/fig1_lambda-expression.jpg\"\n",
    "     height= \"400px\"\n",
    "width= \"720px\">\n",
    "\n",
    "NB: The function can have any number of arguments but only one expression, which is evaluated and returned. \n",
    "\n",
    "\n",
    "lambda expression are mostly used:\n",
    "- ***on iterables*** (strings, lists, dictionaries, ranges, tuples) in conjunction with two common functions: ***filter( ) and map( ).***\n",
    "* When you want to focus on specific values in an iterable, you can use ***the filter ( ) function.***\n",
    "* You use the ***map( ) function*** whenever you want to modify every value in an iterable.\n",
    "\n",
    "### Let's look at its use-case:"
   ]
  },
  {
   "cell_type": "code",
   "execution_count": 18,
   "id": "c147c3f4",
   "metadata": {},
   "outputs": [
    {
     "data": {
      "text/plain": [
       "9"
      ]
     },
     "execution_count": 18,
     "metadata": {},
     "output_type": "execute_result"
    }
   ],
   "source": [
    "# Using the lambda function\n",
    "\n",
    "# Normal way of defining a function\n",
    "def square(num):\n",
    "    return num**2\n",
    "    print(num**2)\n",
    "\n",
    "# Using lambda function to define same function\n",
    "(lambda x: x**2)(3)"
   ]
  },
  {
   "cell_type": "code",
   "execution_count": 19,
   "id": "b2d344cc",
   "metadata": {},
   "outputs": [
    {
     "data": {
      "text/plain": [
       "9"
      ]
     },
     "execution_count": 19,
     "metadata": {},
     "output_type": "execute_result"
    }
   ],
   "source": [
    "square(3)"
   ]
  },
  {
   "cell_type": "markdown",
   "id": "ddb37401",
   "metadata": {},
   "source": [
    "### Using lambda on iterables with the map( ) function"
   ]
  },
  {
   "cell_type": "code",
   "execution_count": 35,
   "id": "fd65a06e",
   "metadata": {},
   "outputs": [
    {
     "data": {
      "text/plain": [
       "[4, 9, 16, 25, 36, 49]"
      ]
     },
     "execution_count": 35,
     "metadata": {},
     "output_type": "execute_result"
    }
   ],
   "source": [
    "nums = [2,3,4,5,6,7]\n",
    "\n",
    "map( lambda num: num**2 ,nums ) \n",
    "\n",
    "# using only maps makes python \n",
    "# return only the memory location of the map and not the result\n",
    "# to display the result we use the list function\n",
    "\n",
    "list(map(lambda num: num**2,nums))"
   ]
  },
  {
   "cell_type": "markdown",
   "id": "3f4cabdb",
   "metadata": {},
   "source": [
    "### Using lambda on iterables with  filter( ) function"
   ]
  },
  {
   "cell_type": "code",
   "execution_count": 24,
   "id": "aae627f4",
   "metadata": {},
   "outputs": [
    {
     "data": {
      "text/plain": [
       "[2, 4, 6, 8, 10]"
      ]
     },
     "execution_count": 24,
     "metadata": {},
     "output_type": "execute_result"
    }
   ],
   "source": [
    "# filter( ) function\n",
    "\n",
    "rand_nums = [1,2,3,4,5,6,7,8,9,10]\n",
    "list(filter(lambda num: num % 2 == 0,rand_nums))"
   ]
  },
  {
   "cell_type": "markdown",
   "id": "c98260b5",
   "metadata": {},
   "source": [
    "***Since the lambda function does not have a name you can invoke (it's anonymous-function without a name), you need to enclose the entire statement when you want to call it.***"
   ]
  },
  {
   "cell_type": "code",
   "execution_count": 9,
   "id": "52b05397",
   "metadata": {},
   "outputs": [
    {
     "name": "stdout",
     "output_type": "stream",
     "text": [
      "6\n",
      "12\n"
     ]
    }
   ],
   "source": [
    "# eg.1\n",
    "print((lambda x : x * 2)(3))\n",
    "# eg.2\n",
    "print((lambda x,y: x * y)(3,4))"
   ]
  },
  {
   "cell_type": "markdown",
   "id": "88d7a8a2",
   "metadata": {},
   "source": [
    "## Scope\n",
    "\n",
    "Scope refers to the context in which an element of your code is visible to the rest of the program.\n",
    "\n",
    "- The scope refers to the accessibility of a variable or object(function) in the program. The scope of a variable determines the part of the program in which it can be accessed or used. In simple terms, the scope of a variable is the region of the program in which that variable can access.\n",
    "\n",
    "In Python programming, there are four different levels of scope and they are as follows.\n",
    "\n",
    "Python variable scope defines the hierarchy in which we search for a variable. \n",
    "\n",
    "A variable is first searched in Local, followed by Enclosed, then global and finally built-in.\n",
    "\n",
    "- Local \n",
    "- Enclosing \n",
    "- Global\n",
    "- Built-in\n",
    "\n",
    "<img src = \"../img/scopes.png\"\n",
    "     height= \"400px\"\n",
    "width= \"720px\"> </br>\n",
    "\n",
    "### Local Scope \n",
    "\n",
    "A variable that is created inside a function is said to be under the local scope. That means the variable is accessible only inside the function in which it was created.\n",
    "\n",
    "Let's look at this example:"
   ]
  },
  {
   "cell_type": "code",
   "execution_count": 61,
   "id": "28b244df",
   "metadata": {},
   "outputs": [],
   "source": [
    "def greet():\n",
    "    message = \"Good Morning\"\n",
    "    print(message)\n",
    "\n",
    "\n",
    "\n",
    "def wish( ):\n",
    "    print(message)\n",
    "    print(\"Happy Birthday\")"
   ]
  },
  {
   "cell_type": "code",
   "execution_count": 62,
   "id": "305f248c",
   "metadata": {},
   "outputs": [
    {
     "name": "stdout",
     "output_type": "stream",
     "text": [
      "Good Morning\n"
     ]
    },
    {
     "ename": "NameError",
     "evalue": "name 'message' is not defined",
     "output_type": "error",
     "traceback": [
      "\u001b[0;31m---------------------------------------------------------------------------\u001b[0m",
      "\u001b[0;31mNameError\u001b[0m                                 Traceback (most recent call last)",
      "\u001b[0;32m/var/folders/vj/vn07m31j1n7fs08rkytvgvj80000gn/T/ipykernel_29766/2180262031.py\u001b[0m in \u001b[0;36m<module>\u001b[0;34m\u001b[0m\n\u001b[1;32m      1\u001b[0m \u001b[0mgreet\u001b[0m\u001b[0;34m(\u001b[0m\u001b[0;34m)\u001b[0m\u001b[0;34m\u001b[0m\u001b[0;34m\u001b[0m\u001b[0m\n\u001b[0;32m----> 2\u001b[0;31m \u001b[0mwish\u001b[0m\u001b[0;34m(\u001b[0m\u001b[0;34m)\u001b[0m\u001b[0;34m\u001b[0m\u001b[0;34m\u001b[0m\u001b[0m\n\u001b[0m",
      "\u001b[0;32m/var/folders/vj/vn07m31j1n7fs08rkytvgvj80000gn/T/ipykernel_29766/1582075024.py\u001b[0m in \u001b[0;36mwish\u001b[0;34m()\u001b[0m\n\u001b[1;32m      6\u001b[0m \u001b[0;34m\u001b[0m\u001b[0m\n\u001b[1;32m      7\u001b[0m \u001b[0;32mdef\u001b[0m \u001b[0mwish\u001b[0m\u001b[0;34m(\u001b[0m \u001b[0;34m)\u001b[0m\u001b[0;34m:\u001b[0m\u001b[0;34m\u001b[0m\u001b[0;34m\u001b[0m\u001b[0m\n\u001b[0;32m----> 8\u001b[0;31m     \u001b[0mprint\u001b[0m\u001b[0;34m(\u001b[0m\u001b[0mmessage\u001b[0m\u001b[0;34m)\u001b[0m\u001b[0;34m\u001b[0m\u001b[0;34m\u001b[0m\u001b[0m\n\u001b[0m\u001b[1;32m      9\u001b[0m     \u001b[0mprint\u001b[0m\u001b[0;34m(\u001b[0m\u001b[0;34m\"Happy Birthday\"\u001b[0m\u001b[0;34m)\u001b[0m\u001b[0;34m\u001b[0m\u001b[0;34m\u001b[0m\u001b[0m\n\u001b[1;32m     10\u001b[0m \u001b[0;34m\u001b[0m\u001b[0m\n",
      "\u001b[0;31mNameError\u001b[0m: name 'message' is not defined"
     ]
    }
   ],
   "source": [
    "greet()\n",
    "\n",
    "# We will get an error\n",
    "wish()"
   ]
  },
  {
   "cell_type": "markdown",
   "id": "95483ef3",
   "metadata": {},
   "source": [
    "The error above is due to a variable scope issue. In the code, the variable `message` is defined within the `greet()` function. Therefore, it has local scope and is only accessible within the greet() function.\n",
    "\n",
    "In the `wish()` function, when you try to print the value of message, it results in an error because `message` is not defined within the scope of the `wish()` function. The `wish()` function does not have access to the variables defined within the `greet()` function or any other function for that matter."
   ]
  },
  {
   "cell_type": "markdown",
   "id": "cf19cec2",
   "metadata": {},
   "source": [
    "### Enclosed Scope\n",
    "\n",
    "An enclosing scope occurs when we have nested functions. When the variable is in the scope of the outside function, it means that the variable is in the enclosing scope of the function. Therefore, the variable is visible within the scope of the inner and outer functions. \n",
    "\n",
    "\n",
    "This means with nested functions, the inner function can access the variables of the outer function. The variables of the outer function are called as ***non-local variables*** inside the inner function, and they are said to be under the enclosed scope.\n",
    "\n",
    "\n",
    "### Let's look at this analogy\n",
    "\n",
    "Imagine a scenario where a baby is developing in its mother's womb. We can think of the ***baby as the inner function***. \n",
    "and the ***mother as the outer function.***\n",
    "\n",
    "The mother's provides the environment or scope within which the baby develops.\n",
    "\n",
    "The baby has access to everything within its environment. It can interact with the nutrients provided by the mother, receive oxygen through the placenta, and develop its organs and body parts.\n",
    "\n",
    "However, from the perspective of the ***mother (outer function)***, she does not have access to the baby (it's nutrients and so on...)\n",
    "\n",
    "The mother can only provide the necessary environment and resources for the baby's development but does not have direct control over the inner workings of the baby.\n",
    "\n",
    "Let's look at this example:"
   ]
  },
  {
   "cell_type": "code",
   "execution_count": 78,
   "id": "36bb986a",
   "metadata": {},
   "outputs": [
    {
     "name": "stdout",
     "output_type": "stream",
     "text": [
      "Printing var from inner_func(): 100\n",
      "Printing var from outer_func(): 100\n"
     ]
    }
   ],
   "source": [
    "def outer_func():\n",
    "    \n",
    "    # This block is the Local scope of outer_func()\n",
    "    var = 100  # A nonlocal var\n",
    "     \n",
    "    # It's also the enclosing scope of inner_func()\n",
    "    def inner_func():\n",
    "         \n",
    "        # This block is the Local scope of inner_func()\n",
    "         print(f\"Printing var from inner_func(): {var}\")\n",
    "\n",
    "    inner_func()\n",
    "\n",
    "    print(f\"Printing var from outer_func(): {var}\")\n",
    "\n",
    "outer_func()"
   ]
  },
  {
   "cell_type": "markdown",
   "id": "5f88861c",
   "metadata": {},
   "source": [
    "### Global Scope\n",
    "\n",
    "Global scope refers to the names of variables which are ***defined in the main body of a program.*** These are visible and accessed throughout the program. The variables or objects declared in the global scope are easily accessible to all functions within the program.\n",
    "\n",
    "Let's look at this example:"
   ]
  },
  {
   "cell_type": "code",
   "execution_count": 63,
   "id": "73db21eb",
   "metadata": {},
   "outputs": [
    {
     "name": "stdout",
     "output_type": "stream",
     "text": [
      "Hey Welcome to Python Programming!\n",
      "Hey Jerome\n"
     ]
    }
   ],
   "source": [
    "message = \"Hey\"\n",
    "\n",
    "def python_developer():\n",
    "    developer = \"Welcome to Python Programming!\"\n",
    "    print(message, developer)\n",
    "\n",
    "def developer_name(name):\n",
    "    print(message, name)\n",
    "\n",
    "python_developer()\n",
    "developer_name(\"Jerome\")"
   ]
  },
  {
   "cell_type": "markdown",
   "id": "660ee0fe",
   "metadata": {},
   "source": [
    "It is advisable to avoid global variables as much as possible. Why? Because they are easy to alter and can cause inconsistencies within your code.\n",
    "\n",
    "This doesn’t mean you should not use global variables at all. \n",
    "As a thumb rule, try to use those variables and objects in the global scope, which are meant to be explicitly used globally like functions and objects. "
   ]
  },
  {
   "cell_type": "code",
   "execution_count": 79,
   "id": "4a976262",
   "metadata": {},
   "outputs": [
    {
     "ename": "UnboundLocalError",
     "evalue": "local variable 'balance' referenced before assignment",
     "output_type": "error",
     "traceback": [
      "\u001b[0;31m---------------------------------------------------------------------------\u001b[0m",
      "\u001b[0;31mUnboundLocalError\u001b[0m                         Traceback (most recent call last)",
      "\u001b[0;32m/var/folders/vj/vn07m31j1n7fs08rkytvgvj80000gn/T/ipykernel_29766/864073950.py\u001b[0m in \u001b[0;36m<module>\u001b[0;34m\u001b[0m\n\u001b[1;32m      9\u001b[0m     \u001b[0mbalance\u001b[0m \u001b[0;34m+=\u001b[0m \u001b[0mamount\u001b[0m\u001b[0;34m\u001b[0m\u001b[0;34m\u001b[0m\u001b[0m\n\u001b[1;32m     10\u001b[0m \u001b[0;34m\u001b[0m\u001b[0m\n\u001b[0;32m---> 11\u001b[0;31m \u001b[0mdeposit\u001b[0m\u001b[0;34m(\u001b[0m\u001b[0;36m10.0\u001b[0m\u001b[0;34m)\u001b[0m\u001b[0;34m\u001b[0m\u001b[0;34m\u001b[0m\u001b[0m\n\u001b[0m\u001b[1;32m     12\u001b[0m \u001b[0mprint\u001b[0m\u001b[0;34m(\u001b[0m\u001b[0mbalance\u001b[0m\u001b[0;34m)\u001b[0m\u001b[0;34m\u001b[0m\u001b[0;34m\u001b[0m\u001b[0m\n",
      "\u001b[0;32m/var/folders/vj/vn07m31j1n7fs08rkytvgvj80000gn/T/ipykernel_29766/864073950.py\u001b[0m in \u001b[0;36mdeposit\u001b[0;34m(amount)\u001b[0m\n\u001b[1;32m      7\u001b[0m         \u001b[0mamount\u001b[0m \u001b[0;34m(\u001b[0m\u001b[0mnumber\u001b[0m\u001b[0;34m)\u001b[0m\u001b[0;34m:\u001b[0m \u001b[0mamount\u001b[0m \u001b[0mof\u001b[0m \u001b[0mmoney\u001b[0m \u001b[0mto\u001b[0m \u001b[0mdeposit\u001b[0m\u001b[0;34m\u001b[0m\u001b[0;34m\u001b[0m\u001b[0m\n\u001b[1;32m      8\u001b[0m     '''\n\u001b[0;32m----> 9\u001b[0;31m     \u001b[0mbalance\u001b[0m \u001b[0;34m+=\u001b[0m \u001b[0mamount\u001b[0m\u001b[0;34m\u001b[0m\u001b[0;34m\u001b[0m\u001b[0m\n\u001b[0m\u001b[1;32m     10\u001b[0m \u001b[0;34m\u001b[0m\u001b[0m\n\u001b[1;32m     11\u001b[0m \u001b[0mdeposit\u001b[0m\u001b[0;34m(\u001b[0m\u001b[0;36m10.0\u001b[0m\u001b[0;34m)\u001b[0m\u001b[0;34m\u001b[0m\u001b[0;34m\u001b[0m\u001b[0m\n",
      "\u001b[0;31mUnboundLocalError\u001b[0m: local variable 'balance' referenced before assignment"
     ]
    }
   ],
   "source": [
    "balance = 50.0\n",
    "\n",
    "def deposit(amount):\n",
    "    '''\n",
    "    deposits the amount into the bank account (balance)\n",
    "    params: \n",
    "        amount (number): amount of money to deposit\n",
    "    '''\n",
    "    balance += amount\n",
    "    \n",
    "deposit(10.0)\n",
    "print(balance)"
   ]
  },
  {
   "cell_type": "markdown",
   "id": "0fa19028",
   "metadata": {},
   "source": [
    "In Python, when you assign a value to a variable within a function, Python considers that variable as local to the function unless explicitly declared as global(using the global keyword). \n",
    "\n",
    "This means that if you try to modify a variable within a function without explicitly stating that it is a global variable, ***Python assumes it is a local variable and throws an error if it hasn't been defined within the function.***\n",
    "\n",
    "In your code, when you try to modify the `balance` variable within the `deposit()` function using  `balance += amount`, Python assumes that `balance` is a ***local variable*** within the function. However, it hasn't been defined within the function, resulting in the Error. "
   ]
  },
  {
   "cell_type": "markdown",
   "id": "3fe0c5cf",
   "metadata": {},
   "source": [
    "### Built-in Scope\n",
    "\n",
    "The built-in scope is the scope of built-in variables and keywords in the Python language library. It is the widest scope that exists!\n",
    "\n",
    "All the special reserved keywords fall under this scope. We can call the keywords anywhere within our program without having to define them before use.\n",
    "\n",
    "Examples of keywords include: \n",
    "\n",
    "<img src = \"../img/builtinscope.webp\"\n",
    "     height= \"400px\"\n",
    "width= \"720px\"> </br>\n"
   ]
  },
  {
   "cell_type": "code",
   "execution_count": null,
   "id": "e88a8d76",
   "metadata": {},
   "outputs": [],
   "source": []
  },
  {
   "cell_type": "markdown",
   "id": "06f44888",
   "metadata": {},
   "source": [
    "\n"
   ]
  }
 ],
 "metadata": {
  "kernelspec": {
   "display_name": "Python 3 (ipykernel)",
   "language": "python",
   "name": "python3"
  },
  "language_info": {
   "codemirror_mode": {
    "name": "ipython",
    "version": 3
   },
   "file_extension": ".py",
   "mimetype": "text/x-python",
   "name": "python",
   "nbconvert_exporter": "python",
   "pygments_lexer": "ipython3",
   "version": "3.9.13"
  }
 },
 "nbformat": 4,
 "nbformat_minor": 5
}
